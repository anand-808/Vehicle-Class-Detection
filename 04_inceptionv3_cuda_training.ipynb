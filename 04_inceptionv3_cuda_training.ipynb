{
 "cells": [
  {
   "cell_type": "code",
   "execution_count": 1,
   "id": "f306137d",
   "metadata": {},
   "outputs": [],
   "source": [
    "import numpy as np\n",
    "import pandas as pd\n",
    "import torch\n",
    "import torch.nn as nn\n",
    "import torch.optim as optim\n",
    "from torchvision import models, transforms\n",
    "from torch.utils.data import DataLoader, Dataset\n",
    "from sklearn.model_selection import train_test_split\n",
    "from PIL import Image\n",
    "import os\n",
    "from tqdm import tqdm \n",
    "from sklearn.preprocessing import LabelEncoder"
   ]
  },
  {
   "cell_type": "code",
   "execution_count": 2,
   "id": "6f0ea24e",
   "metadata": {},
   "outputs": [
    {
     "name": "stdout",
     "output_type": "stream",
     "text": [
      "Using device: cuda\n"
     ]
    }
   ],
   "source": [
    "# Set device (GPU/CPU)\n",
    "device = torch.device(\"cuda\" if torch.cuda.is_available() else \"cpu\")\n",
    "print(f'Using device: {device}')"
   ]
  },
  {
   "cell_type": "code",
   "execution_count": 3,
   "id": "ea36378b",
   "metadata": {},
   "outputs": [],
   "source": [
    "# Custom dataset class with label encoding\n",
    "class VehicleDataset(Dataset):\n",
    "    def __init__(self, dataframe, transform=None):\n",
    "        self.dataframe = dataframe\n",
    "        self.transform = transform\n",
    "        \n",
    "        # Initialize label encoder\n",
    "        self.label_encoder = LabelEncoder()\n",
    "        self.dataframe['Label'] = self.label_encoder.fit_transform(self.dataframe['Label'])\n",
    "\n",
    "        # Store mapping of encoded labels to original labels\n",
    "        self.idx_to_label = {idx: label for idx, label in enumerate(self.label_encoder.classes_)}\n",
    "\n",
    "    def __len__(self):\n",
    "        return len(self.dataframe)\n",
    "\n",
    "    def __getitem__(self, idx):\n",
    "        img_path = self.dataframe.iloc[idx]['Filepath']\n",
    "        \n",
    "        try:\n",
    "            image = Image.open(img_path).convert('RGB')\n",
    "        except Exception as e:\n",
    "            print(f\"Error loading image {img_path}: {e}\")\n",
    "            return self.__getitem__((idx + 1) % len(self.dataframe))\n",
    "        \n",
    "        label = self.dataframe.iloc[idx]['Label']\n",
    "        \n",
    "        if self.transform:\n",
    "            image = self.transform(image)\n",
    "        \n",
    "        return image, label\n",
    "\n",
    "    def get_class_names(self):\n",
    "        return list(self.idx_to_label.values())"
   ]
  },
  {
   "cell_type": "code",
   "execution_count": 4,
   "id": "3bcdcc5d",
   "metadata": {},
   "outputs": [],
   "source": [
    "# Ensure directories exist\n",
    "os.makedirs('E:/Vehicle/Cuda/models', exist_ok=True)\n",
    "os.makedirs('E:/Vehicle/Cuda/results', exist_ok=True)"
   ]
  },
  {
   "cell_type": "code",
   "execution_count": 5,
   "id": "035f3aa2",
   "metadata": {},
   "outputs": [],
   "source": [
    "# Load data\n",
    "train_df = pd.read_csv('E:/Vehicle/train_df.csv')\n",
    "test_df = pd.read_csv('E:/Vehicle/test_df.csv')"
   ]
  },
  {
   "cell_type": "code",
   "execution_count": 6,
   "id": "0743d216",
   "metadata": {},
   "outputs": [],
   "source": [
    "\n",
    "# Define transformations\n",
    "transform = transforms.Compose([\n",
    "    transforms.Resize((299, 299)),\n",
    "    transforms.ToTensor(),\n",
    "    transforms.Normalize(mean=[0.485, 0.456, 0.406], std=[0.229, 0.224, 0.225])\n",
    "])"
   ]
  },
  {
   "cell_type": "code",
   "execution_count": 7,
   "id": "9de67920",
   "metadata": {},
   "outputs": [],
   "source": [
    "# Create datasets and dataloaders\n",
    "train_dataset = VehicleDataset(train_df, transform=transform)\n",
    "test_dataset = VehicleDataset(test_df, transform=transform)\n",
    "\n",
    "train_loader = DataLoader(train_dataset, batch_size=32, shuffle=True)\n",
    "test_loader = DataLoader(test_dataset, batch_size=32, shuffle=False)\n"
   ]
  },
  {
   "cell_type": "code",
   "execution_count": 8,
   "id": "6f91b804",
   "metadata": {},
   "outputs": [
    {
     "name": "stderr",
     "output_type": "stream",
     "text": [
      "C:\\Users\\anand\\anaconda3\\Lib\\site-packages\\torchvision\\models\\_utils.py:208: UserWarning: The parameter 'pretrained' is deprecated since 0.13 and may be removed in the future, please use 'weights' instead.\n",
      "  warnings.warn(\n",
      "C:\\Users\\anand\\anaconda3\\Lib\\site-packages\\torchvision\\models\\_utils.py:223: UserWarning: Arguments other than a weight enum or `None` for 'weights' are deprecated since 0.13 and may be removed in the future. The current behavior is equivalent to passing `weights=Inception_V3_Weights.IMAGENET1K_V1`. You can also use `weights=Inception_V3_Weights.DEFAULT` to get the most up-to-date weights.\n",
      "  warnings.warn(msg)\n"
     ]
    }
   ],
   "source": [
    "# Load pre-trained InceptionV3 model\n",
    "model = models.inception_v3(pretrained=True)\n",
    "num_ftrs = model.fc.in_features\n",
    "model.fc = nn.Sequential(\n",
    "    nn.Linear(num_ftrs, 128),\n",
    "    nn.ReLU(),\n",
    "    nn.Linear(128, 5),  # Adjust output classes based on your dataset\n",
    "    nn.LogSoftmax(dim=1)\n",
    ")\n",
    "model = model.to(device)"
   ]
  },
  {
   "cell_type": "code",
   "execution_count": 9,
   "id": "ac6e4d44",
   "metadata": {},
   "outputs": [],
   "source": [
    "# Define loss function and optimizer\n",
    "criterion = nn.CrossEntropyLoss()\n",
    "optimizer = optim.Adam(model.parameters(), lr=0.001)\n"
   ]
  },
  {
   "cell_type": "code",
   "execution_count": 10,
   "id": "afa93f96",
   "metadata": {},
   "outputs": [
    {
     "name": "stderr",
     "output_type": "stream",
     "text": [
      "Epoch 1/30:   0%|                                                                               | 0/19 [00:00<?, ?it/s]C:\\Users\\anand\\AppData\\Local\\Temp\\ipykernel_1228\\4153834551.py:9: UserWarning: To copy construct from a tensor, it is recommended to use sourceTensor.clone().detach() or sourceTensor.clone().detach().requires_grad_(True), rather than torch.tensor(sourceTensor).\n",
      "  images, labels = images.to(device), torch.tensor(labels).to(device)\n",
      "Epoch 1/30:  26%|███████████▌                                | 5/19 [01:19<03:23, 14.52s/it, accuracy=28.1, loss=0.412]"
     ]
    },
    {
     "name": "stdout",
     "output_type": "stream",
     "text": [
      "Error loading image E:\\Vehicle\\Vehicle_5_classes_sample\\Bus\\20210518_14_58_52_000_RMkLr8rWJDMBfnDv6WRtqfoMLT83_F_3264_2448.jpg: image file is truncated (111 bytes not processed)\n"
     ]
    },
    {
     "name": "stderr",
     "output_type": "stream",
     "text": [
      "Epoch 1/30:  37%|████████████████▏                           | 7/19 [01:45<02:45, 13.77s/it, accuracy=31.7, loss=0.568]"
     ]
    },
    {
     "name": "stdout",
     "output_type": "stream",
     "text": [
      "Error loading image E:\\Vehicle\\Vehicle_5_classes_sample\\Truck\\Datacluster Truck (123).jpg: image file is truncated (8 bytes not processed)\n"
     ]
    },
    {
     "name": "stderr",
     "output_type": "stream",
     "text": [
      "Epoch 1/30:  47%|████████████████████▊                       | 9/19 [02:11<02:13, 13.39s/it, accuracy=33.7, loss=0.717]"
     ]
    },
    {
     "name": "stdout",
     "output_type": "stream",
     "text": [
      "Error loading image E:\\Vehicle\\Vehicle_5_classes_sample\\Auto\\Datacluster Auto (61).jpg: image file is truncated (43 bytes not processed)\n"
     ]
    },
    {
     "name": "stderr",
     "output_type": "stream",
     "text": [
      "Epoch 1/30:  58%|████████████████████████▉                  | 11/19 [02:48<02:09, 16.23s/it, accuracy=35.8, loss=0.854]"
     ]
    },
    {
     "name": "stdout",
     "output_type": "stream",
     "text": [
      "Error loading image E:\\Vehicle\\Vehicle_5_classes_sample\\Tempo Traveller\\20210517_06_39_54_000_bsfUf1M1E9bMsvY4ENiWwUWjDQp2_F_4160_3120.jpg: image file is truncated (15 bytes not processed)\n"
     ]
    },
    {
     "name": "stderr",
     "output_type": "stream",
     "text": [
      "Epoch 1/30:  68%|█████████████████████████████▍             | 13/19 [03:25<01:41, 16.98s/it, accuracy=37.3, loss=0.987]"
     ]
    },
    {
     "name": "stdout",
     "output_type": "stream",
     "text": [
      "Error loading image E:\\Vehicle\\Vehicle_5_classes_sample\\Tempo Traveller\\20210508_10_11_26_000_bsfUf1M1E9bMsvY4ENiWwUWjDQp2_F_4160_3120.jpg: image file is truncated (39 bytes not processed)\n"
     ]
    },
    {
     "name": "stderr",
     "output_type": "stream",
     "text": [
      "                                                                                                                       \r"
     ]
    },
    {
     "name": "stdout",
     "output_type": "stream",
     "text": [
      "Epoch [1/30], Loss: 1.3696, Accuracy: 41.34%\n"
     ]
    },
    {
     "name": "stderr",
     "output_type": "stream",
     "text": [
      "Epoch 2/30:  58%|████████████████████████▉                  | 11/19 [02:22<01:46, 13.28s/it, accuracy=59.1, loss=0.666]"
     ]
    },
    {
     "name": "stdout",
     "output_type": "stream",
     "text": [
      "Error loading image E:\\Vehicle\\Vehicle_5_classes_sample\\Auto\\Datacluster Auto (61).jpg: image file is truncated (43 bytes not processed)\n",
      "Error loading image E:\\Vehicle\\Vehicle_5_classes_sample\\Tempo Traveller\\20210508_10_11_26_000_bsfUf1M1E9bMsvY4ENiWwUWjDQp2_F_4160_3120.jpg: image file is truncated (39 bytes not processed)\n"
     ]
    },
    {
     "name": "stderr",
     "output_type": "stream",
     "text": [
      "Epoch 2/30:  89%|███████████████████████████████████████▎    | 17/19 [03:40<00:26, 13.07s/it, accuracy=59.4, loss=1.02]"
     ]
    },
    {
     "name": "stdout",
     "output_type": "stream",
     "text": [
      "Error loading image E:\\Vehicle\\Vehicle_5_classes_sample\\Truck\\Datacluster Truck (123).jpg: image file is truncated (8 bytes not processed)\n",
      "Error loading image E:\\Vehicle\\Vehicle_5_classes_sample\\Tempo Traveller\\20210517_06_39_54_000_bsfUf1M1E9bMsvY4ENiWwUWjDQp2_F_4160_3120.jpg: image file is truncated (15 bytes not processed)\n"
     ]
    },
    {
     "name": "stderr",
     "output_type": "stream",
     "text": [
      "Epoch 2/30:  95%|█████████████████████████████████████████▋  | 18/19 [03:53<00:13, 13.01s/it, accuracy=59.2, loss=1.07]"
     ]
    },
    {
     "name": "stdout",
     "output_type": "stream",
     "text": [
      "Error loading image E:\\Vehicle\\Vehicle_5_classes_sample\\Bus\\20210518_14_58_52_000_RMkLr8rWJDMBfnDv6WRtqfoMLT83_F_3264_2448.jpg: image file is truncated (111 bytes not processed)\n"
     ]
    },
    {
     "name": "stderr",
     "output_type": "stream",
     "text": [
      "                                                                                                                       \r"
     ]
    },
    {
     "name": "stdout",
     "output_type": "stream",
     "text": [
      "Epoch [2/30], Loss: 1.1243, Accuracy: 59.16%\n"
     ]
    },
    {
     "name": "stderr",
     "output_type": "stream",
     "text": [
      "Epoch 3/30:   0%|                                                                               | 0/19 [00:00<?, ?it/s]"
     ]
    },
    {
     "name": "stdout",
     "output_type": "stream",
     "text": [
      "Error loading image E:\\Vehicle\\Vehicle_5_classes_sample\\Auto\\Datacluster Auto (61).jpg: image file is truncated (43 bytes not processed)\n"
     ]
    },
    {
     "name": "stderr",
     "output_type": "stream",
     "text": [
      "Epoch 3/30:  11%|████▌                                      | 2/19 [00:25<03:36, 12.72s/it, accuracy=76.6, loss=0.0866]"
     ]
    },
    {
     "name": "stdout",
     "output_type": "stream",
     "text": [
      "Error loading image E:\\Vehicle\\Vehicle_5_classes_sample\\Tempo Traveller\\20210508_10_11_26_000_bsfUf1M1E9bMsvY4ENiWwUWjDQp2_F_4160_3120.jpg: image file is truncated (39 bytes not processed)\n"
     ]
    },
    {
     "name": "stderr",
     "output_type": "stream",
     "text": [
      "Epoch 3/30:  37%|████████████████▏                           | 7/19 [01:28<02:30, 12.53s/it, accuracy=74.6, loss=0.306]"
     ]
    },
    {
     "name": "stdout",
     "output_type": "stream",
     "text": [
      "Error loading image E:\\Vehicle\\Vehicle_5_classes_sample\\Tempo Traveller\\20210517_06_39_54_000_bsfUf1M1E9bMsvY4ENiWwUWjDQp2_F_4160_3120.jpg: image file is truncated (15 bytes not processed)\n"
     ]
    },
    {
     "name": "stderr",
     "output_type": "stream",
     "text": [
      "Epoch 3/30:  63%|███████████████████████████▏               | 12/19 [02:29<01:26, 12.30s/it, accuracy=72.9, loss=0.524]"
     ]
    },
    {
     "name": "stdout",
     "output_type": "stream",
     "text": [
      "Error loading image E:\\Vehicle\\Vehicle_5_classes_sample\\Truck\\Datacluster Truck (123).jpg: image file is truncated (8 bytes not processed)\n"
     ]
    },
    {
     "name": "stderr",
     "output_type": "stream",
     "text": [
      "Epoch 3/30:  84%|████████████████████████████████████▏      | 16/19 [03:20<00:37, 12.56s/it, accuracy=71.5, loss=0.704]"
     ]
    },
    {
     "name": "stdout",
     "output_type": "stream",
     "text": [
      "Error loading image E:\\Vehicle\\Vehicle_5_classes_sample\\Bus\\20210518_14_58_52_000_RMkLr8rWJDMBfnDv6WRtqfoMLT83_F_3264_2448.jpg: image file is truncated (111 bytes not processed)\n"
     ]
    },
    {
     "name": "stderr",
     "output_type": "stream",
     "text": [
      "                                                                                                                       \r"
     ]
    },
    {
     "name": "stdout",
     "output_type": "stream",
     "text": [
      "Epoch [3/30], Loss: 0.8429, Accuracy: 70.42%\n"
     ]
    },
    {
     "name": "stderr",
     "output_type": "stream",
     "text": [
      "Epoch 4/30:   5%|██▎                                          | 1/19 [00:13<04:06, 13.69s/it, accuracy=75, loss=0.0366]"
     ]
    },
    {
     "name": "stdout",
     "output_type": "stream",
     "text": [
      "Error loading image E:\\Vehicle\\Vehicle_5_classes_sample\\Auto\\Datacluster Auto (61).jpg: image file is truncated (43 bytes not processed)\n"
     ]
    },
    {
     "name": "stderr",
     "output_type": "stream",
     "text": [
      "Epoch 4/30:  37%|████████████████▏                           | 7/19 [01:29<02:30, 12.52s/it, accuracy=75.9, loss=0.272]"
     ]
    },
    {
     "name": "stdout",
     "output_type": "stream",
     "text": [
      "Error loading image E:\\Vehicle\\Vehicle_5_classes_sample\\Truck\\Datacluster Truck (123).jpg: image file is truncated (8 bytes not processed)\n"
     ]
    },
    {
     "name": "stderr",
     "output_type": "stream",
     "text": [
      "Epoch 4/30:  58%|█████████████████████████▍                  | 11/19 [02:18<01:38, 12.31s/it, accuracy=75.9, loss=0.42]"
     ]
    },
    {
     "name": "stdout",
     "output_type": "stream",
     "text": [
      "Error loading image E:\\Vehicle\\Vehicle_5_classes_sample\\Tempo Traveller\\20210508_10_11_26_000_bsfUf1M1E9bMsvY4ENiWwUWjDQp2_F_4160_3120.jpg: image file is truncated (39 bytes not processed)\n"
     ]
    },
    {
     "name": "stderr",
     "output_type": "stream",
     "text": [
      "Epoch 4/30:  79%|███████████████████████████████████▌         | 15/19 [03:07<00:49, 12.32s/it, accuracy=76, loss=0.553]"
     ]
    },
    {
     "name": "stdout",
     "output_type": "stream",
     "text": [
      "Error loading image E:\\Vehicle\\Vehicle_5_classes_sample\\Tempo Traveller\\20210517_06_39_54_000_bsfUf1M1E9bMsvY4ENiWwUWjDQp2_F_4160_3120.jpg: image file is truncated (15 bytes not processed)\n"
     ]
    },
    {
     "name": "stderr",
     "output_type": "stream",
     "text": [
      "Epoch 4/30:  89%|██████████████████████████████████████▍    | 17/19 [03:33<00:25, 12.62s/it, accuracy=75.4, loss=0.639]"
     ]
    },
    {
     "name": "stdout",
     "output_type": "stream",
     "text": [
      "Error loading image E:\\Vehicle\\Vehicle_5_classes_sample\\Bus\\20210518_14_58_52_000_RMkLr8rWJDMBfnDv6WRtqfoMLT83_F_3264_2448.jpg: image file is truncated (111 bytes not processed)\n"
     ]
    },
    {
     "name": "stderr",
     "output_type": "stream",
     "text": [
      "                                                                                                                       \r"
     ]
    },
    {
     "name": "stdout",
     "output_type": "stream",
     "text": [
      "Epoch [4/30], Loss: 0.7491, Accuracy: 74.45%\n"
     ]
    },
    {
     "name": "stderr",
     "output_type": "stream",
     "text": [
      "Epoch 5/30:  26%|███████████▌                                | 5/19 [01:01<02:53, 12.36s/it, accuracy=86.2, loss=0.118]"
     ]
    },
    {
     "name": "stdout",
     "output_type": "stream",
     "text": [
      "Error loading image E:\\Vehicle\\Vehicle_5_classes_sample\\Tempo Traveller\\20210508_10_11_26_000_bsfUf1M1E9bMsvY4ENiWwUWjDQp2_F_4160_3120.jpg: image file is truncated (39 bytes not processed)\n"
     ]
    },
    {
     "name": "stderr",
     "output_type": "stream",
     "text": [
      "Epoch 5/30:  47%|████████████████████▊                       | 9/19 [01:51<02:04, 12.47s/it, accuracy=81.2, loss=0.273]"
     ]
    },
    {
     "name": "stdout",
     "output_type": "stream",
     "text": [
      "Error loading image E:\\Vehicle\\Vehicle_5_classes_sample\\Bus\\20210518_14_58_52_000_RMkLr8rWJDMBfnDv6WRtqfoMLT83_F_3264_2448.jpg: image file is truncated (111 bytes not processed)\n"
     ]
    },
    {
     "name": "stderr",
     "output_type": "stream",
     "text": [
      "Epoch 5/30:  79%|█████████████████████████████████▉         | 15/19 [03:06<00:49, 12.40s/it, accuracy=81.2, loss=0.448]"
     ]
    },
    {
     "name": "stdout",
     "output_type": "stream",
     "text": [
      "Error loading image E:\\Vehicle\\Vehicle_5_classes_sample\\Auto\\Datacluster Auto (61).jpg: image file is truncated (43 bytes not processed)\n"
     ]
    },
    {
     "name": "stderr",
     "output_type": "stream",
     "text": [
      "Epoch 5/30:  84%|████████████████████████████████████▏      | 16/19 [03:19<00:37, 12.36s/it, accuracy=81.4, loss=0.469]"
     ]
    },
    {
     "name": "stdout",
     "output_type": "stream",
     "text": [
      "Error loading image E:\\Vehicle\\Vehicle_5_classes_sample\\Tempo Traveller\\20210517_06_39_54_000_bsfUf1M1E9bMsvY4ENiWwUWjDQp2_F_4160_3120.jpg: image file is truncated (15 bytes not processed)\n",
      "Error loading image E:\\Vehicle\\Vehicle_5_classes_sample\\Truck\\Datacluster Truck (123).jpg: image file is truncated (8 bytes not processed)\n"
     ]
    },
    {
     "name": "stderr",
     "output_type": "stream",
     "text": [
      "                                                                                                                       \r"
     ]
    },
    {
     "name": "stdout",
     "output_type": "stream",
     "text": [
      "Epoch [5/30], Loss: 0.5499, Accuracy: 81.34%\n"
     ]
    },
    {
     "name": "stderr",
     "output_type": "stream",
     "text": [
      "Epoch 6/30:   0%|                                                                               | 0/19 [00:00<?, ?it/s]"
     ]
    },
    {
     "name": "stdout",
     "output_type": "stream",
     "text": [
      "Error loading image E:\\Vehicle\\Vehicle_5_classes_sample\\Tempo Traveller\\20210508_10_11_26_000_bsfUf1M1E9bMsvY4ENiWwUWjDQp2_F_4160_3120.jpg: image file is truncated (39 bytes not processed)\n"
     ]
    },
    {
     "name": "stderr",
     "output_type": "stream",
     "text": [
      "Epoch 6/30:  16%|██████▊                                    | 3/19 [00:37<03:22, 12.64s/it, accuracy=85.4, loss=0.0684]"
     ]
    },
    {
     "name": "stdout",
     "output_type": "stream",
     "text": [
      "Error loading image E:\\Vehicle\\Vehicle_5_classes_sample\\Bus\\20210518_14_58_52_000_RMkLr8rWJDMBfnDv6WRtqfoMLT83_F_3264_2448.jpg: image file is truncated (111 bytes not processed)\n"
     ]
    },
    {
     "name": "stderr",
     "output_type": "stream",
     "text": [
      "Epoch 6/30:  21%|█████████                                  | 4/19 [00:50<03:08, 12.58s/it, accuracy=85.9, loss=0.0878]"
     ]
    },
    {
     "name": "stdout",
     "output_type": "stream",
     "text": [
      "Error loading image E:\\Vehicle\\Vehicle_5_classes_sample\\Auto\\Datacluster Auto (61).jpg: image file is truncated (43 bytes not processed)\n",
      "Error loading image E:\\Vehicle\\Vehicle_5_classes_sample\\Truck\\Datacluster Truck (123).jpg: image file is truncated (8 bytes not processed)\n"
     ]
    },
    {
     "name": "stderr",
     "output_type": "stream",
     "text": [
      "Epoch 6/30:  37%|████████████████▏                           | 7/19 [01:28<02:32, 12.74s/it, accuracy=87.9, loss=0.145]"
     ]
    },
    {
     "name": "stdout",
     "output_type": "stream",
     "text": [
      "Error loading image E:\\Vehicle\\Vehicle_5_classes_sample\\Tempo Traveller\\20210517_06_39_54_000_bsfUf1M1E9bMsvY4ENiWwUWjDQp2_F_4160_3120.jpg: image file is truncated (15 bytes not processed)\n"
     ]
    },
    {
     "name": "stderr",
     "output_type": "stream",
     "text": [
      "                                                                                                                       \r"
     ]
    },
    {
     "name": "stdout",
     "output_type": "stream",
     "text": [
      "Epoch [6/30], Loss: 0.3924, Accuracy: 86.89%\n"
     ]
    },
    {
     "name": "stderr",
     "output_type": "stream",
     "text": [
      "Epoch 7/30:  21%|█████████                                  | 4/19 [00:49<03:04, 12.30s/it, accuracy=92.2, loss=0.0568]"
     ]
    },
    {
     "name": "stdout",
     "output_type": "stream",
     "text": [
      "Error loading image E:\\Vehicle\\Vehicle_5_classes_sample\\Auto\\Datacluster Auto (61).jpg: image file is truncated (43 bytes not processed)\n"
     ]
    },
    {
     "name": "stderr",
     "output_type": "stream",
     "text": [
      "Epoch 7/30:  32%|██████████████▏                              | 6/19 [01:14<02:41, 12.39s/it, accuracy=87.5, loss=0.11]"
     ]
    },
    {
     "name": "stdout",
     "output_type": "stream",
     "text": [
      "Error loading image E:\\Vehicle\\Vehicle_5_classes_sample\\Tempo Traveller\\20210517_06_39_54_000_bsfUf1M1E9bMsvY4ENiWwUWjDQp2_F_4160_3120.jpg: image file is truncated (15 bytes not processed)\n"
     ]
    },
    {
     "name": "stderr",
     "output_type": "stream",
     "text": [
      "Epoch 7/30:  74%|███████████████████████████████▋           | 14/19 [02:54<01:01, 12.32s/it, accuracy=87.5, loss=0.281]"
     ]
    },
    {
     "name": "stdout",
     "output_type": "stream",
     "text": [
      "Error loading image E:\\Vehicle\\Vehicle_5_classes_sample\\Bus\\20210518_14_58_52_000_RMkLr8rWJDMBfnDv6WRtqfoMLT83_F_3264_2448.jpg: image file is truncated (111 bytes not processed)\n"
     ]
    },
    {
     "name": "stderr",
     "output_type": "stream",
     "text": [
      "Epoch 7/30:  79%|█████████████████████████████████▉         | 15/19 [03:06<00:49, 12.48s/it, accuracy=87.7, loss=0.294]"
     ]
    },
    {
     "name": "stdout",
     "output_type": "stream",
     "text": [
      "Error loading image E:\\Vehicle\\Vehicle_5_classes_sample\\Truck\\Datacluster Truck (123).jpg: image file is truncated (8 bytes not processed)\n"
     ]
    },
    {
     "name": "stderr",
     "output_type": "stream",
     "text": [
      "Epoch 7/30:  84%|████████████████████████████████████▏      | 16/19 [03:19<00:37, 12.54s/it, accuracy=87.5, loss=0.322]"
     ]
    },
    {
     "name": "stdout",
     "output_type": "stream",
     "text": [
      "Error loading image E:\\Vehicle\\Vehicle_5_classes_sample\\Tempo Traveller\\20210508_10_11_26_000_bsfUf1M1E9bMsvY4ENiWwUWjDQp2_F_4160_3120.jpg: image file is truncated (39 bytes not processed)\n"
     ]
    },
    {
     "name": "stderr",
     "output_type": "stream",
     "text": [
      "                                                                                                                       \r"
     ]
    },
    {
     "name": "stdout",
     "output_type": "stream",
     "text": [
      "Epoch [7/30], Loss: 0.4144, Accuracy: 86.89%\n"
     ]
    },
    {
     "name": "stderr",
     "output_type": "stream",
     "text": [
      "Epoch 8/30:  37%|████████████████▏                           | 7/19 [01:27<02:31, 12.60s/it, accuracy=88.4, loss=0.138]"
     ]
    },
    {
     "name": "stdout",
     "output_type": "stream",
     "text": [
      "Error loading image E:\\Vehicle\\Vehicle_5_classes_sample\\Tempo Traveller\\20210517_06_39_54_000_bsfUf1M1E9bMsvY4ENiWwUWjDQp2_F_4160_3120.jpg: image file is truncated (15 bytes not processed)\n"
     ]
    },
    {
     "name": "stderr",
     "output_type": "stream",
     "text": [
      "Epoch 8/30:  42%|██████████████████▌                         | 8/19 [01:39<02:18, 12.56s/it, accuracy=88.7, loss=0.158]"
     ]
    },
    {
     "name": "stdout",
     "output_type": "stream",
     "text": [
      "Error loading image E:\\Vehicle\\Vehicle_5_classes_sample\\Auto\\Datacluster Auto (61).jpg: image file is truncated (43 bytes not processed)\n"
     ]
    },
    {
     "name": "stderr",
     "output_type": "stream",
     "text": [
      "Epoch 8/30:  63%|███████████████████████████▏               | 12/19 [02:29<01:26, 12.41s/it, accuracy=86.7, loss=0.291]"
     ]
    },
    {
     "name": "stdout",
     "output_type": "stream",
     "text": [
      "Error loading image E:\\Vehicle\\Vehicle_5_classes_sample\\Bus\\20210518_14_58_52_000_RMkLr8rWJDMBfnDv6WRtqfoMLT83_F_3264_2448.jpg: image file is truncated (111 bytes not processed)\n"
     ]
    },
    {
     "name": "stderr",
     "output_type": "stream",
     "text": [
      "Epoch 8/30:  74%|███████████████████████████████▋           | 14/19 [02:55<01:03, 12.62s/it, accuracy=86.8, loss=0.331]"
     ]
    },
    {
     "name": "stdout",
     "output_type": "stream",
     "text": [
      "Error loading image E:\\Vehicle\\Vehicle_5_classes_sample\\Truck\\Datacluster Truck (123).jpg: image file is truncated (8 bytes not processed)\n"
     ]
    },
    {
     "name": "stderr",
     "output_type": "stream",
     "text": [
      "Epoch 8/30:  79%|██████████████████████████████████▋         | 15/19 [03:07<00:50, 12.57s/it, accuracy=86.7, loss=0.35]"
     ]
    },
    {
     "name": "stdout",
     "output_type": "stream",
     "text": [
      "Error loading image E:\\Vehicle\\Vehicle_5_classes_sample\\Tempo Traveller\\20210508_10_11_26_000_bsfUf1M1E9bMsvY4ENiWwUWjDQp2_F_4160_3120.jpg: image file is truncated (39 bytes not processed)\n"
     ]
    },
    {
     "name": "stderr",
     "output_type": "stream",
     "text": [
      "                                                                                                                       \r"
     ]
    },
    {
     "name": "stdout",
     "output_type": "stream",
     "text": [
      "Epoch [8/30], Loss: 0.4862, Accuracy: 84.54%\n"
     ]
    },
    {
     "name": "stderr",
     "output_type": "stream",
     "text": [
      "Epoch 9/30:   5%|██▏                                       | 1/19 [00:12<03:44, 12.46s/it, accuracy=96.9, loss=0.00918]"
     ]
    },
    {
     "name": "stdout",
     "output_type": "stream",
     "text": [
      "Error loading image E:\\Vehicle\\Vehicle_5_classes_sample\\Tempo Traveller\\20210517_06_39_54_000_bsfUf1M1E9bMsvY4ENiWwUWjDQp2_F_4160_3120.jpg: image file is truncated (15 bytes not processed)\n"
     ]
    },
    {
     "name": "stderr",
     "output_type": "stream",
     "text": [
      "Epoch 9/30:  21%|█████████                                  | 4/19 [00:50<03:09, 12.61s/it, accuracy=89.8, loss=0.0712]"
     ]
    },
    {
     "name": "stdout",
     "output_type": "stream",
     "text": [
      "Error loading image E:\\Vehicle\\Vehicle_5_classes_sample\\Bus\\20210518_14_58_52_000_RMkLr8rWJDMBfnDv6WRtqfoMLT83_F_3264_2448.jpg: image file is truncated (111 bytes not processed)\n"
     ]
    },
    {
     "name": "stderr",
     "output_type": "stream",
     "text": [
      "Epoch 9/30:  37%|████████████████▏                           | 7/19 [01:28<02:30, 12.57s/it, accuracy=87.9, loss=0.152]"
     ]
    },
    {
     "name": "stdout",
     "output_type": "stream",
     "text": [
      "Error loading image E:\\Vehicle\\Vehicle_5_classes_sample\\Truck\\Datacluster Truck (123).jpg: image file is truncated (8 bytes not processed)\n"
     ]
    },
    {
     "name": "stderr",
     "output_type": "stream",
     "text": [
      "Epoch 9/30:  63%|███████████████████████████▏               | 12/19 [02:29<01:26, 12.37s/it, accuracy=86.7, loss=0.272]"
     ]
    },
    {
     "name": "stdout",
     "output_type": "stream",
     "text": [
      "Error loading image E:\\Vehicle\\Vehicle_5_classes_sample\\Tempo Traveller\\20210508_10_11_26_000_bsfUf1M1E9bMsvY4ENiWwUWjDQp2_F_4160_3120.jpg: image file is truncated (39 bytes not processed)\n"
     ]
    },
    {
     "name": "stderr",
     "output_type": "stream",
     "text": [
      "Epoch 9/30:  89%|██████████████████████████████████████▍    | 17/19 [03:32<00:24, 12.38s/it, accuracy=87.1, loss=0.371]"
     ]
    },
    {
     "name": "stdout",
     "output_type": "stream",
     "text": [
      "Error loading image E:\\Vehicle\\Vehicle_5_classes_sample\\Auto\\Datacluster Auto (61).jpg: image file is truncated (43 bytes not processed)\n"
     ]
    },
    {
     "name": "stderr",
     "output_type": "stream",
     "text": [
      "                                                                                                                       \r"
     ]
    },
    {
     "name": "stdout",
     "output_type": "stream",
     "text": [
      "Epoch [9/30], Loss: 0.4098, Accuracy: 86.72%\n"
     ]
    },
    {
     "name": "stderr",
     "output_type": "stream",
     "text": [
      "Epoch 10/30:   5%|██▏                                       | 1/19 [00:11<03:33, 11.86s/it, accuracy=90.6, loss=0.0141]"
     ]
    },
    {
     "name": "stdout",
     "output_type": "stream",
     "text": [
      "Error loading image E:\\Vehicle\\Vehicle_5_classes_sample\\Tempo Traveller\\20210508_10_11_26_000_bsfUf1M1E9bMsvY4ENiWwUWjDQp2_F_4160_3120.jpg: image file is truncated (39 bytes not processed)\n"
     ]
    },
    {
     "name": "stderr",
     "output_type": "stream",
     "text": [
      "Epoch 10/30:  16%|██████▋                                   | 3/19 [00:37<03:24, 12.78s/it, accuracy=93.8, loss=0.0372]"
     ]
    },
    {
     "name": "stdout",
     "output_type": "stream",
     "text": [
      "Error loading image E:\\Vehicle\\Vehicle_5_classes_sample\\Tempo Traveller\\20210517_06_39_54_000_bsfUf1M1E9bMsvY4ENiWwUWjDQp2_F_4160_3120.jpg: image file is truncated (15 bytes not processed)\n"
     ]
    },
    {
     "name": "stderr",
     "output_type": "stream",
     "text": [
      "Epoch 10/30:  53%|██████████████████████                    | 10/19 [02:08<01:54, 12.73s/it, accuracy=94.4, loss=0.105]"
     ]
    },
    {
     "name": "stdout",
     "output_type": "stream",
     "text": [
      "Error loading image E:\\Vehicle\\Vehicle_5_classes_sample\\Truck\\Datacluster Truck (123).jpg: image file is truncated (8 bytes not processed)\n",
      "Error loading image E:\\Vehicle\\Vehicle_5_classes_sample\\Auto\\Datacluster Auto (61).jpg: image file is truncated (43 bytes not processed)\n"
     ]
    },
    {
     "name": "stderr",
     "output_type": "stream",
     "text": [
      "Epoch 10/30:  84%|███████████████████████████████████▎      | 16/19 [03:22<00:37, 12.51s/it, accuracy=93.8, loss=0.173]"
     ]
    },
    {
     "name": "stdout",
     "output_type": "stream",
     "text": [
      "Error loading image E:\\Vehicle\\Vehicle_5_classes_sample\\Bus\\20210518_14_58_52_000_RMkLr8rWJDMBfnDv6WRtqfoMLT83_F_3264_2448.jpg: image file is truncated (111 bytes not processed)\n"
     ]
    },
    {
     "name": "stderr",
     "output_type": "stream",
     "text": [
      "                                                                                                                       \r"
     ]
    },
    {
     "name": "stdout",
     "output_type": "stream",
     "text": [
      "Epoch [10/30], Loss: 0.2066, Accuracy: 93.95%\n"
     ]
    },
    {
     "name": "stderr",
     "output_type": "stream",
     "text": [
      "Epoch 11/30:   0%|                                                                              | 0/19 [00:00<?, ?it/s]"
     ]
    },
    {
     "name": "stdout",
     "output_type": "stream",
     "text": [
      "Error loading image E:\\Vehicle\\Vehicle_5_classes_sample\\Bus\\20210518_14_58_52_000_RMkLr8rWJDMBfnDv6WRtqfoMLT83_F_3264_2448.jpg: image file is truncated (111 bytes not processed)\n"
     ]
    },
    {
     "name": "stderr",
     "output_type": "stream",
     "text": [
      "Epoch 11/30:  21%|████████▊                                 | 4/19 [00:50<03:09, 12.63s/it, accuracy=96.1, loss=0.0253]"
     ]
    },
    {
     "name": "stdout",
     "output_type": "stream",
     "text": [
      "Error loading image E:\\Vehicle\\Vehicle_5_classes_sample\\Auto\\Datacluster Auto (61).jpg: image file is truncated (43 bytes not processed)\n"
     ]
    },
    {
     "name": "stderr",
     "output_type": "stream",
     "text": [
      "Epoch 11/30:  63%|██████████████████████████▌               | 12/19 [02:30<01:27, 12.44s/it, accuracy=93.8, loss=0.121]"
     ]
    },
    {
     "name": "stdout",
     "output_type": "stream",
     "text": [
      "Error loading image E:\\Vehicle\\Vehicle_5_classes_sample\\Tempo Traveller\\20210517_06_39_54_000_bsfUf1M1E9bMsvY4ENiWwUWjDQp2_F_4160_3120.jpg: image file is truncated (15 bytes not processed)\n"
     ]
    },
    {
     "name": "stderr",
     "output_type": "stream",
     "text": [
      "Epoch 11/30:  68%|████████████████████████████▋             | 13/19 [02:42<01:14, 12.44s/it, accuracy=93.5, loss=0.132]"
     ]
    },
    {
     "name": "stdout",
     "output_type": "stream",
     "text": [
      "Error loading image E:\\Vehicle\\Vehicle_5_classes_sample\\Tempo Traveller\\20210508_10_11_26_000_bsfUf1M1E9bMsvY4ENiWwUWjDQp2_F_4160_3120.jpg: image file is truncated (39 bytes not processed)\n"
     ]
    },
    {
     "name": "stderr",
     "output_type": "stream",
     "text": [
      "Epoch 11/30:  74%|██████████████████████████████▉           | 14/19 [02:55<01:02, 12.56s/it, accuracy=93.8, loss=0.141]"
     ]
    },
    {
     "name": "stdout",
     "output_type": "stream",
     "text": [
      "Error loading image E:\\Vehicle\\Vehicle_5_classes_sample\\Truck\\Datacluster Truck (123).jpg: image file is truncated (8 bytes not processed)\n"
     ]
    },
    {
     "name": "stderr",
     "output_type": "stream",
     "text": [
      "                                                                                                                       \r"
     ]
    },
    {
     "name": "stdout",
     "output_type": "stream",
     "text": [
      "Epoch [11/30], Loss: 0.2063, Accuracy: 93.45%\n"
     ]
    },
    {
     "name": "stderr",
     "output_type": "stream",
     "text": [
      "Epoch 12/30:  11%|████▌                                      | 2/19 [00:25<03:35, 12.67s/it, accuracy=98.4, loss=0.016]"
     ]
    },
    {
     "name": "stdout",
     "output_type": "stream",
     "text": [
      "Error loading image E:\\Vehicle\\Vehicle_5_classes_sample\\Tempo Traveller\\20210508_10_11_26_000_bsfUf1M1E9bMsvY4ENiWwUWjDQp2_F_4160_3120.jpg: image file is truncated (39 bytes not processed)\n"
     ]
    },
    {
     "name": "stderr",
     "output_type": "stream",
     "text": [
      "Epoch 12/30:  16%|██████▋                                   | 3/19 [00:38<03:22, 12.67s/it, accuracy=96.9, loss=0.0251]"
     ]
    },
    {
     "name": "stdout",
     "output_type": "stream",
     "text": [
      "Error loading image E:\\Vehicle\\Vehicle_5_classes_sample\\Auto\\Datacluster Auto (61).jpg: image file is truncated (43 bytes not processed)\n"
     ]
    },
    {
     "name": "stderr",
     "output_type": "stream",
     "text": [
      "Epoch 12/30:  53%|██████████████████████                    | 10/19 [02:04<01:50, 12.33s/it, accuracy=93.8, loss=0.104]"
     ]
    },
    {
     "name": "stdout",
     "output_type": "stream",
     "text": [
      "Error loading image E:\\Vehicle\\Vehicle_5_classes_sample\\Bus\\20210518_14_58_52_000_RMkLr8rWJDMBfnDv6WRtqfoMLT83_F_3264_2448.jpg: image file is truncated (111 bytes not processed)\n",
      "Error loading image E:\\Vehicle\\Vehicle_5_classes_sample\\Truck\\Datacluster Truck (123).jpg: image file is truncated (8 bytes not processed)\n"
     ]
    },
    {
     "name": "stderr",
     "output_type": "stream",
     "text": [
      "Epoch 12/30:  63%|██████████████████████████▌               | 12/19 [02:28<01:25, 12.21s/it, accuracy=93.5, loss=0.129]"
     ]
    },
    {
     "name": "stdout",
     "output_type": "stream",
     "text": [
      "Error loading image E:\\Vehicle\\Vehicle_5_classes_sample\\Tempo Traveller\\20210517_06_39_54_000_bsfUf1M1E9bMsvY4ENiWwUWjDQp2_F_4160_3120.jpg: image file is truncated (15 bytes not processed)\n"
     ]
    },
    {
     "name": "stderr",
     "output_type": "stream",
     "text": [
      "                                                                                                                       \r"
     ]
    },
    {
     "name": "stdout",
     "output_type": "stream",
     "text": [
      "Epoch [12/30], Loss: 0.2471, Accuracy: 92.61%\n"
     ]
    },
    {
     "name": "stderr",
     "output_type": "stream",
     "text": [
      "Epoch 13/30:  47%|████████████████████▊                       | 9/19 [01:52<02:05, 12.60s/it, accuracy=91.3, loss=0.11]"
     ]
    },
    {
     "name": "stdout",
     "output_type": "stream",
     "text": [
      "Error loading image E:\\Vehicle\\Vehicle_5_classes_sample\\Tempo Traveller\\20210517_06_39_54_000_bsfUf1M1E9bMsvY4ENiWwUWjDQp2_F_4160_3120.jpg: image file is truncated (15 bytes not processed)\n"
     ]
    },
    {
     "name": "stderr",
     "output_type": "stream",
     "text": [
      "Epoch 13/30:  63%|██████████████████████████▌               | 12/19 [02:30<01:28, 12.63s/it, accuracy=91.4, loss=0.172]"
     ]
    },
    {
     "name": "stdout",
     "output_type": "stream",
     "text": [
      "Error loading image E:\\Vehicle\\Vehicle_5_classes_sample\\Auto\\Datacluster Auto (61).jpg: image file is truncated (43 bytes not processed)\n"
     ]
    },
    {
     "name": "stderr",
     "output_type": "stream",
     "text": [
      "Epoch 13/30:  68%|████████████████████████████▋             | 13/19 [02:43<01:16, 12.71s/it, accuracy=91.6, loss=0.183]"
     ]
    },
    {
     "name": "stdout",
     "output_type": "stream",
     "text": [
      "Error loading image E:\\Vehicle\\Vehicle_5_classes_sample\\Bus\\20210518_14_58_52_000_RMkLr8rWJDMBfnDv6WRtqfoMLT83_F_3264_2448.jpg: image file is truncated (111 bytes not processed)\n"
     ]
    },
    {
     "name": "stderr",
     "output_type": "stream",
     "text": [
      "Epoch 13/30:  84%|███████████████████████████████████▎      | 16/19 [03:19<00:37, 12.39s/it, accuracy=90.4, loss=0.251]"
     ]
    },
    {
     "name": "stdout",
     "output_type": "stream",
     "text": [
      "Error loading image E:\\Vehicle\\Vehicle_5_classes_sample\\Tempo Traveller\\20210508_10_11_26_000_bsfUf1M1E9bMsvY4ENiWwUWjDQp2_F_4160_3120.jpg: image file is truncated (39 bytes not processed)\n"
     ]
    },
    {
     "name": "stderr",
     "output_type": "stream",
     "text": [
      "Epoch 13/30:  89%|█████████████████████████████████████▌    | 17/19 [03:32<00:24, 12.41s/it, accuracy=90.3, loss=0.268]"
     ]
    },
    {
     "name": "stdout",
     "output_type": "stream",
     "text": [
      "Error loading image E:\\Vehicle\\Vehicle_5_classes_sample\\Truck\\Datacluster Truck (123).jpg: image file is truncated (8 bytes not processed)\n"
     ]
    },
    {
     "name": "stderr",
     "output_type": "stream",
     "text": [
      "                                                                                                                       \r"
     ]
    },
    {
     "name": "stdout",
     "output_type": "stream",
     "text": [
      "Epoch [13/30], Loss: 0.3017, Accuracy: 90.08%\n"
     ]
    },
    {
     "name": "stderr",
     "output_type": "stream",
     "text": [
      "Epoch 14/30:  16%|██████▋                                   | 3/19 [00:36<03:17, 12.35s/it, accuracy=91.7, loss=0.0493]"
     ]
    },
    {
     "name": "stdout",
     "output_type": "stream",
     "text": [
      "Error loading image E:\\Vehicle\\Vehicle_5_classes_sample\\Bus\\20210518_14_58_52_000_RMkLr8rWJDMBfnDv6WRtqfoMLT83_F_3264_2448.jpg: image file is truncated (111 bytes not processed)\n"
     ]
    },
    {
     "name": "stderr",
     "output_type": "stream",
     "text": [
      "Epoch 14/30:  32%|█████████████▎                            | 6/19 [01:14<02:40, 12.34s/it, accuracy=94.3, loss=0.0731]"
     ]
    },
    {
     "name": "stdout",
     "output_type": "stream",
     "text": [
      "Error loading image E:\\Vehicle\\Vehicle_5_classes_sample\\Tempo Traveller\\20210517_06_39_54_000_bsfUf1M1E9bMsvY4ENiWwUWjDQp2_F_4160_3120.jpg: image file is truncated (15 bytes not processed)\n"
     ]
    },
    {
     "name": "stderr",
     "output_type": "stream",
     "text": [
      "Epoch 14/30:  37%|███████████████▊                           | 7/19 [01:27<02:30, 12.51s/it, accuracy=94.2, loss=0.082]"
     ]
    },
    {
     "name": "stdout",
     "output_type": "stream",
     "text": [
      "Error loading image E:\\Vehicle\\Vehicle_5_classes_sample\\Auto\\Datacluster Auto (61).jpg: image file is truncated (43 bytes not processed)\n"
     ]
    },
    {
     "name": "stderr",
     "output_type": "stream",
     "text": [
      "Epoch 14/30:  53%|██████████████████████                    | 10/19 [02:04<01:52, 12.46s/it, accuracy=93.8, loss=0.119]"
     ]
    },
    {
     "name": "stdout",
     "output_type": "stream",
     "text": [
      "Error loading image E:\\Vehicle\\Vehicle_5_classes_sample\\Tempo Traveller\\20210508_10_11_26_000_bsfUf1M1E9bMsvY4ENiWwUWjDQp2_F_4160_3120.jpg: image file is truncated (39 bytes not processed)\n"
     ]
    },
    {
     "name": "stderr",
     "output_type": "stream",
     "text": [
      "Epoch 14/30:  95%|███████████████████████████████████████▊  | 18/19 [03:43<00:12, 12.52s/it, accuracy=93.6, loss=0.209]"
     ]
    },
    {
     "name": "stdout",
     "output_type": "stream",
     "text": [
      "Error loading image E:\\Vehicle\\Vehicle_5_classes_sample\\Truck\\Datacluster Truck (123).jpg: image file is truncated (8 bytes not processed)\n"
     ]
    },
    {
     "name": "stderr",
     "output_type": "stream",
     "text": [
      "                                                                                                                       \r"
     ]
    },
    {
     "name": "stdout",
     "output_type": "stream",
     "text": [
      "Epoch [14/30], Loss: 0.2221, Accuracy: 93.45%\n"
     ]
    },
    {
     "name": "stderr",
     "output_type": "stream",
     "text": [
      "Epoch 15/30:  16%|██████▋                                   | 3/19 [00:36<03:16, 12.30s/it, accuracy=93.8, loss=0.0241]"
     ]
    },
    {
     "name": "stdout",
     "output_type": "stream",
     "text": [
      "Error loading image E:\\Vehicle\\Vehicle_5_classes_sample\\Truck\\Datacluster Truck (123).jpg: image file is truncated (8 bytes not processed)\n"
     ]
    },
    {
     "name": "stderr",
     "output_type": "stream",
     "text": [
      "Epoch 15/30:  26%|███████████▌                                | 5/19 [01:02<02:56, 12.64s/it, accuracy=95, loss=0.0353]"
     ]
    },
    {
     "name": "stdout",
     "output_type": "stream",
     "text": [
      "Error loading image E:\\Vehicle\\Vehicle_5_classes_sample\\Bus\\20210518_14_58_52_000_RMkLr8rWJDMBfnDv6WRtqfoMLT83_F_3264_2448.jpg: image file is truncated (111 bytes not processed)\n"
     ]
    },
    {
     "name": "stderr",
     "output_type": "stream",
     "text": [
      "Epoch 15/30:  37%|███████████████▍                          | 7/19 [01:27<02:31, 12.62s/it, accuracy=95.5, loss=0.0476]"
     ]
    },
    {
     "name": "stdout",
     "output_type": "stream",
     "text": [
      "Error loading image E:\\Vehicle\\Vehicle_5_classes_sample\\Tempo Traveller\\20210517_06_39_54_000_bsfUf1M1E9bMsvY4ENiWwUWjDQp2_F_4160_3120.jpg: image file is truncated (15 bytes not processed)\n"
     ]
    },
    {
     "name": "stderr",
     "output_type": "stream",
     "text": [
      "Epoch 15/30:  58%|████████████████████████▎                 | 11/19 [02:17<01:39, 12.45s/it, accuracy=93.8, loss=0.106]"
     ]
    },
    {
     "name": "stdout",
     "output_type": "stream",
     "text": [
      "Error loading image E:\\Vehicle\\Vehicle_5_classes_sample\\Auto\\Datacluster Auto (61).jpg: image file is truncated (43 bytes not processed)\n"
     ]
    },
    {
     "name": "stderr",
     "output_type": "stream",
     "text": [
      "Epoch 15/30:  84%|███████████████████████████████████▎      | 16/19 [03:18<00:36, 12.32s/it, accuracy=94.1, loss=0.142]"
     ]
    },
    {
     "name": "stdout",
     "output_type": "stream",
     "text": [
      "Error loading image E:\\Vehicle\\Vehicle_5_classes_sample\\Tempo Traveller\\20210508_10_11_26_000_bsfUf1M1E9bMsvY4ENiWwUWjDQp2_F_4160_3120.jpg: image file is truncated (39 bytes not processed)\n"
     ]
    },
    {
     "name": "stderr",
     "output_type": "stream",
     "text": [
      "                                                                                                                       \r"
     ]
    },
    {
     "name": "stdout",
     "output_type": "stream",
     "text": [
      "Epoch [15/30], Loss: 0.1820, Accuracy: 93.78%\n"
     ]
    },
    {
     "name": "stderr",
     "output_type": "stream",
     "text": [
      "Epoch 16/30:  26%|███████████                               | 5/19 [01:01<02:53, 12.38s/it, accuracy=94.4, loss=0.0539]"
     ]
    },
    {
     "name": "stdout",
     "output_type": "stream",
     "text": [
      "Error loading image E:\\Vehicle\\Vehicle_5_classes_sample\\Tempo Traveller\\20210517_06_39_54_000_bsfUf1M1E9bMsvY4ENiWwUWjDQp2_F_4160_3120.jpg: image file is truncated (15 bytes not processed)\n"
     ]
    },
    {
     "name": "stderr",
     "output_type": "stream",
     "text": [
      "Epoch 16/30:  32%|█████████████▎                            | 6/19 [01:15<02:45, 12.75s/it, accuracy=94.8, loss=0.0655]"
     ]
    },
    {
     "name": "stdout",
     "output_type": "stream",
     "text": [
      "Error loading image E:\\Vehicle\\Vehicle_5_classes_sample\\Bus\\20210518_14_58_52_000_RMkLr8rWJDMBfnDv6WRtqfoMLT83_F_3264_2448.jpg: image file is truncated (111 bytes not processed)\n"
     ]
    },
    {
     "name": "stderr",
     "output_type": "stream",
     "text": [
      "Epoch 16/30:  63%|██████████████████████████▌               | 12/19 [02:29<01:26, 12.36s/it, accuracy=93.5, loss=0.152]"
     ]
    },
    {
     "name": "stdout",
     "output_type": "stream",
     "text": [
      "Error loading image E:\\Vehicle\\Vehicle_5_classes_sample\\Auto\\Datacluster Auto (61).jpg: image file is truncated (43 bytes not processed)\n"
     ]
    },
    {
     "name": "stderr",
     "output_type": "stream",
     "text": [
      "Epoch 16/30:  95%|████████████████████████████████████████▋  | 18/19 [03:44<00:12, 12.45s/it, accuracy=93.1, loss=0.24]"
     ]
    },
    {
     "name": "stdout",
     "output_type": "stream",
     "text": [
      "Error loading image E:\\Vehicle\\Vehicle_5_classes_sample\\Tempo Traveller\\20210508_10_11_26_000_bsfUf1M1E9bMsvY4ENiWwUWjDQp2_F_4160_3120.jpg: image file is truncated (39 bytes not processed)\n",
      "Error loading image E:\\Vehicle\\Vehicle_5_classes_sample\\Truck\\Datacluster Truck (123).jpg: image file is truncated (8 bytes not processed)\n"
     ]
    },
    {
     "name": "stderr",
     "output_type": "stream",
     "text": [
      "                                                                                                                       \r"
     ]
    },
    {
     "name": "stdout",
     "output_type": "stream",
     "text": [
      "Epoch [16/30], Loss: 0.2464, Accuracy: 93.28%\n"
     ]
    },
    {
     "name": "stderr",
     "output_type": "stream",
     "text": [
      "Epoch 17/30:  16%|██████▊                                    | 3/19 [00:37<03:21, 12.59s/it, accuracy=100, loss=0.0113]"
     ]
    },
    {
     "name": "stdout",
     "output_type": "stream",
     "text": [
      "Error loading image E:\\Vehicle\\Vehicle_5_classes_sample\\Bus\\20210518_14_58_52_000_RMkLr8rWJDMBfnDv6WRtqfoMLT83_F_3264_2448.jpg: image file is truncated (111 bytes not processed)\n"
     ]
    },
    {
     "name": "stderr",
     "output_type": "stream",
     "text": [
      "Epoch 17/30:  32%|█████████████▌                             | 6/19 [01:14<02:40, 12.31s/it, accuracy=98.4, loss=0.028]"
     ]
    },
    {
     "name": "stdout",
     "output_type": "stream",
     "text": [
      "Error loading image E:\\Vehicle\\Vehicle_5_classes_sample\\Truck\\Datacluster Truck (123).jpg: image file is truncated (8 bytes not processed)\n",
      "Error loading image E:\\Vehicle\\Vehicle_5_classes_sample\\Auto\\Datacluster Auto (61).jpg: image file is truncated (43 bytes not processed)\n"
     ]
    },
    {
     "name": "stderr",
     "output_type": "stream",
     "text": [
      "Epoch 17/30:  53%|█████████████████████▌                   | 10/19 [02:03<01:50, 12.31s/it, accuracy=96.2, loss=0.0703]"
     ]
    },
    {
     "name": "stdout",
     "output_type": "stream",
     "text": [
      "Error loading image E:\\Vehicle\\Vehicle_5_classes_sample\\Tempo Traveller\\20210517_06_39_54_000_bsfUf1M1E9bMsvY4ENiWwUWjDQp2_F_4160_3120.jpg: image file is truncated (15 bytes not processed)\n"
     ]
    },
    {
     "name": "stderr",
     "output_type": "stream",
     "text": [
      "Epoch 17/30:  79%|█████████████████████████████████▉         | 15/19 [03:06<00:49, 12.40s/it, accuracy=96, loss=0.0993]"
     ]
    },
    {
     "name": "stdout",
     "output_type": "stream",
     "text": [
      "Error loading image E:\\Vehicle\\Vehicle_5_classes_sample\\Tempo Traveller\\20210508_10_11_26_000_bsfUf1M1E9bMsvY4ENiWwUWjDQp2_F_4160_3120.jpg: image file is truncated (39 bytes not processed)\n"
     ]
    },
    {
     "name": "stderr",
     "output_type": "stream",
     "text": [
      "                                                                                                                       \r"
     ]
    },
    {
     "name": "stdout",
     "output_type": "stream",
     "text": [
      "Epoch [17/30], Loss: 0.1533, Accuracy: 95.97%\n"
     ]
    },
    {
     "name": "stderr",
     "output_type": "stream",
     "text": [
      "Epoch 18/30:  21%|█████████▎                                  | 4/19 [00:51<03:15, 13.05s/it, accuracy=93, loss=0.0441]"
     ]
    },
    {
     "name": "stdout",
     "output_type": "stream",
     "text": [
      "Error loading image E:\\Vehicle\\Vehicle_5_classes_sample\\Auto\\Datacluster Auto (61).jpg: image file is truncated (43 bytes not processed)\n"
     ]
    },
    {
     "name": "stderr",
     "output_type": "stream",
     "text": [
      "Epoch 18/30:  47%|████████████████████▎                      | 9/19 [01:53<02:04, 12.48s/it, accuracy=92.4, loss=0.119]"
     ]
    },
    {
     "name": "stdout",
     "output_type": "stream",
     "text": [
      "Error loading image E:\\Vehicle\\Vehicle_5_classes_sample\\Tempo Traveller\\20210517_06_39_54_000_bsfUf1M1E9bMsvY4ENiWwUWjDQp2_F_4160_3120.jpg: image file is truncated (15 bytes not processed)\n"
     ]
    },
    {
     "name": "stderr",
     "output_type": "stream",
     "text": [
      "Epoch 18/30:  68%|████████████████████████████▋             | 13/19 [02:42<01:14, 12.40s/it, accuracy=91.3, loss=0.195]"
     ]
    },
    {
     "name": "stdout",
     "output_type": "stream",
     "text": [
      "Error loading image E:\\Vehicle\\Vehicle_5_classes_sample\\Tempo Traveller\\20210508_10_11_26_000_bsfUf1M1E9bMsvY4ENiWwUWjDQp2_F_4160_3120.jpg: image file is truncated (39 bytes not processed)\n",
      "Error loading image E:\\Vehicle\\Vehicle_5_classes_sample\\Truck\\Datacluster Truck (123).jpg: image file is truncated (8 bytes not processed)\n"
     ]
    },
    {
     "name": "stderr",
     "output_type": "stream",
     "text": [
      "Epoch 18/30:  79%|█████████████████████████████████▏        | 15/19 [03:07<00:49, 12.45s/it, accuracy=90.6, loss=0.232]"
     ]
    },
    {
     "name": "stdout",
     "output_type": "stream",
     "text": [
      "Error loading image E:\\Vehicle\\Vehicle_5_classes_sample\\Bus\\20210518_14_58_52_000_RMkLr8rWJDMBfnDv6WRtqfoMLT83_F_3264_2448.jpg: image file is truncated (111 bytes not processed)\n"
     ]
    },
    {
     "name": "stderr",
     "output_type": "stream",
     "text": [
      "                                                                                                                       \r"
     ]
    },
    {
     "name": "stdout",
     "output_type": "stream",
     "text": [
      "Epoch [18/30], Loss: 0.3052, Accuracy: 91.09%\n"
     ]
    },
    {
     "name": "stderr",
     "output_type": "stream",
     "text": [
      "Epoch 19/30:   0%|                                                                              | 0/19 [00:00<?, ?it/s]"
     ]
    },
    {
     "name": "stdout",
     "output_type": "stream",
     "text": [
      "Error loading image E:\\Vehicle\\Vehicle_5_classes_sample\\Truck\\Datacluster Truck (123).jpg: image file is truncated (8 bytes not processed)\n"
     ]
    },
    {
     "name": "stderr",
     "output_type": "stream",
     "text": [
      "Epoch 19/30:  58%|███████████████████████▋                 | 11/19 [02:17<01:40, 12.60s/it, accuracy=95.5, loss=0.0779]"
     ]
    },
    {
     "name": "stdout",
     "output_type": "stream",
     "text": [
      "Error loading image E:\\Vehicle\\Vehicle_5_classes_sample\\Tempo Traveller\\20210508_10_11_26_000_bsfUf1M1E9bMsvY4ENiWwUWjDQp2_F_4160_3120.jpg: image file is truncated (39 bytes not processed)\n"
     ]
    },
    {
     "name": "stderr",
     "output_type": "stream",
     "text": [
      "Epoch 19/30:  63%|██████████████████████████▌               | 12/19 [02:29<01:27, 12.56s/it, accuracy=95.6, loss=0.082]"
     ]
    },
    {
     "name": "stdout",
     "output_type": "stream",
     "text": [
      "Error loading image E:\\Vehicle\\Vehicle_5_classes_sample\\Tempo Traveller\\20210517_06_39_54_000_bsfUf1M1E9bMsvY4ENiWwUWjDQp2_F_4160_3120.jpg: image file is truncated (15 bytes not processed)\n"
     ]
    },
    {
     "name": "stderr",
     "output_type": "stream",
     "text": [
      "Epoch 19/30:  79%|█████████████████████████████████▏        | 15/19 [03:06<00:49, 12.45s/it, accuracy=95.4, loss=0.106]"
     ]
    },
    {
     "name": "stdout",
     "output_type": "stream",
     "text": [
      "Error loading image E:\\Vehicle\\Vehicle_5_classes_sample\\Bus\\20210518_14_58_52_000_RMkLr8rWJDMBfnDv6WRtqfoMLT83_F_3264_2448.jpg: image file is truncated (111 bytes not processed)\n"
     ]
    },
    {
     "name": "stderr",
     "output_type": "stream",
     "text": [
      "Epoch 19/30:  89%|██████████████████████████████████████▍    | 17/19 [03:31<00:24, 12.35s/it, accuracy=95.2, loss=0.12]"
     ]
    },
    {
     "name": "stdout",
     "output_type": "stream",
     "text": [
      "Error loading image E:\\Vehicle\\Vehicle_5_classes_sample\\Auto\\Datacluster Auto (61).jpg: image file is truncated (43 bytes not processed)\n"
     ]
    },
    {
     "name": "stderr",
     "output_type": "stream",
     "text": [
      "                                                                                                                       \r"
     ]
    },
    {
     "name": "stdout",
     "output_type": "stream",
     "text": [
      "Epoch [19/30], Loss: 0.1315, Accuracy: 95.29%\n"
     ]
    },
    {
     "name": "stderr",
     "output_type": "stream",
     "text": [
      "Epoch 20/30:  11%|████▍                                     | 2/19 [00:25<03:37, 12.79s/it, accuracy=100, loss=0.00171]"
     ]
    },
    {
     "name": "stdout",
     "output_type": "stream",
     "text": [
      "Error loading image E:\\Vehicle\\Vehicle_5_classes_sample\\Bus\\20210518_14_58_52_000_RMkLr8rWJDMBfnDv6WRtqfoMLT83_F_3264_2448.jpg: image file is truncated (111 bytes not processed)\n"
     ]
    },
    {
     "name": "stderr",
     "output_type": "stream",
     "text": [
      "Epoch 20/30:  26%|███████████                               | 5/19 [01:02<02:55, 12.57s/it, accuracy=100, loss=0.00567]"
     ]
    },
    {
     "name": "stdout",
     "output_type": "stream",
     "text": [
      "Error loading image E:\\Vehicle\\Vehicle_5_classes_sample\\Tempo Traveller\\20210517_06_39_54_000_bsfUf1M1E9bMsvY4ENiWwUWjDQp2_F_4160_3120.jpg: image file is truncated (15 bytes not processed)\n"
     ]
    },
    {
     "name": "stderr",
     "output_type": "stream",
     "text": [
      "Epoch 20/30:  42%|█████████████████▋                        | 8/19 [01:40<02:17, 12.50s/it, accuracy=98.4, loss=0.0284]"
     ]
    },
    {
     "name": "stdout",
     "output_type": "stream",
     "text": [
      "Error loading image E:\\Vehicle\\Vehicle_5_classes_sample\\Auto\\Datacluster Auto (61).jpg: image file is truncated (43 bytes not processed)\n"
     ]
    },
    {
     "name": "stderr",
     "output_type": "stream",
     "text": [
      "Epoch 20/30:  58%|███████████████████████▋                 | 11/19 [02:16<01:38, 12.25s/it, accuracy=98.6, loss=0.0329]"
     ]
    },
    {
     "name": "stdout",
     "output_type": "stream",
     "text": [
      "Error loading image E:\\Vehicle\\Vehicle_5_classes_sample\\Truck\\Datacluster Truck (123).jpg: image file is truncated (8 bytes not processed)\n"
     ]
    },
    {
     "name": "stderr",
     "output_type": "stream",
     "text": [
      "Epoch 20/30:  74%|██████████████████████████████▏          | 14/19 [02:54<01:02, 12.45s/it, accuracy=98.2, loss=0.0485]"
     ]
    },
    {
     "name": "stdout",
     "output_type": "stream",
     "text": [
      "Error loading image E:\\Vehicle\\Vehicle_5_classes_sample\\Tempo Traveller\\20210508_10_11_26_000_bsfUf1M1E9bMsvY4ENiWwUWjDQp2_F_4160_3120.jpg: image file is truncated (39 bytes not processed)\n"
     ]
    },
    {
     "name": "stderr",
     "output_type": "stream",
     "text": [
      "                                                                                                                       \r"
     ]
    },
    {
     "name": "stdout",
     "output_type": "stream",
     "text": [
      "Epoch [20/30], Loss: 0.0592, Accuracy: 98.49%\n"
     ]
    },
    {
     "name": "stderr",
     "output_type": "stream",
     "text": [
      "Epoch 21/30:   0%|                                                                              | 0/19 [00:00<?, ?it/s]"
     ]
    },
    {
     "name": "stdout",
     "output_type": "stream",
     "text": [
      "Error loading image E:\\Vehicle\\Vehicle_5_classes_sample\\Bus\\20210518_14_58_52_000_RMkLr8rWJDMBfnDv6WRtqfoMLT83_F_3264_2448.jpg: image file is truncated (111 bytes not processed)\n"
     ]
    },
    {
     "name": "stderr",
     "output_type": "stream",
     "text": [
      "Epoch 21/30:  11%|████▎                                    | 2/19 [00:24<03:30, 12.36s/it, accuracy=98.4, loss=0.00457]"
     ]
    },
    {
     "name": "stdout",
     "output_type": "stream",
     "text": [
      "Error loading image E:\\Vehicle\\Vehicle_5_classes_sample\\Truck\\Datacluster Truck (123).jpg: image file is truncated (8 bytes not processed)\n"
     ]
    },
    {
     "name": "stderr",
     "output_type": "stream",
     "text": [
      "Epoch 21/30:  16%|██████▊                                    | 3/19 [00:37<03:19, 12.49s/it, accuracy=99, loss=0.00636]"
     ]
    },
    {
     "name": "stdout",
     "output_type": "stream",
     "text": [
      "Error loading image E:\\Vehicle\\Vehicle_5_classes_sample\\Tempo Traveller\\20210508_10_11_26_000_bsfUf1M1E9bMsvY4ENiWwUWjDQp2_F_4160_3120.jpg: image file is truncated (39 bytes not processed)\n"
     ]
    },
    {
     "name": "stderr",
     "output_type": "stream",
     "text": [
      "Epoch 21/30:  21%|████████▊                                 | 4/19 [00:49<03:07, 12.48s/it, accuracy=99.2, loss=0.0068]"
     ]
    },
    {
     "name": "stdout",
     "output_type": "stream",
     "text": [
      "Error loading image E:\\Vehicle\\Vehicle_5_classes_sample\\Tempo Traveller\\20210517_06_39_54_000_bsfUf1M1E9bMsvY4ENiWwUWjDQp2_F_4160_3120.jpg: image file is truncated (15 bytes not processed)\n"
     ]
    },
    {
     "name": "stderr",
     "output_type": "stream",
     "text": [
      "Epoch 21/30:  63%|███████████████████████████▏               | 12/19 [02:31<01:27, 12.52s/it, accuracy=99, loss=0.0203]"
     ]
    },
    {
     "name": "stdout",
     "output_type": "stream",
     "text": [
      "Error loading image E:\\Vehicle\\Vehicle_5_classes_sample\\Auto\\Datacluster Auto (61).jpg: image file is truncated (43 bytes not processed)\n"
     ]
    },
    {
     "name": "stderr",
     "output_type": "stream",
     "text": [
      "                                                                                                                       \r"
     ]
    },
    {
     "name": "stdout",
     "output_type": "stream",
     "text": [
      "Epoch [21/30], Loss: 0.0290, Accuracy: 99.16%\n"
     ]
    },
    {
     "name": "stderr",
     "output_type": "stream",
     "text": [
      "Epoch 22/30:  16%|██████▍                                  | 3/19 [00:37<03:19, 12.49s/it, accuracy=100, loss=0.000968]"
     ]
    },
    {
     "name": "stdout",
     "output_type": "stream",
     "text": [
      "Error loading image E:\\Vehicle\\Vehicle_5_classes_sample\\Truck\\Datacluster Truck (123).jpg: image file is truncated (8 bytes not processed)\n"
     ]
    },
    {
     "name": "stderr",
     "output_type": "stream",
     "text": [
      "Epoch 22/30:  21%|████████▊                                 | 4/19 [00:50<03:08, 12.55s/it, accuracy=100, loss=0.00149]"
     ]
    },
    {
     "name": "stdout",
     "output_type": "stream",
     "text": [
      "Error loading image E:\\Vehicle\\Vehicle_5_classes_sample\\Bus\\20210518_14_58_52_000_RMkLr8rWJDMBfnDv6WRtqfoMLT83_F_3264_2448.jpg: image file is truncated (111 bytes not processed)\n"
     ]
    },
    {
     "name": "stderr",
     "output_type": "stream",
     "text": [
      "Epoch 22/30:  53%|█████████████████████                   | 10/19 [02:05<01:52, 12.45s/it, accuracy=99.4, loss=0.00844]"
     ]
    },
    {
     "name": "stdout",
     "output_type": "stream",
     "text": [
      "Error loading image E:\\Vehicle\\Vehicle_5_classes_sample\\Auto\\Datacluster Auto (61).jpg: image file is truncated (43 bytes not processed)\n"
     ]
    },
    {
     "name": "stderr",
     "output_type": "stream",
     "text": [
      "Epoch 22/30:  89%|████████████████████████████████████▋    | 17/19 [03:31<00:24, 12.28s/it, accuracy=98.7, loss=0.0356]"
     ]
    },
    {
     "name": "stdout",
     "output_type": "stream",
     "text": [
      "Error loading image E:\\Vehicle\\Vehicle_5_classes_sample\\Tempo Traveller\\20210508_10_11_26_000_bsfUf1M1E9bMsvY4ENiWwUWjDQp2_F_4160_3120.jpg: image file is truncated (39 bytes not processed)\n",
      "Error loading image E:\\Vehicle\\Vehicle_5_classes_sample\\Tempo Traveller\\20210517_06_39_54_000_bsfUf1M1E9bMsvY4ENiWwUWjDQp2_F_4160_3120.jpg: image file is truncated (15 bytes not processed)\n"
     ]
    },
    {
     "name": "stderr",
     "output_type": "stream",
     "text": [
      "                                                                                                                       \r"
     ]
    },
    {
     "name": "stdout",
     "output_type": "stream",
     "text": [
      "Epoch [22/30], Loss: 0.0525, Accuracy: 98.32%\n"
     ]
    },
    {
     "name": "stderr",
     "output_type": "stream",
     "text": [
      "Epoch 23/30:  11%|████▎                                    | 2/19 [00:24<03:32, 12.48s/it, accuracy=96.9, loss=0.00588]"
     ]
    },
    {
     "name": "stdout",
     "output_type": "stream",
     "text": [
      "Error loading image E:\\Vehicle\\Vehicle_5_classes_sample\\Truck\\Datacluster Truck (123).jpg: image file is truncated (8 bytes not processed)\n"
     ]
    },
    {
     "name": "stderr",
     "output_type": "stream",
     "text": [
      "Epoch 23/30:  21%|████████▋                                | 4/19 [00:49<03:06, 12.44s/it, accuracy=98.4, loss=0.00686]"
     ]
    },
    {
     "name": "stdout",
     "output_type": "stream",
     "text": [
      "Error loading image E:\\Vehicle\\Vehicle_5_classes_sample\\Bus\\20210518_14_58_52_000_RMkLr8rWJDMBfnDv6WRtqfoMLT83_F_3264_2448.jpg: image file is truncated (111 bytes not processed)\n"
     ]
    },
    {
     "name": "stderr",
     "output_type": "stream",
     "text": [
      "Epoch 23/30:  58%|███████████████████████▋                 | 11/19 [02:16<01:38, 12.35s/it, accuracy=95.7, loss=0.0579]"
     ]
    },
    {
     "name": "stdout",
     "output_type": "stream",
     "text": [
      "Error loading image E:\\Vehicle\\Vehicle_5_classes_sample\\Tempo Traveller\\20210508_10_11_26_000_bsfUf1M1E9bMsvY4ENiWwUWjDQp2_F_4160_3120.jpg: image file is truncated (39 bytes not processed)\n"
     ]
    },
    {
     "name": "stderr",
     "output_type": "stream",
     "text": [
      "Epoch 23/30:  74%|██████████████████████████████▏          | 14/19 [02:54<01:02, 12.49s/it, accuracy=96.7, loss=0.0649]"
     ]
    },
    {
     "name": "stdout",
     "output_type": "stream",
     "text": [
      "Error loading image E:\\Vehicle\\Vehicle_5_classes_sample\\Auto\\Datacluster Auto (61).jpg: image file is truncated (43 bytes not processed)\n"
     ]
    },
    {
     "name": "stderr",
     "output_type": "stream",
     "text": [
      "Epoch 23/30:  79%|████████████████████████████████▎        | 15/19 [03:06<00:49, 12.48s/it, accuracy=96.7, loss=0.0688]"
     ]
    },
    {
     "name": "stdout",
     "output_type": "stream",
     "text": [
      "Error loading image E:\\Vehicle\\Vehicle_5_classes_sample\\Tempo Traveller\\20210517_06_39_54_000_bsfUf1M1E9bMsvY4ENiWwUWjDQp2_F_4160_3120.jpg: image file is truncated (15 bytes not processed)\n"
     ]
    },
    {
     "name": "stderr",
     "output_type": "stream",
     "text": [
      "                                                                                                                       \r"
     ]
    },
    {
     "name": "stdout",
     "output_type": "stream",
     "text": [
      "Epoch [23/30], Loss: 0.1808, Accuracy: 94.29%\n"
     ]
    },
    {
     "name": "stderr",
     "output_type": "stream",
     "text": [
      "Epoch 24/30:   5%|██▏                                       | 1/19 [00:12<03:47, 12.66s/it, accuracy=93.8, loss=0.0128]"
     ]
    },
    {
     "name": "stdout",
     "output_type": "stream",
     "text": [
      "Error loading image E:\\Vehicle\\Vehicle_5_classes_sample\\Truck\\Datacluster Truck (123).jpg: image file is truncated (8 bytes not processed)\n"
     ]
    },
    {
     "name": "stderr",
     "output_type": "stream",
     "text": [
      "Epoch 24/30:  11%|████▍                                     | 2/19 [00:24<03:29, 12.31s/it, accuracy=95.3, loss=0.0192]"
     ]
    },
    {
     "name": "stdout",
     "output_type": "stream",
     "text": [
      "Error loading image E:\\Vehicle\\Vehicle_5_classes_sample\\Tempo Traveller\\20210508_10_11_26_000_bsfUf1M1E9bMsvY4ENiWwUWjDQp2_F_4160_3120.jpg: image file is truncated (39 bytes not processed)\n"
     ]
    },
    {
     "name": "stderr",
     "output_type": "stream",
     "text": [
      "Epoch 24/30:  79%|█████████████████████████████████▏        | 15/19 [03:06<00:48, 12.23s/it, accuracy=90.4, loss=0.272]"
     ]
    },
    {
     "name": "stdout",
     "output_type": "stream",
     "text": [
      "Error loading image E:\\Vehicle\\Vehicle_5_classes_sample\\Bus\\20210518_14_58_52_000_RMkLr8rWJDMBfnDv6WRtqfoMLT83_F_3264_2448.jpg: image file is truncated (111 bytes not processed)\n"
     ]
    },
    {
     "name": "stderr",
     "output_type": "stream",
     "text": [
      "Epoch 24/30:  84%|███████████████████████████████████▎      | 16/19 [03:18<00:37, 12.36s/it, accuracy=90.8, loss=0.285]"
     ]
    },
    {
     "name": "stdout",
     "output_type": "stream",
     "text": [
      "Error loading image E:\\Vehicle\\Vehicle_5_classes_sample\\Tempo Traveller\\20210517_06_39_54_000_bsfUf1M1E9bMsvY4ENiWwUWjDQp2_F_4160_3120.jpg: image file is truncated (15 bytes not processed)\n"
     ]
    },
    {
     "name": "stderr",
     "output_type": "stream",
     "text": [
      "Epoch 24/30:  95%|███████████████████████████████████████▊  | 18/19 [03:44<00:12, 12.51s/it, accuracy=90.1, loss=0.349]"
     ]
    },
    {
     "name": "stdout",
     "output_type": "stream",
     "text": [
      "Error loading image E:\\Vehicle\\Vehicle_5_classes_sample\\Auto\\Datacluster Auto (61).jpg: image file is truncated (43 bytes not processed)\n"
     ]
    },
    {
     "name": "stderr",
     "output_type": "stream",
     "text": [
      "                                                                                                                       \r"
     ]
    },
    {
     "name": "stdout",
     "output_type": "stream",
     "text": [
      "Epoch [24/30], Loss: 0.3712, Accuracy: 90.08%\n"
     ]
    },
    {
     "name": "stderr",
     "output_type": "stream",
     "text": [
      "Epoch 25/30:   5%|██▏                                       | 1/19 [00:12<03:48, 12.69s/it, accuracy=87.5, loss=0.0186]"
     ]
    },
    {
     "name": "stdout",
     "output_type": "stream",
     "text": [
      "Error loading image E:\\Vehicle\\Vehicle_5_classes_sample\\Truck\\Datacluster Truck (123).jpg: image file is truncated (8 bytes not processed)\n"
     ]
    },
    {
     "name": "stderr",
     "output_type": "stream",
     "text": [
      "Epoch 25/30:  21%|████████▊                                 | 4/19 [00:50<03:08, 12.59s/it, accuracy=91.4, loss=0.0584]"
     ]
    },
    {
     "name": "stdout",
     "output_type": "stream",
     "text": [
      "Error loading image E:\\Vehicle\\Vehicle_5_classes_sample\\Auto\\Datacluster Auto (61).jpg: image file is truncated (43 bytes not processed)\n"
     ]
    },
    {
     "name": "stderr",
     "output_type": "stream",
     "text": [
      "Epoch 25/30:  32%|█████████████▎                            | 6/19 [01:15<02:44, 12.66s/it, accuracy=93.8, loss=0.0786]"
     ]
    },
    {
     "name": "stdout",
     "output_type": "stream",
     "text": [
      "Error loading image E:\\Vehicle\\Vehicle_5_classes_sample\\Tempo Traveller\\20210517_06_39_54_000_bsfUf1M1E9bMsvY4ENiWwUWjDQp2_F_4160_3120.jpg: image file is truncated (15 bytes not processed)\n"
     ]
    },
    {
     "name": "stderr",
     "output_type": "stream",
     "text": [
      "Epoch 25/30:  84%|███████████████████████████████████▎      | 16/19 [03:18<00:37, 12.36s/it, accuracy=93.8, loss=0.177]"
     ]
    },
    {
     "name": "stdout",
     "output_type": "stream",
     "text": [
      "Error loading image E:\\Vehicle\\Vehicle_5_classes_sample\\Bus\\20210518_14_58_52_000_RMkLr8rWJDMBfnDv6WRtqfoMLT83_F_3264_2448.jpg: image file is truncated (111 bytes not processed)\n"
     ]
    },
    {
     "name": "stderr",
     "output_type": "stream",
     "text": [
      "Epoch 25/30:  89%|█████████████████████████████████████▌    | 17/19 [03:31<00:24, 12.33s/it, accuracy=93.9, loss=0.182]"
     ]
    },
    {
     "name": "stdout",
     "output_type": "stream",
     "text": [
      "Error loading image E:\\Vehicle\\Vehicle_5_classes_sample\\Tempo Traveller\\20210508_10_11_26_000_bsfUf1M1E9bMsvY4ENiWwUWjDQp2_F_4160_3120.jpg: image file is truncated (39 bytes not processed)\n"
     ]
    },
    {
     "name": "stderr",
     "output_type": "stream",
     "text": [
      "                                                                                                                       \r"
     ]
    },
    {
     "name": "stdout",
     "output_type": "stream",
     "text": [
      "Epoch [25/30], Loss: 0.2075, Accuracy: 93.95%\n"
     ]
    },
    {
     "name": "stderr",
     "output_type": "stream",
     "text": [
      "Epoch 26/30:   0%|                                                                              | 0/19 [00:00<?, ?it/s]"
     ]
    },
    {
     "name": "stdout",
     "output_type": "stream",
     "text": [
      "Error loading image E:\\Vehicle\\Vehicle_5_classes_sample\\Truck\\Datacluster Truck (123).jpg: image file is truncated (8 bytes not processed)\n"
     ]
    },
    {
     "name": "stderr",
     "output_type": "stream",
     "text": [
      "Epoch 26/30:  42%|██████████████████▌                         | 8/19 [01:39<02:16, 12.42s/it, accuracy=98, loss=0.0365]"
     ]
    },
    {
     "name": "stdout",
     "output_type": "stream",
     "text": [
      "Error loading image E:\\Vehicle\\Vehicle_5_classes_sample\\Bus\\20210518_14_58_52_000_RMkLr8rWJDMBfnDv6WRtqfoMLT83_F_3264_2448.jpg: image file is truncated (111 bytes not processed)\n",
      "Error loading image E:\\Vehicle\\Vehicle_5_classes_sample\\Tempo Traveller\\20210508_10_11_26_000_bsfUf1M1E9bMsvY4ENiWwUWjDQp2_F_4160_3120.jpg: image file is truncated (39 bytes not processed)\n",
      "Error loading image E:\\Vehicle\\Vehicle_5_classes_sample\\Tempo Traveller\\20210517_06_39_54_000_bsfUf1M1E9bMsvY4ENiWwUWjDQp2_F_4160_3120.jpg: image file is truncated (15 bytes not processed)\n"
     ]
    },
    {
     "name": "stderr",
     "output_type": "stream",
     "text": [
      "Epoch 26/30:  74%|███████████████████████████████▋           | 14/19 [02:57<01:03, 12.78s/it, accuracy=98, loss=0.0635]"
     ]
    },
    {
     "name": "stdout",
     "output_type": "stream",
     "text": [
      "Error loading image E:\\Vehicle\\Vehicle_5_classes_sample\\Auto\\Datacluster Auto (61).jpg: image file is truncated (43 bytes not processed)\n"
     ]
    },
    {
     "name": "stderr",
     "output_type": "stream",
     "text": [
      "                                                                                                                       \r"
     ]
    },
    {
     "name": "stdout",
     "output_type": "stream",
     "text": [
      "Epoch [26/30], Loss: 0.0762, Accuracy: 98.15%\n"
     ]
    },
    {
     "name": "stderr",
     "output_type": "stream",
     "text": [
      "Epoch 27/30:  21%|████████▊                                 | 4/19 [00:50<03:11, 12.74s/it, accuracy=97.7, loss=0.0169]"
     ]
    },
    {
     "name": "stdout",
     "output_type": "stream",
     "text": [
      "Error loading image E:\\Vehicle\\Vehicle_5_classes_sample\\Truck\\Datacluster Truck (123).jpg: image file is truncated (8 bytes not processed)\n"
     ]
    },
    {
     "name": "stderr",
     "output_type": "stream",
     "text": [
      "Epoch 27/30:  63%|█████████████████████████▉               | 12/19 [02:31<01:27, 12.50s/it, accuracy=97.7, loss=0.0521]"
     ]
    },
    {
     "name": "stdout",
     "output_type": "stream",
     "text": [
      "Error loading image E:\\Vehicle\\Vehicle_5_classes_sample\\Auto\\Datacluster Auto (61).jpg: image file is truncated (43 bytes not processed)\n",
      "Error loading image E:\\Vehicle\\Vehicle_5_classes_sample\\Bus\\20210518_14_58_52_000_RMkLr8rWJDMBfnDv6WRtqfoMLT83_F_3264_2448.jpg: image file is truncated (111 bytes not processed)\n"
     ]
    },
    {
     "name": "stderr",
     "output_type": "stream",
     "text": [
      "Epoch 27/30:  68%|████████████████████████████             | 13/19 [02:43<01:15, 12.53s/it, accuracy=97.8, loss=0.0545]"
     ]
    },
    {
     "name": "stdout",
     "output_type": "stream",
     "text": [
      "Error loading image E:\\Vehicle\\Vehicle_5_classes_sample\\Tempo Traveller\\20210508_10_11_26_000_bsfUf1M1E9bMsvY4ENiWwUWjDQp2_F_4160_3120.jpg: image file is truncated (39 bytes not processed)\n"
     ]
    },
    {
     "name": "stderr",
     "output_type": "stream",
     "text": [
      "Epoch 27/30:  74%|███████████████████████████████▋           | 14/19 [02:56<01:02, 12.51s/it, accuracy=98, loss=0.0549]"
     ]
    },
    {
     "name": "stdout",
     "output_type": "stream",
     "text": [
      "Error loading image E:\\Vehicle\\Vehicle_5_classes_sample\\Tempo Traveller\\20210517_06_39_54_000_bsfUf1M1E9bMsvY4ENiWwUWjDQp2_F_4160_3120.jpg: image file is truncated (15 bytes not processed)\n"
     ]
    },
    {
     "name": "stderr",
     "output_type": "stream",
     "text": [
      "                                                                                                                       \r"
     ]
    },
    {
     "name": "stdout",
     "output_type": "stream",
     "text": [
      "Epoch [27/30], Loss: 0.0837, Accuracy: 97.48%\n"
     ]
    },
    {
     "name": "stderr",
     "output_type": "stream",
     "text": [
      "Epoch 28/30:   0%|                                                                              | 0/19 [00:00<?, ?it/s]"
     ]
    },
    {
     "name": "stdout",
     "output_type": "stream",
     "text": [
      "Error loading image E:\\Vehicle\\Vehicle_5_classes_sample\\Truck\\Datacluster Truck (123).jpg: image file is truncated (8 bytes not processed)\n"
     ]
    },
    {
     "name": "stderr",
     "output_type": "stream",
     "text": [
      "Epoch 28/30:  11%|████▍                                     | 2/19 [00:26<03:41, 13.04s/it, accuracy=96.9, loss=0.0107]"
     ]
    },
    {
     "name": "stdout",
     "output_type": "stream",
     "text": [
      "Error loading image E:\\Vehicle\\Vehicle_5_classes_sample\\Tempo Traveller\\20210508_10_11_26_000_bsfUf1M1E9bMsvY4ENiWwUWjDQp2_F_4160_3120.jpg: image file is truncated (39 bytes not processed)\n"
     ]
    },
    {
     "name": "stderr",
     "output_type": "stream",
     "text": [
      "Epoch 28/30:  16%|██████▊                                    | 3/19 [00:38<03:24, 12.77s/it, accuracy=97.9, loss=0.011]"
     ]
    },
    {
     "name": "stdout",
     "output_type": "stream",
     "text": [
      "Error loading image E:\\Vehicle\\Vehicle_5_classes_sample\\Tempo Traveller\\20210517_06_39_54_000_bsfUf1M1E9bMsvY4ENiWwUWjDQp2_F_4160_3120.jpg: image file is truncated (15 bytes not processed)\n"
     ]
    },
    {
     "name": "stderr",
     "output_type": "stream",
     "text": [
      "Epoch 28/30:  37%|███████████████▍                          | 7/19 [01:28<02:29, 12.50s/it, accuracy=98.2, loss=0.0214]"
     ]
    },
    {
     "name": "stdout",
     "output_type": "stream",
     "text": [
      "Error loading image E:\\Vehicle\\Vehicle_5_classes_sample\\Bus\\20210518_14_58_52_000_RMkLr8rWJDMBfnDv6WRtqfoMLT83_F_3264_2448.jpg: image file is truncated (111 bytes not processed)\n"
     ]
    },
    {
     "name": "stderr",
     "output_type": "stream",
     "text": [
      "Epoch 28/30:  58%|███████████████████████▋                 | 11/19 [02:18<01:40, 12.56s/it, accuracy=96.9, loss=0.0857]"
     ]
    },
    {
     "name": "stdout",
     "output_type": "stream",
     "text": [
      "Error loading image E:\\Vehicle\\Vehicle_5_classes_sample\\Auto\\Datacluster Auto (61).jpg: image file is truncated (43 bytes not processed)\n"
     ]
    },
    {
     "name": "stderr",
     "output_type": "stream",
     "text": [
      "                                                                                                                       \r"
     ]
    },
    {
     "name": "stdout",
     "output_type": "stream",
     "text": [
      "Epoch [28/30], Loss: 0.1818, Accuracy: 95.80%\n"
     ]
    },
    {
     "name": "stderr",
     "output_type": "stream",
     "text": [
      "Epoch 29/30:   5%|██▏                                      | 1/19 [00:13<03:55, 13.09s/it, accuracy=93.8, loss=0.00496]"
     ]
    },
    {
     "name": "stdout",
     "output_type": "stream",
     "text": [
      "Error loading image E:\\Vehicle\\Vehicle_5_classes_sample\\Truck\\Datacluster Truck (123).jpg: image file is truncated (8 bytes not processed)\n"
     ]
    },
    {
     "name": "stderr",
     "output_type": "stream",
     "text": [
      "Epoch 29/30:  21%|████████▊                                 | 4/19 [00:51<03:14, 12.99s/it, accuracy=96.9, loss=0.0134]"
     ]
    },
    {
     "name": "stdout",
     "output_type": "stream",
     "text": [
      "Error loading image E:\\Vehicle\\Vehicle_5_classes_sample\\Tempo Traveller\\20210508_10_11_26_000_bsfUf1M1E9bMsvY4ENiWwUWjDQp2_F_4160_3120.jpg: image file is truncated (39 bytes not processed)\n"
     ]
    },
    {
     "name": "stderr",
     "output_type": "stream",
     "text": [
      "Epoch 29/30:  32%|█████████████▎                            | 6/19 [01:16<02:45, 12.72s/it, accuracy=97.4, loss=0.0191]"
     ]
    },
    {
     "name": "stdout",
     "output_type": "stream",
     "text": [
      "Error loading image E:\\Vehicle\\Vehicle_5_classes_sample\\Tempo Traveller\\20210517_06_39_54_000_bsfUf1M1E9bMsvY4ENiWwUWjDQp2_F_4160_3120.jpg: image file is truncated (15 bytes not processed)\n"
     ]
    },
    {
     "name": "stderr",
     "output_type": "stream",
     "text": [
      "Epoch 29/30:  47%|███████████████████▉                      | 9/19 [01:55<02:07, 12.73s/it, accuracy=95.5, loss=0.0598]"
     ]
    },
    {
     "name": "stdout",
     "output_type": "stream",
     "text": [
      "Error loading image E:\\Vehicle\\Vehicle_5_classes_sample\\Auto\\Datacluster Auto (61).jpg: image file is truncated (43 bytes not processed)\n"
     ]
    },
    {
     "name": "stderr",
     "output_type": "stream",
     "text": [
      "Epoch 29/30:  68%|████████████████████████████▋             | 13/19 [02:45<01:15, 12.59s/it, accuracy=96.2, loss=0.079]"
     ]
    },
    {
     "name": "stdout",
     "output_type": "stream",
     "text": [
      "Error loading image E:\\Vehicle\\Vehicle_5_classes_sample\\Bus\\20210518_14_58_52_000_RMkLr8rWJDMBfnDv6WRtqfoMLT83_F_3264_2448.jpg: image file is truncated (111 bytes not processed)\n"
     ]
    },
    {
     "name": "stderr",
     "output_type": "stream",
     "text": [
      "                                                                                                                       \r"
     ]
    },
    {
     "name": "stdout",
     "output_type": "stream",
     "text": [
      "Epoch [29/30], Loss: 0.1329, Accuracy: 96.81%\n"
     ]
    },
    {
     "name": "stderr",
     "output_type": "stream",
     "text": [
      "Epoch 30/30:   0%|                                                                              | 0/19 [00:00<?, ?it/s]"
     ]
    },
    {
     "name": "stdout",
     "output_type": "stream",
     "text": [
      "Error loading image E:\\Vehicle\\Vehicle_5_classes_sample\\Bus\\20210518_14_58_52_000_RMkLr8rWJDMBfnDv6WRtqfoMLT83_F_3264_2448.jpg: image file is truncated (111 bytes not processed)\n"
     ]
    },
    {
     "name": "stderr",
     "output_type": "stream",
     "text": [
      "Epoch 30/30:   5%|██▏                                      | 1/19 [00:12<03:45, 12.51s/it, accuracy=93.8, loss=0.00562]"
     ]
    },
    {
     "name": "stdout",
     "output_type": "stream",
     "text": [
      "Error loading image E:\\Vehicle\\Vehicle_5_classes_sample\\Tempo Traveller\\20210508_10_11_26_000_bsfUf1M1E9bMsvY4ENiWwUWjDQp2_F_4160_3120.jpg: image file is truncated (39 bytes not processed)\n"
     ]
    },
    {
     "name": "stderr",
     "output_type": "stream",
     "text": [
      "Epoch 30/30:  42%|██████████████████▌                         | 8/19 [01:40<02:15, 12.36s/it, accuracy=98, loss=0.0225]"
     ]
    },
    {
     "name": "stdout",
     "output_type": "stream",
     "text": [
      "Error loading image E:\\Vehicle\\Vehicle_5_classes_sample\\Truck\\Datacluster Truck (123).jpg: image file is truncated (8 bytes not processed)\n"
     ]
    },
    {
     "name": "stderr",
     "output_type": "stream",
     "text": [
      "Epoch 30/30:  58%|███████████████████████▋                 | 11/19 [02:17<01:39, 12.50s/it, accuracy=98.6, loss=0.0272]"
     ]
    },
    {
     "name": "stdout",
     "output_type": "stream",
     "text": [
      "Error loading image E:\\Vehicle\\Vehicle_5_classes_sample\\Tempo Traveller\\20210517_06_39_54_000_bsfUf1M1E9bMsvY4ENiWwUWjDQp2_F_4160_3120.jpg: image file is truncated (15 bytes not processed)\n"
     ]
    },
    {
     "name": "stderr",
     "output_type": "stream",
     "text": [
      "Epoch 30/30:  74%|██████████████████████████████▏          | 14/19 [02:54<01:01, 12.39s/it, accuracy=98.4, loss=0.0385]"
     ]
    },
    {
     "name": "stdout",
     "output_type": "stream",
     "text": [
      "Error loading image E:\\Vehicle\\Vehicle_5_classes_sample\\Auto\\Datacluster Auto (61).jpg: image file is truncated (43 bytes not processed)\n"
     ]
    },
    {
     "name": "stderr",
     "output_type": "stream",
     "text": [
      "                                                                                                                       "
     ]
    },
    {
     "name": "stdout",
     "output_type": "stream",
     "text": [
      "Epoch [30/30], Loss: 0.0816, Accuracy: 98.15%\n"
     ]
    },
    {
     "name": "stderr",
     "output_type": "stream",
     "text": [
      "\r"
     ]
    }
   ],
   "source": [
    "def train_model(model, criterion, optimizer, train_loader, num_epochs=30):\n",
    "    model.train()\n",
    "    for epoch in range(num_epochs):\n",
    "        running_loss = 0.0\n",
    "        correct = 0\n",
    "        total = 0\n",
    "        tqdm_loader = tqdm(train_loader, desc=f'Epoch {epoch + 1}/{num_epochs}', leave=False)\n",
    "        for images, labels in tqdm_loader:\n",
    "            images, labels = images.to(device), torch.tensor(labels).to(device)\n",
    "            \n",
    "            optimizer.zero_grad()\n",
    "            \n",
    "            # Forward pass\n",
    "            outputs, _ = model(images)  # Extract logits from InceptionOutputs\n",
    "            \n",
    "            # Calculate loss\n",
    "            loss = criterion(outputs, labels.long())  # Ensure labels are cast to torch.long\n",
    "            \n",
    "            # Backward pass and optimize\n",
    "            loss.backward()\n",
    "            optimizer.step()\n",
    "            \n",
    "            # Update statistics\n",
    "            running_loss += loss.item()\n",
    "            _, predicted = torch.max(outputs, 1)\n",
    "            total += labels.size(0)\n",
    "            correct += (predicted == labels).sum().item()\n",
    "        \n",
    "            tqdm_loader.set_postfix(loss=running_loss / len(tqdm_loader), accuracy=100 * correct / total)\n",
    "        \n",
    "        # Print epoch statistics\n",
    "        print(f'Epoch [{epoch+1}/{num_epochs}], Loss: {running_loss/len(train_loader):.4f}, Accuracy: {100 * correct / total:.2f}%')\n",
    "\n",
    "# Example usage\n",
    "train_model(model, criterion, optimizer, train_loader)\n"
   ]
  },
  {
   "cell_type": "code",
   "execution_count": 11,
   "id": "3449585b",
   "metadata": {},
   "outputs": [],
   "source": [
    "# Save model\n",
    "torch.save(model.state_dict(), 'E:/Vehicle/model/inceptionv3_cuda_model.pth')"
   ]
  },
  {
   "cell_type": "code",
   "execution_count": 13,
   "id": "c38aed2d",
   "metadata": {},
   "outputs": [
    {
     "name": "stderr",
     "output_type": "stream",
     "text": [
      "C:\\Users\\anand\\AppData\\Local\\Temp\\ipykernel_1228\\3547054473.py:10: UserWarning: To copy construct from a tensor, it is recommended to use sourceTensor.clone().detach() or sourceTensor.clone().detach().requires_grad_(True), rather than torch.tensor(sourceTensor).\n",
      "  images, labels = images.to(device), torch.tensor(labels).to(device)\n"
     ]
    },
    {
     "name": "stdout",
     "output_type": "stream",
     "text": [
      "Test Accuracy: 59.73154362416108%\n"
     ]
    }
   ],
   "source": [
    "# Evaluation\n",
    "model.eval()\n",
    "correct = 0\n",
    "total = 0\n",
    "all_preds = []\n",
    "all_labels = []\n",
    "\n",
    "with torch.no_grad():\n",
    "    for images, labels in test_loader:\n",
    "        images, labels = images.to(device), torch.tensor(labels).to(device)\n",
    "        outputs = model(images)\n",
    "        _, predicted = torch.max(outputs, 1)\n",
    "        total += labels.size(0)\n",
    "        correct += (predicted == labels).sum().item()\n",
    "        all_preds.extend(predicted.cpu().numpy())\n",
    "        all_labels.extend(labels.cpu().numpy())\n",
    "\n",
    "print(f'Test Accuracy: {100 * correct / total}%')"
   ]
  },
  {
   "cell_type": "code",
   "execution_count": null,
   "id": "11aa8842",
   "metadata": {},
   "outputs": [],
   "source": []
  }
 ],
 "metadata": {
  "kernelspec": {
   "display_name": "Python 3 (ipykernel)",
   "language": "python",
   "name": "python3"
  },
  "language_info": {
   "codemirror_mode": {
    "name": "ipython",
    "version": 3
   },
   "file_extension": ".py",
   "mimetype": "text/x-python",
   "name": "python",
   "nbconvert_exporter": "python",
   "pygments_lexer": "ipython3",
   "version": "3.11.7"
  }
 },
 "nbformat": 4,
 "nbformat_minor": 5
}
