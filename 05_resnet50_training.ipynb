{
 "cells": [
  {
   "cell_type": "code",
   "execution_count": 1,
   "id": "681b7b1e",
   "metadata": {},
   "outputs": [],
   "source": [
    "import os\n",
    "import numpy as np\n",
    "import pandas as pd\n",
    "from pathlib import Path\n",
    "from sklearn.model_selection import train_test_split\n",
    "import torch\n",
    "import torch.nn as nn\n",
    "import torch.optim as optim\n",
    "from torch.utils.data import DataLoader, Dataset\n",
    "from torchvision import models, transforms\n",
    "from PIL import Image\n",
    "import matplotlib.pyplot as plt\n",
    "from tqdm import tqdm"
   ]
  },
  {
   "cell_type": "code",
   "execution_count": 2,
   "id": "f10bfc67",
   "metadata": {},
   "outputs": [
    {
     "name": "stdout",
     "output_type": "stream",
     "text": [
      "Using device: cuda\n"
     ]
    }
   ],
   "source": [
    "# Check if CUDA is available and use it if possible\n",
    "device = torch.device('cuda' if torch.cuda.is_available() else 'cpu')\n",
    "print(f'Using device: {device}')"
   ]
  },
  {
   "cell_type": "code",
   "execution_count": 3,
   "id": "22a90f67",
   "metadata": {},
   "outputs": [],
   "source": [
    "# Load the train and test dataframes\n",
    "train_df = pd.read_csv('E:/Vehicle/train_df.csv')\n",
    "test_df = pd.read_csv('E:/Vehicle/test_df.csv')"
   ]
  },
  {
   "cell_type": "code",
   "execution_count": 4,
   "id": "9ec38cab",
   "metadata": {},
   "outputs": [],
   "source": [
    "# Encode labels as integers\n",
    "label_to_idx = {label: idx for idx, label in enumerate(train_df['Label'].unique())}\n",
    "idx_to_label = {idx: label for label, idx in label_to_idx.items()}"
   ]
  },
  {
   "cell_type": "code",
   "execution_count": 5,
   "id": "9a163ceb",
   "metadata": {},
   "outputs": [],
   "source": [
    "# Custom dataset class\n",
    "class VehicleDataset(Dataset):\n",
    "    def __init__(self, dataframe, transform=None):\n",
    "        self.dataframe = dataframe\n",
    "        self.transform = transform\n",
    "\n",
    "    def __len__(self):\n",
    "        return len(self.dataframe)\n",
    "\n",
    "    def __getitem__(self, idx):\n",
    "        img_path = self.dataframe.iloc[idx]['Filepath']\n",
    "        try:\n",
    "            image = Image.open(img_path).convert('RGB')\n",
    "        except (OSError, FileNotFoundError) as e:\n",
    "            print(f\"Error loading image {img_path}: {e}\")\n",
    "            # Skip this image and use a different image\n",
    "            return self.__getitem__((idx + 1) % len(self.dataframe))\n",
    "        \n",
    "        label = self.dataframe.iloc[idx]['Label']\n",
    "        label = label_to_idx[label]  # Convert string label to numerical label\n",
    "        \n",
    "        if self.transform:\n",
    "            image = self.transform(image)\n",
    "        \n",
    "        return image, label"
   ]
  },
  {
   "cell_type": "code",
   "execution_count": 6,
   "id": "36136ffe",
   "metadata": {},
   "outputs": [],
   "source": [
    "# Image transformations\n",
    "transform = transforms.Compose([\n",
    "    transforms.Resize((224, 224)),\n",
    "    transforms.ToTensor(),\n",
    "    transforms.Normalize(mean=[0.485, 0.456, 0.406], std=[0.229, 0.224, 0.225])\n",
    "])\n"
   ]
  },
  {
   "cell_type": "code",
   "execution_count": 7,
   "id": "be402fcb",
   "metadata": {},
   "outputs": [],
   "source": [
    "# Create datasets and dataloaders\n",
    "train_dataset = VehicleDataset(train_df, transform=transform)\n",
    "test_dataset = VehicleDataset(test_df, transform=transform)\n",
    "\n",
    "train_loader = DataLoader(train_dataset, batch_size=32, shuffle=True)\n",
    "test_loader = DataLoader(test_dataset, batch_size=32, shuffle=False)\n"
   ]
  },
  {
   "cell_type": "code",
   "execution_count": 8,
   "id": "23336e4b",
   "metadata": {},
   "outputs": [
    {
     "name": "stderr",
     "output_type": "stream",
     "text": [
      "C:\\Users\\anand\\anaconda3\\Lib\\site-packages\\torchvision\\models\\_utils.py:208: UserWarning: The parameter 'pretrained' is deprecated since 0.13 and may be removed in the future, please use 'weights' instead.\n",
      "  warnings.warn(\n",
      "C:\\Users\\anand\\anaconda3\\Lib\\site-packages\\torchvision\\models\\_utils.py:223: UserWarning: Arguments other than a weight enum or `None` for 'weights' are deprecated since 0.13 and may be removed in the future. The current behavior is equivalent to passing `weights=ResNet50_Weights.IMAGENET1K_V1`. You can also use `weights=ResNet50_Weights.DEFAULT` to get the most up-to-date weights.\n",
      "  warnings.warn(msg)\n"
     ]
    }
   ],
   "source": [
    "# Load pre-trained ResNet50 model\n",
    "model = models.resnet50(pretrained=True)"
   ]
  },
  {
   "cell_type": "code",
   "execution_count": 9,
   "id": "78b8a1eb",
   "metadata": {},
   "outputs": [],
   "source": [
    "# Modify the final layer\n",
    "num_ftrs = model.fc.in_features\n",
    "model.fc = nn.Linear(num_ftrs, 5)  # Assuming 5 classes\n",
    "\n",
    "model = model.to(device)"
   ]
  },
  {
   "cell_type": "code",
   "execution_count": 10,
   "id": "86b4cff8",
   "metadata": {},
   "outputs": [],
   "source": [
    "# Loss function and optimizer\n",
    "criterion = nn.CrossEntropyLoss()\n",
    "optimizer = optim.Adam(model.parameters(), lr=0.001)"
   ]
  },
  {
   "cell_type": "code",
   "execution_count": 11,
   "id": "e6183725",
   "metadata": {},
   "outputs": [
    {
     "name": "stderr",
     "output_type": "stream",
     "text": [
      "Epoch 1/30:  21%|████████▊                                 | 4/19 [00:33<02:04,  8.28s/batch, Loss=1.62, Accuracy=34.4]"
     ]
    },
    {
     "name": "stdout",
     "output_type": "stream",
     "text": [
      "Error loading image E:\\Vehicle\\Vehicle_5_classes_sample\\Tempo Traveller\\20210508_10_11_26_000_bsfUf1M1E9bMsvY4ENiWwUWjDQp2_F_4160_3120.jpg: image file is truncated (39 bytes not processed)\n"
     ]
    },
    {
     "name": "stderr",
     "output_type": "stream",
     "text": [
      "Epoch 1/30:  32%|█████████████▎                            | 6/19 [00:49<01:46,  8.17s/batch, Loss=1.71, Accuracy=34.9]"
     ]
    },
    {
     "name": "stdout",
     "output_type": "stream",
     "text": [
      "Error loading image E:\\Vehicle\\Vehicle_5_classes_sample\\Auto\\Datacluster Auto (61).jpg: image file is truncated (43 bytes not processed)\n"
     ]
    },
    {
     "name": "stderr",
     "output_type": "stream",
     "text": [
      "Epoch 1/30:  58%|███████████████████████▋                 | 11/19 [01:27<01:01,  7.67s/batch, Loss=1.62, Accuracy=36.4]"
     ]
    },
    {
     "name": "stdout",
     "output_type": "stream",
     "text": [
      "Error loading image E:\\Vehicle\\Vehicle_5_classes_sample\\Bus\\20210518_14_58_52_000_RMkLr8rWJDMBfnDv6WRtqfoMLT83_F_3264_2448.jpg: image file is truncated (111 bytes not processed)\n",
      "Error loading image E:\\Vehicle\\Vehicle_5_classes_sample\\Truck\\Datacluster Truck (123).jpg: image file is truncated (8 bytes not processed)\n"
     ]
    },
    {
     "name": "stderr",
     "output_type": "stream",
     "text": [
      "Epoch 1/30:  74%|██████████████████████████████▏          | 14/19 [01:49<00:37,  7.47s/batch, Loss=1.57, Accuracy=36.4]"
     ]
    },
    {
     "name": "stdout",
     "output_type": "stream",
     "text": [
      "Error loading image E:\\Vehicle\\Vehicle_5_classes_sample\\Tempo Traveller\\20210517_06_39_54_000_bsfUf1M1E9bMsvY4ENiWwUWjDQp2_F_4160_3120.jpg: image file is truncated (15 bytes not processed)\n"
     ]
    },
    {
     "name": "stderr",
     "output_type": "stream",
     "text": [
      "Epoch 1/30: 100%|█████████████████████████████████████████| 19/19 [02:27<00:00,  7.76s/batch, Loss=1.51, Accuracy=39.3]\n"
     ]
    },
    {
     "name": "stdout",
     "output_type": "stream",
     "text": [
      "Epoch [1/30], Loss: 1.5120304885663485, Accuracy: 39.32773109243698%\n"
     ]
    },
    {
     "name": "stderr",
     "output_type": "stream",
     "text": [
      "Epoch 2/30:  11%|████▍                                     | 2/19 [00:15<02:06,  7.47s/batch, Loss=1.22, Accuracy=56.2]"
     ]
    },
    {
     "name": "stdout",
     "output_type": "stream",
     "text": [
      "Error loading image E:\\Vehicle\\Vehicle_5_classes_sample\\Tempo Traveller\\20210517_06_39_54_000_bsfUf1M1E9bMsvY4ENiWwUWjDQp2_F_4160_3120.jpg: image file is truncated (15 bytes not processed)\n"
     ]
    },
    {
     "name": "stderr",
     "output_type": "stream",
     "text": [
      "Epoch 2/30:  16%|██████▋                                   | 3/19 [00:23<02:03,  7.74s/batch, Loss=1.12, Accuracy=60.4]"
     ]
    },
    {
     "name": "stdout",
     "output_type": "stream",
     "text": [
      "Error loading image E:\\Vehicle\\Vehicle_5_classes_sample\\Tempo Traveller\\20210508_10_11_26_000_bsfUf1M1E9bMsvY4ENiWwUWjDQp2_F_4160_3120.jpg: image file is truncated (39 bytes not processed)\n"
     ]
    },
    {
     "name": "stderr",
     "output_type": "stream",
     "text": [
      "Epoch 2/30:  63%|█████████████████████████▉               | 12/19 [01:27<00:50,  7.18s/batch, Loss=1.21, Accuracy=54.9]"
     ]
    },
    {
     "name": "stdout",
     "output_type": "stream",
     "text": [
      "Error loading image E:\\Vehicle\\Vehicle_5_classes_sample\\Truck\\Datacluster Truck (123).jpg: image file is truncated (8 bytes not processed)\n"
     ]
    },
    {
     "name": "stderr",
     "output_type": "stream",
     "text": [
      "Epoch 2/30:  68%|████████████████████████████▋             | 13/19 [01:34<00:43,  7.25s/batch, Loss=1.2, Accuracy=55.8]"
     ]
    },
    {
     "name": "stdout",
     "output_type": "stream",
     "text": [
      "Error loading image E:\\Vehicle\\Vehicle_5_classes_sample\\Auto\\Datacluster Auto (61).jpg: image file is truncated (43 bytes not processed)\n"
     ]
    },
    {
     "name": "stderr",
     "output_type": "stream",
     "text": [
      "Epoch 2/30:  79%|████████████████████████████████▎        | 15/19 [01:49<00:28,  7.25s/batch, Loss=1.22, Accuracy=55.6]"
     ]
    },
    {
     "name": "stdout",
     "output_type": "stream",
     "text": [
      "Error loading image E:\\Vehicle\\Vehicle_5_classes_sample\\Bus\\20210518_14_58_52_000_RMkLr8rWJDMBfnDv6WRtqfoMLT83_F_3264_2448.jpg: image file is truncated (111 bytes not processed)\n"
     ]
    },
    {
     "name": "stderr",
     "output_type": "stream",
     "text": [
      "Epoch 2/30: 100%|██████████████████████████████████████████| 19/19 [02:13<00:00,  7.04s/batch, Loss=1.2, Accuracy=57.1]\n"
     ]
    },
    {
     "name": "stdout",
     "output_type": "stream",
     "text": [
      "Epoch [2/30], Loss: 1.197413300213061, Accuracy: 57.142857142857146%\n"
     ]
    },
    {
     "name": "stderr",
     "output_type": "stream",
     "text": [
      "Epoch 3/30:  42%|█████████████████▎                       | 8/19 [00:55<01:15,  6.89s/batch, Loss=0.924, Accuracy=68.4]"
     ]
    },
    {
     "name": "stdout",
     "output_type": "stream",
     "text": [
      "Error loading image E:\\Vehicle\\Vehicle_5_classes_sample\\Tempo Traveller\\20210508_10_11_26_000_bsfUf1M1E9bMsvY4ENiWwUWjDQp2_F_4160_3120.jpg: image file is truncated (39 bytes not processed)\n"
     ]
    },
    {
     "name": "stderr",
     "output_type": "stream",
     "text": [
      "Epoch 3/30:  47%|███████████████████▍                     | 9/19 [01:02<01:09,  6.94s/batch, Loss=0.918, Accuracy=68.4]"
     ]
    },
    {
     "name": "stdout",
     "output_type": "stream",
     "text": [
      "Error loading image E:\\Vehicle\\Vehicle_5_classes_sample\\Tempo Traveller\\20210517_06_39_54_000_bsfUf1M1E9bMsvY4ENiWwUWjDQp2_F_4160_3120.jpg: image file is truncated (15 bytes not processed)\n"
     ]
    },
    {
     "name": "stderr",
     "output_type": "stream",
     "text": [
      "Epoch 3/30:  68%|███████████████████████████▎            | 13/19 [01:31<00:43,  7.19s/batch, Loss=0.896, Accuracy=67.3]"
     ]
    },
    {
     "name": "stdout",
     "output_type": "stream",
     "text": [
      "Error loading image E:\\Vehicle\\Vehicle_5_classes_sample\\Auto\\Datacluster Auto (61).jpg: image file is truncated (43 bytes not processed)\n"
     ]
    },
    {
     "name": "stderr",
     "output_type": "stream",
     "text": [
      "Epoch 3/30:  89%|███████████████████████████████████▊    | 17/19 [02:05<00:16,  8.15s/batch, Loss=0.908, Accuracy=66.5]"
     ]
    },
    {
     "name": "stdout",
     "output_type": "stream",
     "text": [
      "Error loading image E:\\Vehicle\\Vehicle_5_classes_sample\\Bus\\20210518_14_58_52_000_RMkLr8rWJDMBfnDv6WRtqfoMLT83_F_3264_2448.jpg: image file is truncated (111 bytes not processed)\n"
     ]
    },
    {
     "name": "stderr",
     "output_type": "stream",
     "text": [
      "Epoch 3/30:  95%|█████████████████████████████████████▉  | 18/19 [02:11<00:07,  7.74s/batch, Loss=0.914, Accuracy=66.5]"
     ]
    },
    {
     "name": "stdout",
     "output_type": "stream",
     "text": [
      "Error loading image E:\\Vehicle\\Vehicle_5_classes_sample\\Truck\\Datacluster Truck (123).jpg: image file is truncated (8 bytes not processed)\n"
     ]
    },
    {
     "name": "stderr",
     "output_type": "stream",
     "text": [
      "Epoch 3/30: 100%|████████████████████████████████████████| 19/19 [02:16<00:00,  7.17s/batch, Loss=0.935, Accuracy=65.9]\n"
     ]
    },
    {
     "name": "stdout",
     "output_type": "stream",
     "text": [
      "Epoch [3/30], Loss: 0.9352784595991436, Accuracy: 65.88235294117646%\n"
     ]
    },
    {
     "name": "stderr",
     "output_type": "stream",
     "text": [
      "Epoch 4/30:  26%|██████████▊                              | 5/19 [00:35<01:38,  7.04s/batch, Loss=0.692, Accuracy=77.5]"
     ]
    },
    {
     "name": "stdout",
     "output_type": "stream",
     "text": [
      "Error loading image E:\\Vehicle\\Vehicle_5_classes_sample\\Bus\\20210518_14_58_52_000_RMkLr8rWJDMBfnDv6WRtqfoMLT83_F_3264_2448.jpg: image file is truncated (111 bytes not processed)\n"
     ]
    },
    {
     "name": "stderr",
     "output_type": "stream",
     "text": [
      "Epoch 4/30:  37%|███████████████                          | 7/19 [00:49<01:25,  7.15s/batch, Loss=0.732, Accuracy=76.3]"
     ]
    },
    {
     "name": "stdout",
     "output_type": "stream",
     "text": [
      "Error loading image E:\\Vehicle\\Vehicle_5_classes_sample\\Auto\\Datacluster Auto (61).jpg: image file is truncated (43 bytes not processed)\n"
     ]
    },
    {
     "name": "stderr",
     "output_type": "stream",
     "text": [
      "Epoch 4/30:  42%|█████████████████▎                       | 8/19 [00:56<01:19,  7.24s/batch, Loss=0.751, Accuracy=74.6]"
     ]
    },
    {
     "name": "stdout",
     "output_type": "stream",
     "text": [
      "Error loading image E:\\Vehicle\\Vehicle_5_classes_sample\\Tempo Traveller\\20210508_10_11_26_000_bsfUf1M1E9bMsvY4ENiWwUWjDQp2_F_4160_3120.jpg: image file is truncated (39 bytes not processed)\n",
      "Error loading image E:\\Vehicle\\Vehicle_5_classes_sample\\Tempo Traveller\\20210517_06_39_54_000_bsfUf1M1E9bMsvY4ENiWwUWjDQp2_F_4160_3120.jpg: image file is truncated (15 bytes not processed)\n"
     ]
    },
    {
     "name": "stderr",
     "output_type": "stream",
     "text": [
      "Epoch 4/30:  53%|█████████████████████                   | 10/19 [01:12<01:08,  7.60s/batch, Loss=0.761, Accuracy=73.8]"
     ]
    },
    {
     "name": "stdout",
     "output_type": "stream",
     "text": [
      "Error loading image E:\\Vehicle\\Vehicle_5_classes_sample\\Truck\\Datacluster Truck (123).jpg: image file is truncated (8 bytes not processed)\n"
     ]
    },
    {
     "name": "stderr",
     "output_type": "stream",
     "text": [
      "Epoch 4/30: 100%|████████████████████████████████████████| 19/19 [02:17<00:00,  7.25s/batch, Loss=0.766, Accuracy=72.6]\n"
     ]
    },
    {
     "name": "stdout",
     "output_type": "stream",
     "text": [
      "Epoch [4/30], Loss: 0.7657394064100165, Accuracy: 72.60504201680672%\n"
     ]
    },
    {
     "name": "stderr",
     "output_type": "stream",
     "text": [
      "Epoch 5/30:  26%|██████████▊                              | 5/19 [00:38<01:49,  7.86s/batch, Loss=0.445, Accuracy=84.4]"
     ]
    },
    {
     "name": "stdout",
     "output_type": "stream",
     "text": [
      "Error loading image E:\\Vehicle\\Vehicle_5_classes_sample\\Auto\\Datacluster Auto (61).jpg: image file is truncated (43 bytes not processed)\n"
     ]
    },
    {
     "name": "stderr",
     "output_type": "stream",
     "text": [
      "Epoch 5/30:  42%|█████████████████▎                       | 8/19 [01:01<01:23,  7.57s/batch, Loss=0.477, Accuracy=82.8]"
     ]
    },
    {
     "name": "stdout",
     "output_type": "stream",
     "text": [
      "Error loading image E:\\Vehicle\\Vehicle_5_classes_sample\\Bus\\20210518_14_58_52_000_RMkLr8rWJDMBfnDv6WRtqfoMLT83_F_3264_2448.jpg: image file is truncated (111 bytes not processed)\n"
     ]
    },
    {
     "name": "stderr",
     "output_type": "stream",
     "text": [
      "Epoch 5/30:  53%|█████████████████████                   | 10/19 [01:14<01:04,  7.11s/batch, Loss=0.452, Accuracy=82.8]"
     ]
    },
    {
     "name": "stdout",
     "output_type": "stream",
     "text": [
      "Error loading image E:\\Vehicle\\Vehicle_5_classes_sample\\Tempo Traveller\\20210508_10_11_26_000_bsfUf1M1E9bMsvY4ENiWwUWjDQp2_F_4160_3120.jpg: image file is truncated (39 bytes not processed)\n"
     ]
    },
    {
     "name": "stderr",
     "output_type": "stream",
     "text": [
      "Epoch 5/30:  74%|█████████████████████████████▍          | 14/19 [01:40<00:34,  6.81s/batch, Loss=0.484, Accuracy=81.9]"
     ]
    },
    {
     "name": "stdout",
     "output_type": "stream",
     "text": [
      "Error loading image E:\\Vehicle\\Vehicle_5_classes_sample\\Tempo Traveller\\20210517_06_39_54_000_bsfUf1M1E9bMsvY4ENiWwUWjDQp2_F_4160_3120.jpg: image file is truncated (15 bytes not processed)\n"
     ]
    },
    {
     "name": "stderr",
     "output_type": "stream",
     "text": [
      "Epoch 5/30:  84%|██████████████████████████████████▌      | 16/19 [01:53<00:19,  6.67s/batch, Loss=0.52, Accuracy=81.2]"
     ]
    },
    {
     "name": "stdout",
     "output_type": "stream",
     "text": [
      "Error loading image E:\\Vehicle\\Vehicle_5_classes_sample\\Truck\\Datacluster Truck (123).jpg: image file is truncated (8 bytes not processed)\n"
     ]
    },
    {
     "name": "stderr",
     "output_type": "stream",
     "text": [
      "Epoch 5/30: 100%|████████████████████████████████████████| 19/19 [02:10<00:00,  6.89s/batch, Loss=0.573, Accuracy=79.7]\n"
     ]
    },
    {
     "name": "stdout",
     "output_type": "stream",
     "text": [
      "Epoch [5/30], Loss: 0.5726392457359716, Accuracy: 79.66386554621849%\n"
     ]
    },
    {
     "name": "stderr",
     "output_type": "stream",
     "text": [
      "Epoch 6/30:  16%|██████▍                                  | 3/19 [00:19<01:41,  6.32s/batch, Loss=0.632, Accuracy=72.9]"
     ]
    },
    {
     "name": "stdout",
     "output_type": "stream",
     "text": [
      "Error loading image E:\\Vehicle\\Vehicle_5_classes_sample\\Truck\\Datacluster Truck (123).jpg: image file is truncated (8 bytes not processed)\n"
     ]
    },
    {
     "name": "stderr",
     "output_type": "stream",
     "text": [
      "Epoch 6/30:  26%|██████████▊                              | 5/19 [00:32<01:33,  6.71s/batch, Loss=0.598, Accuracy=76.9]"
     ]
    },
    {
     "name": "stdout",
     "output_type": "stream",
     "text": [
      "Error loading image E:\\Vehicle\\Vehicle_5_classes_sample\\Bus\\20210518_14_58_52_000_RMkLr8rWJDMBfnDv6WRtqfoMLT83_F_3264_2448.jpg: image file is truncated (111 bytes not processed)\n"
     ]
    },
    {
     "name": "stderr",
     "output_type": "stream",
     "text": [
      "Epoch 6/30:  42%|█████████████████▎                       | 8/19 [00:51<01:08,  6.21s/batch, Loss=0.585, Accuracy=76.2]"
     ]
    },
    {
     "name": "stdout",
     "output_type": "stream",
     "text": [
      "Error loading image E:\\Vehicle\\Vehicle_5_classes_sample\\Tempo Traveller\\20210517_06_39_54_000_bsfUf1M1E9bMsvY4ENiWwUWjDQp2_F_4160_3120.jpg: image file is truncated (15 bytes not processed)\n"
     ]
    },
    {
     "name": "stderr",
     "output_type": "stream",
     "text": [
      "Epoch 6/30:  53%|█████████████████████                   | 10/19 [01:03<00:56,  6.25s/batch, Loss=0.573, Accuracy=77.8]"
     ]
    },
    {
     "name": "stdout",
     "output_type": "stream",
     "text": [
      "Error loading image E:\\Vehicle\\Vehicle_5_classes_sample\\Tempo Traveller\\20210508_10_11_26_000_bsfUf1M1E9bMsvY4ENiWwUWjDQp2_F_4160_3120.jpg: image file is truncated (39 bytes not processed)\n"
     ]
    },
    {
     "name": "stderr",
     "output_type": "stream",
     "text": [
      "Epoch 6/30:  63%|█████████████████████████▎              | 12/19 [01:17<00:46,  6.59s/batch, Loss=0.585, Accuracy=77.6]"
     ]
    },
    {
     "name": "stdout",
     "output_type": "stream",
     "text": [
      "Error loading image E:\\Vehicle\\Vehicle_5_classes_sample\\Auto\\Datacluster Auto (61).jpg: image file is truncated (43 bytes not processed)\n"
     ]
    },
    {
     "name": "stderr",
     "output_type": "stream",
     "text": [
      "Epoch 6/30: 100%|████████████████████████████████████████| 19/19 [02:02<00:00,  6.46s/batch, Loss=0.633, Accuracy=76.8]\n"
     ]
    },
    {
     "name": "stdout",
     "output_type": "stream",
     "text": [
      "Epoch [6/30], Loss: 0.6332311959643113, Accuracy: 76.80672268907563%\n"
     ]
    },
    {
     "name": "stderr",
     "output_type": "stream",
     "text": [
      "Epoch 7/30:   0%|                                                                            | 0/19 [00:00<?, ?batch/s]"
     ]
    },
    {
     "name": "stdout",
     "output_type": "stream",
     "text": [
      "Error loading image E:\\Vehicle\\Vehicle_5_classes_sample\\Tempo Traveller\\20210508_10_11_26_000_bsfUf1M1E9bMsvY4ENiWwUWjDQp2_F_4160_3120.jpg: image file is truncated (39 bytes not processed)\n",
      "Error loading image E:\\Vehicle\\Vehicle_5_classes_sample\\Auto\\Datacluster Auto (61).jpg: image file is truncated (43 bytes not processed)\n",
      "Error loading image E:\\Vehicle\\Vehicle_5_classes_sample\\Tempo Traveller\\20210517_06_39_54_000_bsfUf1M1E9bMsvY4ENiWwUWjDQp2_F_4160_3120.jpg: image file is truncated (15 bytes not processed)\n"
     ]
    },
    {
     "name": "stderr",
     "output_type": "stream",
     "text": [
      "Epoch 7/30:  21%|████████▋                                | 4/19 [00:28<01:47,  7.17s/batch, Loss=0.467, Accuracy=85.2]"
     ]
    },
    {
     "name": "stdout",
     "output_type": "stream",
     "text": [
      "Error loading image E:\\Vehicle\\Vehicle_5_classes_sample\\Bus\\20210518_14_58_52_000_RMkLr8rWJDMBfnDv6WRtqfoMLT83_F_3264_2448.jpg: image file is truncated (111 bytes not processed)\n"
     ]
    },
    {
     "name": "stderr",
     "output_type": "stream",
     "text": [
      "Epoch 7/30:  53%|█████████████████████                   | 10/19 [01:08<00:58,  6.52s/batch, Loss=0.408, Accuracy=87.2]"
     ]
    },
    {
     "name": "stdout",
     "output_type": "stream",
     "text": [
      "Error loading image E:\\Vehicle\\Vehicle_5_classes_sample\\Truck\\Datacluster Truck (123).jpg: image file is truncated (8 bytes not processed)\n"
     ]
    },
    {
     "name": "stderr",
     "output_type": "stream",
     "text": [
      "Epoch 7/30: 100%|██████████████████████████████████████████| 19/19 [02:08<00:00,  6.78s/batch, Loss=0.5, Accuracy=83.9]\n"
     ]
    },
    {
     "name": "stdout",
     "output_type": "stream",
     "text": [
      "Epoch [7/30], Loss: 0.5004232863062307, Accuracy: 83.8655462184874%\n"
     ]
    },
    {
     "name": "stderr",
     "output_type": "stream",
     "text": [
      "Epoch 8/30:   5%|██▏                                      | 1/19 [00:06<01:48,  6.01s/batch, Loss=0.411, Accuracy=78.1]"
     ]
    },
    {
     "name": "stdout",
     "output_type": "stream",
     "text": [
      "Error loading image E:\\Vehicle\\Vehicle_5_classes_sample\\Truck\\Datacluster Truck (123).jpg: image file is truncated (8 bytes not processed)\n"
     ]
    },
    {
     "name": "stderr",
     "output_type": "stream",
     "text": [
      "Epoch 8/30:  26%|██████████▊                              | 5/19 [00:34<01:38,  7.01s/batch, Loss=0.528, Accuracy=82.5]"
     ]
    },
    {
     "name": "stdout",
     "output_type": "stream",
     "text": [
      "Error loading image E:\\Vehicle\\Vehicle_5_classes_sample\\Tempo Traveller\\20210517_06_39_54_000_bsfUf1M1E9bMsvY4ENiWwUWjDQp2_F_4160_3120.jpg: image file is truncated (15 bytes not processed)\n",
      "Error loading image E:\\Vehicle\\Vehicle_5_classes_sample\\Auto\\Datacluster Auto (61).jpg: image file is truncated (43 bytes not processed)\n"
     ]
    },
    {
     "name": "stderr",
     "output_type": "stream",
     "text": [
      "Epoch 8/30:  42%|█████████████████▎                       | 8/19 [00:54<01:12,  6.62s/batch, Loss=0.512, Accuracy=83.2]"
     ]
    },
    {
     "name": "stdout",
     "output_type": "stream",
     "text": [
      "Error loading image E:\\Vehicle\\Vehicle_5_classes_sample\\Tempo Traveller\\20210508_10_11_26_000_bsfUf1M1E9bMsvY4ENiWwUWjDQp2_F_4160_3120.jpg: image file is truncated (39 bytes not processed)\n"
     ]
    },
    {
     "name": "stderr",
     "output_type": "stream",
     "text": [
      "Epoch 8/30:  63%|█████████████████████████▎              | 12/19 [01:20<00:45,  6.47s/batch, Loss=0.558, Accuracy=81.5]"
     ]
    },
    {
     "name": "stdout",
     "output_type": "stream",
     "text": [
      "Error loading image E:\\Vehicle\\Vehicle_5_classes_sample\\Bus\\20210518_14_58_52_000_RMkLr8rWJDMBfnDv6WRtqfoMLT83_F_3264_2448.jpg: image file is truncated (111 bytes not processed)\n"
     ]
    },
    {
     "name": "stderr",
     "output_type": "stream",
     "text": [
      "Epoch 8/30: 100%|████████████████████████████████████████| 19/19 [02:04<00:00,  6.56s/batch, Loss=0.507, Accuracy=82.9]\n"
     ]
    },
    {
     "name": "stdout",
     "output_type": "stream",
     "text": [
      "Epoch [8/30], Loss: 0.5065619035771018, Accuracy: 82.85714285714286%\n"
     ]
    },
    {
     "name": "stderr",
     "output_type": "stream",
     "text": [
      "Epoch 9/30:   0%|                                                                            | 0/19 [00:00<?, ?batch/s]"
     ]
    },
    {
     "name": "stdout",
     "output_type": "stream",
     "text": [
      "Error loading image E:\\Vehicle\\Vehicle_5_classes_sample\\Tempo Traveller\\20210517_06_39_54_000_bsfUf1M1E9bMsvY4ENiWwUWjDQp2_F_4160_3120.jpg: image file is truncated (15 bytes not processed)\n"
     ]
    },
    {
     "name": "stderr",
     "output_type": "stream",
     "text": [
      "Epoch 9/30:   5%|██▏                                      | 1/19 [00:06<02:00,  6.72s/batch, Loss=0.182, Accuracy=93.8]"
     ]
    },
    {
     "name": "stdout",
     "output_type": "stream",
     "text": [
      "Error loading image E:\\Vehicle\\Vehicle_5_classes_sample\\Bus\\20210518_14_58_52_000_RMkLr8rWJDMBfnDv6WRtqfoMLT83_F_3264_2448.jpg: image file is truncated (111 bytes not processed)\n"
     ]
    },
    {
     "name": "stderr",
     "output_type": "stream",
     "text": [
      "Epoch 9/30:  11%|████▎                                    | 2/19 [00:13<01:55,  6.77s/batch, Loss=0.263, Accuracy=90.6]"
     ]
    },
    {
     "name": "stdout",
     "output_type": "stream",
     "text": [
      "Error loading image E:\\Vehicle\\Vehicle_5_classes_sample\\Auto\\Datacluster Auto (61).jpg: image file is truncated (43 bytes not processed)\n"
     ]
    },
    {
     "name": "stderr",
     "output_type": "stream",
     "text": [
      "Epoch 9/30:  84%|█████████████████████████████████▋      | 16/19 [01:45<00:20,  6.68s/batch, Loss=0.326, Accuracy=87.5]"
     ]
    },
    {
     "name": "stdout",
     "output_type": "stream",
     "text": [
      "Error loading image E:\\Vehicle\\Vehicle_5_classes_sample\\Truck\\Datacluster Truck (123).jpg: image file is truncated (8 bytes not processed)\n"
     ]
    },
    {
     "name": "stderr",
     "output_type": "stream",
     "text": [
      "Epoch 9/30:  95%|█████████████████████████████████████▉  | 18/19 [01:58<00:06,  6.60s/batch, Loss=0.316, Accuracy=88.2]"
     ]
    },
    {
     "name": "stdout",
     "output_type": "stream",
     "text": [
      "Error loading image E:\\Vehicle\\Vehicle_5_classes_sample\\Tempo Traveller\\20210508_10_11_26_000_bsfUf1M1E9bMsvY4ENiWwUWjDQp2_F_4160_3120.jpg: image file is truncated (39 bytes not processed)\n"
     ]
    },
    {
     "name": "stderr",
     "output_type": "stream",
     "text": [
      "Epoch 9/30: 100%|████████████████████████████████████████| 19/19 [02:01<00:00,  6.42s/batch, Loss=0.306, Accuracy=88.6]\n"
     ]
    },
    {
     "name": "stdout",
     "output_type": "stream",
     "text": [
      "Epoch [9/30], Loss: 0.3060591369867325, Accuracy: 88.57142857142857%\n"
     ]
    },
    {
     "name": "stderr",
     "output_type": "stream",
     "text": [
      "Epoch 10/30:   5%|██                                      | 1/19 [00:06<01:56,  6.45s/batch, Loss=0.116, Accuracy=96.9]"
     ]
    },
    {
     "name": "stdout",
     "output_type": "stream",
     "text": [
      "Error loading image E:\\Vehicle\\Vehicle_5_classes_sample\\Truck\\Datacluster Truck (123).jpg: image file is truncated (8 bytes not processed)\n"
     ]
    },
    {
     "name": "stderr",
     "output_type": "stream",
     "text": [
      "Epoch 10/30:  11%|████▏                                   | 2/19 [00:13<01:55,  6.80s/batch, Loss=0.165, Accuracy=96.9]"
     ]
    },
    {
     "name": "stdout",
     "output_type": "stream",
     "text": [
      "Error loading image E:\\Vehicle\\Vehicle_5_classes_sample\\Tempo Traveller\\20210517_06_39_54_000_bsfUf1M1E9bMsvY4ENiWwUWjDQp2_F_4160_3120.jpg: image file is truncated (15 bytes not processed)\n"
     ]
    },
    {
     "name": "stderr",
     "output_type": "stream",
     "text": [
      "Epoch 10/30:  37%|███████████████▍                          | 7/19 [00:45<01:14,  6.23s/batch, Loss=0.192, Accuracy=96]"
     ]
    },
    {
     "name": "stdout",
     "output_type": "stream",
     "text": [
      "Error loading image E:\\Vehicle\\Vehicle_5_classes_sample\\Tempo Traveller\\20210508_10_11_26_000_bsfUf1M1E9bMsvY4ENiWwUWjDQp2_F_4160_3120.jpg: image file is truncated (39 bytes not processed)\n"
     ]
    },
    {
     "name": "stderr",
     "output_type": "stream",
     "text": [
      "Epoch 10/30:  42%|████████████████▊                       | 8/19 [00:51<01:09,  6.28s/batch, Loss=0.253, Accuracy=94.9]"
     ]
    },
    {
     "name": "stdout",
     "output_type": "stream",
     "text": [
      "Error loading image E:\\Vehicle\\Vehicle_5_classes_sample\\Auto\\Datacluster Auto (61).jpg: image file is truncated (43 bytes not processed)\n"
     ]
    },
    {
     "name": "stderr",
     "output_type": "stream",
     "text": [
      "Epoch 10/30:  84%|████████████████████████████████▊      | 16/19 [01:45<00:19,  6.66s/batch, Loss=0.308, Accuracy=92.6]"
     ]
    },
    {
     "name": "stdout",
     "output_type": "stream",
     "text": [
      "Error loading image E:\\Vehicle\\Vehicle_5_classes_sample\\Bus\\20210518_14_58_52_000_RMkLr8rWJDMBfnDv6WRtqfoMLT83_F_3264_2448.jpg: image file is truncated (111 bytes not processed)\n"
     ]
    },
    {
     "name": "stderr",
     "output_type": "stream",
     "text": [
      "Epoch 10/30: 100%|███████████████████████████████████████| 19/19 [02:00<00:00,  6.35s/batch, Loss=0.309, Accuracy=92.4]\n"
     ]
    },
    {
     "name": "stdout",
     "output_type": "stream",
     "text": [
      "Epoch [10/30], Loss: 0.3087121381571418, Accuracy: 92.43697478991596%\n"
     ]
    },
    {
     "name": "stderr",
     "output_type": "stream",
     "text": [
      "Epoch 11/30:  11%|████▏                                   | 2/19 [00:13<01:52,  6.59s/batch, Loss=0.121, Accuracy=98.4]"
     ]
    },
    {
     "name": "stdout",
     "output_type": "stream",
     "text": [
      "Error loading image E:\\Vehicle\\Vehicle_5_classes_sample\\Truck\\Datacluster Truck (123).jpg: image file is truncated (8 bytes not processed)\n",
      "Error loading image E:\\Vehicle\\Vehicle_5_classes_sample\\Tempo Traveller\\20210517_06_39_54_000_bsfUf1M1E9bMsvY4ENiWwUWjDQp2_F_4160_3120.jpg: image file is truncated (15 bytes not processed)\n"
     ]
    },
    {
     "name": "stderr",
     "output_type": "stream",
     "text": [
      "Epoch 11/30:  63%|████████████████████████▋              | 12/19 [01:19<00:46,  6.67s/batch, Loss=0.244, Accuracy=92.7]"
     ]
    },
    {
     "name": "stdout",
     "output_type": "stream",
     "text": [
      "Error loading image E:\\Vehicle\\Vehicle_5_classes_sample\\Bus\\20210518_14_58_52_000_RMkLr8rWJDMBfnDv6WRtqfoMLT83_F_3264_2448.jpg: image file is truncated (111 bytes not processed)\n"
     ]
    },
    {
     "name": "stderr",
     "output_type": "stream",
     "text": [
      "Epoch 11/30:  68%|████████████████████████████             | 13/19 [01:25<00:39,  6.65s/batch, Loss=0.235, Accuracy=93]"
     ]
    },
    {
     "name": "stdout",
     "output_type": "stream",
     "text": [
      "Error loading image E:\\Vehicle\\Vehicle_5_classes_sample\\Auto\\Datacluster Auto (61).jpg: image file is truncated (43 bytes not processed)\n",
      "Error loading image E:\\Vehicle\\Vehicle_5_classes_sample\\Tempo Traveller\\20210508_10_11_26_000_bsfUf1M1E9bMsvY4ENiWwUWjDQp2_F_4160_3120.jpg: image file is truncated (39 bytes not processed)\n"
     ]
    },
    {
     "name": "stderr",
     "output_type": "stream",
     "text": [
      "Epoch 11/30: 100%|███████████████████████████████████████| 19/19 [02:03<00:00,  6.50s/batch, Loss=0.267, Accuracy=90.9]\n"
     ]
    },
    {
     "name": "stdout",
     "output_type": "stream",
     "text": [
      "Epoch [11/30], Loss: 0.2666760918341185, Accuracy: 90.92436974789916%\n"
     ]
    },
    {
     "name": "stderr",
     "output_type": "stream",
     "text": [
      "Epoch 12/30:  11%|████▏                                   | 2/19 [00:12<01:45,  6.22s/batch, Loss=0.144, Accuracy=95.3]"
     ]
    },
    {
     "name": "stdout",
     "output_type": "stream",
     "text": [
      "Error loading image E:\\Vehicle\\Vehicle_5_classes_sample\\Tempo Traveller\\20210508_10_11_26_000_bsfUf1M1E9bMsvY4ENiWwUWjDQp2_F_4160_3120.jpg: image file is truncated (39 bytes not processed)\n"
     ]
    },
    {
     "name": "stderr",
     "output_type": "stream",
     "text": [
      "Epoch 12/30:  21%|████████▍                               | 4/19 [00:24<01:32,  6.14s/batch, Loss=0.154, Accuracy=94.5]"
     ]
    },
    {
     "name": "stdout",
     "output_type": "stream",
     "text": [
      "Error loading image E:\\Vehicle\\Vehicle_5_classes_sample\\Bus\\20210518_14_58_52_000_RMkLr8rWJDMBfnDv6WRtqfoMLT83_F_3264_2448.jpg: image file is truncated (111 bytes not processed)\n"
     ]
    },
    {
     "name": "stderr",
     "output_type": "stream",
     "text": [
      "Epoch 12/30:  58%|███████████████████████▋                 | 11/19 [01:11<00:51,  6.43s/batch, Loss=0.232, Accuracy=92]"
     ]
    },
    {
     "name": "stdout",
     "output_type": "stream",
     "text": [
      "Error loading image E:\\Vehicle\\Vehicle_5_classes_sample\\Truck\\Datacluster Truck (123).jpg: image file is truncated (8 bytes not processed)\n"
     ]
    },
    {
     "name": "stderr",
     "output_type": "stream",
     "text": [
      "Epoch 12/30:  63%|█████████████████████████▎              | 12/19 [01:17<00:44,  6.38s/batch, Loss=0.22, Accuracy=92.4]"
     ]
    },
    {
     "name": "stdout",
     "output_type": "stream",
     "text": [
      "Error loading image E:\\Vehicle\\Vehicle_5_classes_sample\\Tempo Traveller\\20210517_06_39_54_000_bsfUf1M1E9bMsvY4ENiWwUWjDQp2_F_4160_3120.jpg: image file is truncated (15 bytes not processed)\n"
     ]
    },
    {
     "name": "stderr",
     "output_type": "stream",
     "text": [
      "Epoch 12/30:  95%|████████████████████████████████████▉  | 18/19 [01:58<00:07,  7.05s/batch, Loss=0.246, Accuracy=91.1]"
     ]
    },
    {
     "name": "stdout",
     "output_type": "stream",
     "text": [
      "Error loading image E:\\Vehicle\\Vehicle_5_classes_sample\\Auto\\Datacluster Auto (61).jpg: image file is truncated (43 bytes not processed)\n"
     ]
    },
    {
     "name": "stderr",
     "output_type": "stream",
     "text": [
      "Epoch 12/30: 100%|███████████████████████████████████████| 19/19 [02:02<00:00,  6.44s/batch, Loss=0.247, Accuracy=91.3]\n"
     ]
    },
    {
     "name": "stdout",
     "output_type": "stream",
     "text": [
      "Epoch [12/30], Loss: 0.24692570653400922, Accuracy: 91.26050420168067%\n"
     ]
    },
    {
     "name": "stderr",
     "output_type": "stream",
     "text": [
      "Epoch 13/30:  16%|██████▎                                 | 3/19 [00:18<01:39,  6.24s/batch, Loss=0.157, Accuracy=93.8]"
     ]
    },
    {
     "name": "stdout",
     "output_type": "stream",
     "text": [
      "Error loading image E:\\Vehicle\\Vehicle_5_classes_sample\\Auto\\Datacluster Auto (61).jpg: image file is truncated (43 bytes not processed)\n",
      "Error loading image E:\\Vehicle\\Vehicle_5_classes_sample\\Tempo Traveller\\20210508_10_11_26_000_bsfUf1M1E9bMsvY4ENiWwUWjDQp2_F_4160_3120.jpg: image file is truncated (39 bytes not processed)\n"
     ]
    },
    {
     "name": "stderr",
     "output_type": "stream",
     "text": [
      "Epoch 13/30:  26%|██████████▌                             | 5/19 [00:32<01:31,  6.52s/batch, Loss=0.169, Accuracy=93.1]"
     ]
    },
    {
     "name": "stdout",
     "output_type": "stream",
     "text": [
      "Error loading image E:\\Vehicle\\Vehicle_5_classes_sample\\Truck\\Datacluster Truck (123).jpg: image file is truncated (8 bytes not processed)\n"
     ]
    },
    {
     "name": "stderr",
     "output_type": "stream",
     "text": [
      "Epoch 13/30:  63%|████████████████████████▋              | 12/19 [01:18<00:46,  6.63s/batch, Loss=0.213, Accuracy=93.2]"
     ]
    },
    {
     "name": "stdout",
     "output_type": "stream",
     "text": [
      "Error loading image E:\\Vehicle\\Vehicle_5_classes_sample\\Tempo Traveller\\20210517_06_39_54_000_bsfUf1M1E9bMsvY4ENiWwUWjDQp2_F_4160_3120.jpg: image file is truncated (15 bytes not processed)\n"
     ]
    },
    {
     "name": "stderr",
     "output_type": "stream",
     "text": [
      "Epoch 13/30:  79%|██████████████████████████████▊        | 15/19 [01:37<00:26,  6.53s/batch, Loss=0.225, Accuracy=92.9]"
     ]
    },
    {
     "name": "stdout",
     "output_type": "stream",
     "text": [
      "Error loading image E:\\Vehicle\\Vehicle_5_classes_sample\\Bus\\20210518_14_58_52_000_RMkLr8rWJDMBfnDv6WRtqfoMLT83_F_3264_2448.jpg: image file is truncated (111 bytes not processed)\n"
     ]
    },
    {
     "name": "stderr",
     "output_type": "stream",
     "text": [
      "Epoch 13/30: 100%|███████████████████████████████████████| 19/19 [02:03<00:00,  6.50s/batch, Loss=0.209, Accuracy=93.3]\n"
     ]
    },
    {
     "name": "stdout",
     "output_type": "stream",
     "text": [
      "Epoch [13/30], Loss: 0.20949113486628784, Accuracy: 93.27731092436974%\n"
     ]
    },
    {
     "name": "stderr",
     "output_type": "stream",
     "text": [
      "Epoch 14/30:  42%|████████████████▊                       | 8/19 [00:51<01:09,  6.35s/batch, Loss=0.193, Accuracy=94.1]"
     ]
    },
    {
     "name": "stdout",
     "output_type": "stream",
     "text": [
      "Error loading image E:\\Vehicle\\Vehicle_5_classes_sample\\Truck\\Datacluster Truck (123).jpg: image file is truncated (8 bytes not processed)\n"
     ]
    },
    {
     "name": "stderr",
     "output_type": "stream",
     "text": [
      "Epoch 14/30:  53%|████████████████████▌                  | 10/19 [01:06<01:02,  6.91s/batch, Loss=0.184, Accuracy=94.1]"
     ]
    },
    {
     "name": "stdout",
     "output_type": "stream",
     "text": [
      "Error loading image E:\\Vehicle\\Vehicle_5_classes_sample\\Tempo Traveller\\20210517_06_39_54_000_bsfUf1M1E9bMsvY4ENiWwUWjDQp2_F_4160_3120.jpg: image file is truncated (15 bytes not processed)\n"
     ]
    },
    {
     "name": "stderr",
     "output_type": "stream",
     "text": [
      "Epoch 14/30:  84%|████████████████████████████████▊      | 16/19 [01:46<00:19,  6.64s/batch, Loss=0.187, Accuracy=94.3]"
     ]
    },
    {
     "name": "stdout",
     "output_type": "stream",
     "text": [
      "Error loading image E:\\Vehicle\\Vehicle_5_classes_sample\\Tempo Traveller\\20210508_10_11_26_000_bsfUf1M1E9bMsvY4ENiWwUWjDQp2_F_4160_3120.jpg: image file is truncated (39 bytes not processed)\n",
      "Error loading image E:\\Vehicle\\Vehicle_5_classes_sample\\Bus\\20210518_14_58_52_000_RMkLr8rWJDMBfnDv6WRtqfoMLT83_F_3264_2448.jpg: image file is truncated (111 bytes not processed)\n",
      "Error loading image E:\\Vehicle\\Vehicle_5_classes_sample\\Auto\\Datacluster Auto (61).jpg: image file is truncated (43 bytes not processed)\n"
     ]
    },
    {
     "name": "stderr",
     "output_type": "stream",
     "text": [
      "Epoch 14/30: 100%|███████████████████████████████████████| 19/19 [02:04<00:00,  6.57s/batch, Loss=0.185, Accuracy=94.5]\n"
     ]
    },
    {
     "name": "stdout",
     "output_type": "stream",
     "text": [
      "Epoch [14/30], Loss: 0.1852072571453295, Accuracy: 94.45378151260505%\n"
     ]
    },
    {
     "name": "stderr",
     "output_type": "stream",
     "text": [
      "Epoch 15/30:  32%|████████████▋                           | 6/19 [00:42<01:34,  7.29s/batch, Loss=0.184, Accuracy=94.8]"
     ]
    },
    {
     "name": "stdout",
     "output_type": "stream",
     "text": [
      "Error loading image E:\\Vehicle\\Vehicle_5_classes_sample\\Bus\\20210518_14_58_52_000_RMkLr8rWJDMBfnDv6WRtqfoMLT83_F_3264_2448.jpg: image file is truncated (111 bytes not processed)\n",
      "Error loading image E:\\Vehicle\\Vehicle_5_classes_sample\\Tempo Traveller\\20210508_10_11_26_000_bsfUf1M1E9bMsvY4ENiWwUWjDQp2_F_4160_3120.jpg: image file is truncated (39 bytes not processed)\n"
     ]
    },
    {
     "name": "stderr",
     "output_type": "stream",
     "text": [
      "Epoch 15/30:  37%|██████████████▋                         | 7/19 [00:49<01:26,  7.20s/batch, Loss=0.223, Accuracy=92.9]"
     ]
    },
    {
     "name": "stdout",
     "output_type": "stream",
     "text": [
      "Error loading image E:\\Vehicle\\Vehicle_5_classes_sample\\Auto\\Datacluster Auto (61).jpg: image file is truncated (43 bytes not processed)\n"
     ]
    },
    {
     "name": "stderr",
     "output_type": "stream",
     "text": [
      "Epoch 15/30:  74%|████████████████████████████▋          | 14/19 [01:34<00:33,  6.65s/batch, Loss=0.167, Accuracy=94.9]"
     ]
    },
    {
     "name": "stdout",
     "output_type": "stream",
     "text": [
      "Error loading image E:\\Vehicle\\Vehicle_5_classes_sample\\Truck\\Datacluster Truck (123).jpg: image file is truncated (8 bytes not processed)\n"
     ]
    },
    {
     "name": "stderr",
     "output_type": "stream",
     "text": [
      "Epoch 15/30:  79%|██████████████████████████████▊        | 15/19 [01:40<00:25,  6.45s/batch, Loss=0.168, Accuracy=94.8]"
     ]
    },
    {
     "name": "stdout",
     "output_type": "stream",
     "text": [
      "Error loading image E:\\Vehicle\\Vehicle_5_classes_sample\\Tempo Traveller\\20210517_06_39_54_000_bsfUf1M1E9bMsvY4ENiWwUWjDQp2_F_4160_3120.jpg: image file is truncated (15 bytes not processed)\n"
     ]
    },
    {
     "name": "stderr",
     "output_type": "stream",
     "text": [
      "Epoch 15/30: 100%|██████████████████████████████████████████| 19/19 [02:06<00:00,  6.66s/batch, Loss=0.17, Accuracy=95]\n"
     ]
    },
    {
     "name": "stdout",
     "output_type": "stream",
     "text": [
      "Epoch [15/30], Loss: 0.17002069871676595, Accuracy: 94.95798319327731%\n"
     ]
    },
    {
     "name": "stderr",
     "output_type": "stream",
     "text": [
      "Epoch 16/30:  16%|██████▎                                 | 3/19 [00:19<01:44,  6.52s/batch, Loss=0.116, Accuracy=97.9]"
     ]
    },
    {
     "name": "stdout",
     "output_type": "stream",
     "text": [
      "Error loading image E:\\Vehicle\\Vehicle_5_classes_sample\\Bus\\20210518_14_58_52_000_RMkLr8rWJDMBfnDv6WRtqfoMLT83_F_3264_2448.jpg: image file is truncated (111 bytes not processed)\n"
     ]
    },
    {
     "name": "stderr",
     "output_type": "stream",
     "text": [
      "Epoch 16/30:  32%|████████████▎                          | 6/19 [00:40<01:31,  7.07s/batch, Loss=0.0838, Accuracy=97.9]"
     ]
    },
    {
     "name": "stdout",
     "output_type": "stream",
     "text": [
      "Error loading image E:\\Vehicle\\Vehicle_5_classes_sample\\Truck\\Datacluster Truck (123).jpg: image file is truncated (8 bytes not processed)\n"
     ]
    },
    {
     "name": "stderr",
     "output_type": "stream",
     "text": [
      "Epoch 16/30:  63%|████████████████████████▋              | 12/19 [01:21<00:47,  6.72s/batch, Loss=0.159, Accuracy=94.8]"
     ]
    },
    {
     "name": "stdout",
     "output_type": "stream",
     "text": [
      "Error loading image E:\\Vehicle\\Vehicle_5_classes_sample\\Tempo Traveller\\20210517_06_39_54_000_bsfUf1M1E9bMsvY4ENiWwUWjDQp2_F_4160_3120.jpg: image file is truncated (15 bytes not processed)\n"
     ]
    },
    {
     "name": "stderr",
     "output_type": "stream",
     "text": [
      "Epoch 16/30:  74%|██████████████████████████████▏          | 14/19 [01:37<00:37,  7.40s/batch, Loss=0.182, Accuracy=94]"
     ]
    },
    {
     "name": "stdout",
     "output_type": "stream",
     "text": [
      "Error loading image E:\\Vehicle\\Vehicle_5_classes_sample\\Tempo Traveller\\20210508_10_11_26_000_bsfUf1M1E9bMsvY4ENiWwUWjDQp2_F_4160_3120.jpg: image file is truncated (39 bytes not processed)\n"
     ]
    },
    {
     "name": "stderr",
     "output_type": "stream",
     "text": [
      "Epoch 16/30:  95%|████████████████████████████████████▉  | 18/19 [02:05<00:07,  7.10s/batch, Loss=0.179, Accuracy=94.3]"
     ]
    },
    {
     "name": "stdout",
     "output_type": "stream",
     "text": [
      "Error loading image E:\\Vehicle\\Vehicle_5_classes_sample\\Auto\\Datacluster Auto (61).jpg: image file is truncated (43 bytes not processed)\n"
     ]
    },
    {
     "name": "stderr",
     "output_type": "stream",
     "text": [
      "Epoch 16/30: 100%|███████████████████████████████████████| 19/19 [02:09<00:00,  6.84s/batch, Loss=0.172, Accuracy=94.5]\n"
     ]
    },
    {
     "name": "stdout",
     "output_type": "stream",
     "text": [
      "Epoch [16/30], Loss: 0.17209467453587995, Accuracy: 94.45378151260505%\n"
     ]
    },
    {
     "name": "stderr",
     "output_type": "stream",
     "text": [
      "Epoch 17/30:  16%|██████▍                                  | 3/19 [00:18<01:38,  6.14s/batch, Loss=0.15, Accuracy=92.7]"
     ]
    },
    {
     "name": "stdout",
     "output_type": "stream",
     "text": [
      "Error loading image E:\\Vehicle\\Vehicle_5_classes_sample\\Bus\\20210518_14_58_52_000_RMkLr8rWJDMBfnDv6WRtqfoMLT83_F_3264_2448.jpg: image file is truncated (111 bytes not processed)\n"
     ]
    },
    {
     "name": "stderr",
     "output_type": "stream",
     "text": [
      "Epoch 17/30:  47%|██████████████████▉                     | 9/19 [01:00<01:07,  6.72s/batch, Loss=0.164, Accuracy=93.8]"
     ]
    },
    {
     "name": "stdout",
     "output_type": "stream",
     "text": [
      "Error loading image E:\\Vehicle\\Vehicle_5_classes_sample\\Tempo Traveller\\20210508_10_11_26_000_bsfUf1M1E9bMsvY4ENiWwUWjDQp2_F_4160_3120.jpg: image file is truncated (39 bytes not processed)\n"
     ]
    },
    {
     "name": "stderr",
     "output_type": "stream",
     "text": [
      "Epoch 17/30:  53%|████████████████████▌                  | 10/19 [01:06<00:59,  6.61s/batch, Loss=0.153, Accuracy=94.4]"
     ]
    },
    {
     "name": "stdout",
     "output_type": "stream",
     "text": [
      "Error loading image E:\\Vehicle\\Vehicle_5_classes_sample\\Tempo Traveller\\20210517_06_39_54_000_bsfUf1M1E9bMsvY4ENiWwUWjDQp2_F_4160_3120.jpg: image file is truncated (15 bytes not processed)\n"
     ]
    },
    {
     "name": "stderr",
     "output_type": "stream",
     "text": [
      "Epoch 17/30:  68%|██████████████████████████▋            | 13/19 [01:27<00:41,  6.91s/batch, Loss=0.195, Accuracy=94.2]"
     ]
    },
    {
     "name": "stdout",
     "output_type": "stream",
     "text": [
      "Error loading image E:\\Vehicle\\Vehicle_5_classes_sample\\Truck\\Datacluster Truck (123).jpg: image file is truncated (8 bytes not processed)\n"
     ]
    },
    {
     "name": "stderr",
     "output_type": "stream",
     "text": [
      "Epoch 17/30:  79%|██████████████████████████████▊        | 15/19 [01:42<00:28,  7.09s/batch, Loss=0.185, Accuracy=94.4]"
     ]
    },
    {
     "name": "stdout",
     "output_type": "stream",
     "text": [
      "Error loading image E:\\Vehicle\\Vehicle_5_classes_sample\\Auto\\Datacluster Auto (61).jpg: image file is truncated (43 bytes not processed)\n"
     ]
    },
    {
     "name": "stderr",
     "output_type": "stream",
     "text": [
      "Epoch 17/30: 100%|███████████████████████████████████████| 19/19 [02:06<00:00,  6.63s/batch, Loss=0.201, Accuracy=93.8]\n"
     ]
    },
    {
     "name": "stdout",
     "output_type": "stream",
     "text": [
      "Epoch [17/30], Loss: 0.20104974978848508, Accuracy: 93.78151260504201%\n"
     ]
    },
    {
     "name": "stderr",
     "output_type": "stream",
     "text": [
      "Epoch 18/30:  63%|█████████████████████████▎              | 12/19 [01:22<00:45,  6.53s/batch, Loss=0.17, Accuracy=94.5]"
     ]
    },
    {
     "name": "stdout",
     "output_type": "stream",
     "text": [
      "Error loading image E:\\Vehicle\\Vehicle_5_classes_sample\\Auto\\Datacluster Auto (61).jpg: image file is truncated (43 bytes not processed)\n"
     ]
    },
    {
     "name": "stderr",
     "output_type": "stream",
     "text": [
      "Epoch 18/30:  84%|████████████████████████████████▊      | 16/19 [01:51<00:21,  7.11s/batch, Loss=0.182, Accuracy=93.6]"
     ]
    },
    {
     "name": "stdout",
     "output_type": "stream",
     "text": [
      "Error loading image E:\\Vehicle\\Vehicle_5_classes_sample\\Tempo Traveller\\20210508_10_11_26_000_bsfUf1M1E9bMsvY4ENiWwUWjDQp2_F_4160_3120.jpg: image file is truncated (39 bytes not processed)\n"
     ]
    },
    {
     "name": "stderr",
     "output_type": "stream",
     "text": [
      "Epoch 18/30:  89%|██████████████████████████████████▉    | 17/19 [01:56<00:13,  6.67s/batch, Loss=0.188, Accuracy=93.2]"
     ]
    },
    {
     "name": "stdout",
     "output_type": "stream",
     "text": [
      "Error loading image E:\\Vehicle\\Vehicle_5_classes_sample\\Bus\\20210518_14_58_52_000_RMkLr8rWJDMBfnDv6WRtqfoMLT83_F_3264_2448.jpg: image file is truncated (111 bytes not processed)\n",
      "Error loading image E:\\Vehicle\\Vehicle_5_classes_sample\\Truck\\Datacluster Truck (123).jpg: image file is truncated (8 bytes not processed)\n"
     ]
    },
    {
     "name": "stderr",
     "output_type": "stream",
     "text": [
      "Epoch 18/30:  95%|████████████████████████████████████▉  | 18/19 [02:03<00:06,  6.65s/batch, Loss=0.196, Accuracy=92.9]"
     ]
    },
    {
     "name": "stdout",
     "output_type": "stream",
     "text": [
      "Error loading image E:\\Vehicle\\Vehicle_5_classes_sample\\Tempo Traveller\\20210517_06_39_54_000_bsfUf1M1E9bMsvY4ENiWwUWjDQp2_F_4160_3120.jpg: image file is truncated (15 bytes not processed)\n"
     ]
    },
    {
     "name": "stderr",
     "output_type": "stream",
     "text": [
      "Epoch 18/30: 100%|███████████████████████████████████████| 19/19 [02:07<00:00,  6.71s/batch, Loss=0.189, Accuracy=93.1]\n"
     ]
    },
    {
     "name": "stdout",
     "output_type": "stream",
     "text": [
      "Epoch [18/30], Loss: 0.1886526703050262, Accuracy: 93.10924369747899%\n"
     ]
    },
    {
     "name": "stderr",
     "output_type": "stream",
     "text": [
      "Epoch 19/30:   0%|                                                                           | 0/19 [00:00<?, ?batch/s]"
     ]
    },
    {
     "name": "stdout",
     "output_type": "stream",
     "text": [
      "Error loading image E:\\Vehicle\\Vehicle_5_classes_sample\\Truck\\Datacluster Truck (123).jpg: image file is truncated (8 bytes not processed)\n"
     ]
    },
    {
     "name": "stderr",
     "output_type": "stream",
     "text": [
      "Epoch 19/30:  58%|██████████████████████▌                | 11/19 [01:12<00:51,  6.42s/batch, Loss=0.143, Accuracy=95.2]"
     ]
    },
    {
     "name": "stdout",
     "output_type": "stream",
     "text": [
      "Error loading image E:\\Vehicle\\Vehicle_5_classes_sample\\Bus\\20210518_14_58_52_000_RMkLr8rWJDMBfnDv6WRtqfoMLT83_F_3264_2448.jpg: image file is truncated (111 bytes not processed)\n"
     ]
    },
    {
     "name": "stderr",
     "output_type": "stream",
     "text": [
      "Epoch 19/30:  74%|████████████████████████████▋          | 14/19 [01:32<00:33,  6.62s/batch, Loss=0.128, Accuracy=95.5]"
     ]
    },
    {
     "name": "stdout",
     "output_type": "stream",
     "text": [
      "Error loading image E:\\Vehicle\\Vehicle_5_classes_sample\\Tempo Traveller\\20210508_10_11_26_000_bsfUf1M1E9bMsvY4ENiWwUWjDQp2_F_4160_3120.jpg: image file is truncated (39 bytes not processed)\n",
      "Error loading image E:\\Vehicle\\Vehicle_5_classes_sample\\Auto\\Datacluster Auto (61).jpg: image file is truncated (43 bytes not processed)\n"
     ]
    },
    {
     "name": "stderr",
     "output_type": "stream",
     "text": [
      "Epoch 19/30:  84%|████████████████████████████████▊      | 16/19 [01:46<00:20,  6.82s/batch, Loss=0.132, Accuracy=95.5]"
     ]
    },
    {
     "name": "stdout",
     "output_type": "stream",
     "text": [
      "Error loading image E:\\Vehicle\\Vehicle_5_classes_sample\\Tempo Traveller\\20210517_06_39_54_000_bsfUf1M1E9bMsvY4ENiWwUWjDQp2_F_4160_3120.jpg: image file is truncated (15 bytes not processed)\n"
     ]
    },
    {
     "name": "stderr",
     "output_type": "stream",
     "text": [
      "Epoch 19/30: 100%|███████████████████████████████████████| 19/19 [02:03<00:00,  6.52s/batch, Loss=0.131, Accuracy=95.3]\n"
     ]
    },
    {
     "name": "stdout",
     "output_type": "stream",
     "text": [
      "Epoch [19/30], Loss: 0.131411388712494, Accuracy: 95.29411764705883%\n"
     ]
    },
    {
     "name": "stderr",
     "output_type": "stream",
     "text": [
      "Epoch 20/30:   5%|██                                      | 1/19 [00:06<02:00,  6.71s/batch, Loss=0.0291, Accuracy=100]"
     ]
    },
    {
     "name": "stdout",
     "output_type": "stream",
     "text": [
      "Error loading image E:\\Vehicle\\Vehicle_5_classes_sample\\Truck\\Datacluster Truck (123).jpg: image file is truncated (8 bytes not processed)\n"
     ]
    },
    {
     "name": "stderr",
     "output_type": "stream",
     "text": [
      "Epoch 20/30:  63%|████████████████████████              | 12/19 [01:21<00:47,  6.79s/batch, Loss=0.0764, Accuracy=97.4]"
     ]
    },
    {
     "name": "stdout",
     "output_type": "stream",
     "text": [
      "Error loading image E:\\Vehicle\\Vehicle_5_classes_sample\\Tempo Traveller\\20210517_06_39_54_000_bsfUf1M1E9bMsvY4ENiWwUWjDQp2_F_4160_3120.jpg: image file is truncated (15 bytes not processed)\n"
     ]
    },
    {
     "name": "stderr",
     "output_type": "stream",
     "text": [
      "Epoch 20/30:  79%|██████████████████████████████▊        | 15/19 [01:42<00:27,  6.84s/batch, Loss=0.076, Accuracy=97.5]"
     ]
    },
    {
     "name": "stdout",
     "output_type": "stream",
     "text": [
      "Error loading image E:\\Vehicle\\Vehicle_5_classes_sample\\Tempo Traveller\\20210508_10_11_26_000_bsfUf1M1E9bMsvY4ENiWwUWjDQp2_F_4160_3120.jpg: image file is truncated (39 bytes not processed)\n"
     ]
    },
    {
     "name": "stderr",
     "output_type": "stream",
     "text": [
      "Epoch 20/30:  84%|████████████████████████████████      | 16/19 [01:49<00:20,  6.95s/batch, Loss=0.0791, Accuracy=97.5]"
     ]
    },
    {
     "name": "stdout",
     "output_type": "stream",
     "text": [
      "Error loading image E:\\Vehicle\\Vehicle_5_classes_sample\\Bus\\20210518_14_58_52_000_RMkLr8rWJDMBfnDv6WRtqfoMLT83_F_3264_2448.jpg: image file is truncated (111 bytes not processed)\n"
     ]
    },
    {
     "name": "stderr",
     "output_type": "stream",
     "text": [
      "Epoch 20/30:  89%|██████████████████████████████████    | 17/19 [01:55<00:13,  6.76s/batch, Loss=0.0806, Accuracy=97.2]"
     ]
    },
    {
     "name": "stdout",
     "output_type": "stream",
     "text": [
      "Error loading image E:\\Vehicle\\Vehicle_5_classes_sample\\Auto\\Datacluster Auto (61).jpg: image file is truncated (43 bytes not processed)\n"
     ]
    },
    {
     "name": "stderr",
     "output_type": "stream",
     "text": [
      "Epoch 20/30: 100%|██████████████████████████████████████| 19/19 [02:07<00:00,  6.69s/batch, Loss=0.0838, Accuracy=97.1]\n"
     ]
    },
    {
     "name": "stdout",
     "output_type": "stream",
     "text": [
      "Epoch [20/30], Loss: 0.08378235554616702, Accuracy: 97.14285714285714%\n"
     ]
    },
    {
     "name": "stderr",
     "output_type": "stream",
     "text": [
      "Epoch 21/30:   5%|██                                     | 1/19 [00:07<02:15,  7.53s/batch, Loss=0.00638, Accuracy=100]"
     ]
    },
    {
     "name": "stdout",
     "output_type": "stream",
     "text": [
      "Error loading image E:\\Vehicle\\Vehicle_5_classes_sample\\Truck\\Datacluster Truck (123).jpg: image file is truncated (8 bytes not processed)\n"
     ]
    },
    {
     "name": "stderr",
     "output_type": "stream",
     "text": [
      "Epoch 21/30:  11%|████                                   | 2/19 [00:13<01:57,  6.89s/batch, Loss=0.00779, Accuracy=100]"
     ]
    },
    {
     "name": "stdout",
     "output_type": "stream",
     "text": [
      "Error loading image E:\\Vehicle\\Vehicle_5_classes_sample\\Tempo Traveller\\20210517_06_39_54_000_bsfUf1M1E9bMsvY4ENiWwUWjDQp2_F_4160_3120.jpg: image file is truncated (15 bytes not processed)\n"
     ]
    },
    {
     "name": "stderr",
     "output_type": "stream",
     "text": [
      "Epoch 21/30:  32%|████████████▎                          | 6/19 [00:41<01:27,  6.75s/batch, Loss=0.0669, Accuracy=98.4]"
     ]
    },
    {
     "name": "stdout",
     "output_type": "stream",
     "text": [
      "Error loading image E:\\Vehicle\\Vehicle_5_classes_sample\\Auto\\Datacluster Auto (61).jpg: image file is truncated (43 bytes not processed)\n"
     ]
    },
    {
     "name": "stderr",
     "output_type": "stream",
     "text": [
      "Epoch 21/30:  42%|████████████████▍                      | 8/19 [00:55<01:16,  6.93s/batch, Loss=0.0588, Accuracy=98.8]"
     ]
    },
    {
     "name": "stdout",
     "output_type": "stream",
     "text": [
      "Error loading image E:\\Vehicle\\Vehicle_5_classes_sample\\Tempo Traveller\\20210508_10_11_26_000_bsfUf1M1E9bMsvY4ENiWwUWjDQp2_F_4160_3120.jpg: image file is truncated (39 bytes not processed)\n"
     ]
    },
    {
     "name": "stderr",
     "output_type": "stream",
     "text": [
      "Epoch 21/30:  63%|████████████████████████              | 12/19 [01:21<00:46,  6.60s/batch, Loss=0.0733, Accuracy=98.4]"
     ]
    },
    {
     "name": "stdout",
     "output_type": "stream",
     "text": [
      "Error loading image E:\\Vehicle\\Vehicle_5_classes_sample\\Bus\\20210518_14_58_52_000_RMkLr8rWJDMBfnDv6WRtqfoMLT83_F_3264_2448.jpg: image file is truncated (111 bytes not processed)\n"
     ]
    },
    {
     "name": "stderr",
     "output_type": "stream",
     "text": [
      "Epoch 21/30: 100%|██████████████████████████████████████| 19/19 [02:06<00:00,  6.66s/batch, Loss=0.0808, Accuracy=98.2]\n"
     ]
    },
    {
     "name": "stdout",
     "output_type": "stream",
     "text": [
      "Epoch [21/30], Loss: 0.08084911492800242, Accuracy: 98.15126050420169%\n"
     ]
    },
    {
     "name": "stderr",
     "output_type": "stream",
     "text": [
      "Epoch 22/30:   0%|                                                                           | 0/19 [00:00<?, ?batch/s]"
     ]
    },
    {
     "name": "stdout",
     "output_type": "stream",
     "text": [
      "Error loading image E:\\Vehicle\\Vehicle_5_classes_sample\\Bus\\20210518_14_58_52_000_RMkLr8rWJDMBfnDv6WRtqfoMLT83_F_3264_2448.jpg: image file is truncated (111 bytes not processed)\n"
     ]
    },
    {
     "name": "stderr",
     "output_type": "stream",
     "text": [
      "Epoch 22/30:  16%|██████▎                                 | 3/19 [00:20<01:47,  6.70s/batch, Loss=0.0296, Accuracy=100]"
     ]
    },
    {
     "name": "stdout",
     "output_type": "stream",
     "text": [
      "Error loading image E:\\Vehicle\\Vehicle_5_classes_sample\\Tempo Traveller\\20210517_06_39_54_000_bsfUf1M1E9bMsvY4ENiWwUWjDQp2_F_4160_3120.jpg: image file is truncated (15 bytes not processed)\n"
     ]
    },
    {
     "name": "stderr",
     "output_type": "stream",
     "text": [
      "Epoch 22/30:  32%|████████████▎                          | 6/19 [00:41<01:29,  6.88s/batch, Loss=0.0915, Accuracy=96.9]"
     ]
    },
    {
     "name": "stdout",
     "output_type": "stream",
     "text": [
      "Error loading image E:\\Vehicle\\Vehicle_5_classes_sample\\Tempo Traveller\\20210508_10_11_26_000_bsfUf1M1E9bMsvY4ENiWwUWjDQp2_F_4160_3120.jpg: image file is truncated (39 bytes not processed)\n"
     ]
    },
    {
     "name": "stderr",
     "output_type": "stream",
     "text": [
      "Epoch 22/30:  58%|██████████████████████▌                | 11/19 [01:13<00:50,  6.28s/batch, Loss=0.101, Accuracy=96.6]"
     ]
    },
    {
     "name": "stdout",
     "output_type": "stream",
     "text": [
      "Error loading image E:\\Vehicle\\Vehicle_5_classes_sample\\Auto\\Datacluster Auto (61).jpg: image file is truncated (43 bytes not processed)\n"
     ]
    },
    {
     "name": "stderr",
     "output_type": "stream",
     "text": [
      "Epoch 22/30:  95%|████████████████████████████████████▉  | 18/19 [02:01<00:06,  6.83s/batch, Loss=0.122, Accuracy=96.5]"
     ]
    },
    {
     "name": "stdout",
     "output_type": "stream",
     "text": [
      "Error loading image E:\\Vehicle\\Vehicle_5_classes_sample\\Truck\\Datacluster Truck (123).jpg: image file is truncated (8 bytes not processed)\n"
     ]
    },
    {
     "name": "stderr",
     "output_type": "stream",
     "text": [
      "Epoch 22/30: 100%|███████████████████████████████████████| 19/19 [02:05<00:00,  6.59s/batch, Loss=0.121, Accuracy=96.6]\n"
     ]
    },
    {
     "name": "stdout",
     "output_type": "stream",
     "text": [
      "Epoch [22/30], Loss: 0.12127489684835861, Accuracy: 96.63865546218487%\n"
     ]
    },
    {
     "name": "stderr",
     "output_type": "stream",
     "text": [
      "Epoch 23/30:   0%|                                                                           | 0/19 [00:00<?, ?batch/s]"
     ]
    },
    {
     "name": "stdout",
     "output_type": "stream",
     "text": [
      "Error loading image E:\\Vehicle\\Vehicle_5_classes_sample\\Auto\\Datacluster Auto (61).jpg: image file is truncated (43 bytes not processed)\n"
     ]
    },
    {
     "name": "stderr",
     "output_type": "stream",
     "text": [
      "Epoch 23/30:  37%|██████████████▎                        | 7/19 [00:47<01:22,  6.84s/batch, Loss=0.0766, Accuracy=98.2]"
     ]
    },
    {
     "name": "stdout",
     "output_type": "stream",
     "text": [
      "Error loading image E:\\Vehicle\\Vehicle_5_classes_sample\\Tempo Traveller\\20210508_10_11_26_000_bsfUf1M1E9bMsvY4ENiWwUWjDQp2_F_4160_3120.jpg: image file is truncated (39 bytes not processed)\n"
     ]
    },
    {
     "name": "stderr",
     "output_type": "stream",
     "text": [
      "Epoch 23/30:  42%|████████████████▊                       | 8/19 [00:54<01:15,  6.85s/batch, Loss=0.144, Accuracy=96.9]"
     ]
    },
    {
     "name": "stdout",
     "output_type": "stream",
     "text": [
      "Error loading image E:\\Vehicle\\Vehicle_5_classes_sample\\Truck\\Datacluster Truck (123).jpg: image file is truncated (8 bytes not processed)\n"
     ]
    },
    {
     "name": "stderr",
     "output_type": "stream",
     "text": [
      "Epoch 23/30:  47%|███████████████████▍                     | 9/19 [01:03<01:13,  7.40s/batch, Loss=0.15, Accuracy=96.9]"
     ]
    },
    {
     "name": "stdout",
     "output_type": "stream",
     "text": [
      "Error loading image E:\\Vehicle\\Vehicle_5_classes_sample\\Tempo Traveller\\20210517_06_39_54_000_bsfUf1M1E9bMsvY4ENiWwUWjDQp2_F_4160_3120.jpg: image file is truncated (15 bytes not processed)\n"
     ]
    },
    {
     "name": "stderr",
     "output_type": "stream",
     "text": [
      "Epoch 23/30:  63%|████████████████████████▋              | 12/19 [01:23<00:49,  7.05s/batch, Loss=0.141, Accuracy=96.6]"
     ]
    },
    {
     "name": "stdout",
     "output_type": "stream",
     "text": [
      "Error loading image E:\\Vehicle\\Vehicle_5_classes_sample\\Bus\\20210518_14_58_52_000_RMkLr8rWJDMBfnDv6WRtqfoMLT83_F_3264_2448.jpg: image file is truncated (111 bytes not processed)\n"
     ]
    },
    {
     "name": "stderr",
     "output_type": "stream",
     "text": [
      "Epoch 23/30: 100%|███████████████████████████████████████| 19/19 [02:07<00:00,  6.70s/batch, Loss=0.149, Accuracy=96.5]\n"
     ]
    },
    {
     "name": "stdout",
     "output_type": "stream",
     "text": [
      "Epoch [23/30], Loss: 0.1493540887328747, Accuracy: 96.47058823529412%\n"
     ]
    },
    {
     "name": "stderr",
     "output_type": "stream",
     "text": [
      "Epoch 24/30:  11%|████▏                                   | 2/19 [00:14<02:04,  7.30s/batch, Loss=0.0312, Accuracy=100]"
     ]
    },
    {
     "name": "stdout",
     "output_type": "stream",
     "text": [
      "Error loading image E:\\Vehicle\\Vehicle_5_classes_sample\\Tempo Traveller\\20210517_06_39_54_000_bsfUf1M1E9bMsvY4ENiWwUWjDQp2_F_4160_3120.jpg: image file is truncated (15 bytes not processed)\n"
     ]
    },
    {
     "name": "stderr",
     "output_type": "stream",
     "text": [
      "Epoch 24/30:  37%|███████████████▍                          | 7/19 [00:49<01:22,  6.87s/batch, Loss=0.113, Accuracy=96]"
     ]
    },
    {
     "name": "stdout",
     "output_type": "stream",
     "text": [
      "Error loading image E:\\Vehicle\\Vehicle_5_classes_sample\\Truck\\Datacluster Truck (123).jpg: image file is truncated (8 bytes not processed)\n"
     ]
    },
    {
     "name": "stderr",
     "output_type": "stream",
     "text": [
      "Epoch 24/30:  53%|████████████████████▌                  | 10/19 [01:10<01:03,  7.00s/batch, Loss=0.103, Accuracy=96.9]"
     ]
    },
    {
     "name": "stdout",
     "output_type": "stream",
     "text": [
      "Error loading image E:\\Vehicle\\Vehicle_5_classes_sample\\Bus\\20210518_14_58_52_000_RMkLr8rWJDMBfnDv6WRtqfoMLT83_F_3264_2448.jpg: image file is truncated (111 bytes not processed)\n"
     ]
    },
    {
     "name": "stderr",
     "output_type": "stream",
     "text": [
      "Epoch 24/30:  74%|████████████████████████████▋          | 14/19 [01:35<00:32,  6.54s/batch, Loss=0.131, Accuracy=96.4]"
     ]
    },
    {
     "name": "stdout",
     "output_type": "stream",
     "text": [
      "Error loading image E:\\Vehicle\\Vehicle_5_classes_sample\\Tempo Traveller\\20210508_10_11_26_000_bsfUf1M1E9bMsvY4ENiWwUWjDQp2_F_4160_3120.jpg: image file is truncated (39 bytes not processed)\n",
      "Error loading image E:\\Vehicle\\Vehicle_5_classes_sample\\Auto\\Datacluster Auto (61).jpg: image file is truncated (43 bytes not processed)\n"
     ]
    },
    {
     "name": "stderr",
     "output_type": "stream",
     "text": [
      "Epoch 24/30: 100%|███████████████████████████████████████| 19/19 [02:07<00:00,  6.73s/batch, Loss=0.157, Accuracy=95.5]\n"
     ]
    },
    {
     "name": "stdout",
     "output_type": "stream",
     "text": [
      "Epoch [24/30], Loss: 0.15689088021846195, Accuracy: 95.46218487394958%\n"
     ]
    },
    {
     "name": "stderr",
     "output_type": "stream",
     "text": [
      "Epoch 25/30:   5%|██                                      | 1/19 [00:06<01:56,  6.49s/batch, Loss=0.0423, Accuracy=100]"
     ]
    },
    {
     "name": "stdout",
     "output_type": "stream",
     "text": [
      "Error loading image E:\\Vehicle\\Vehicle_5_classes_sample\\Tempo Traveller\\20210517_06_39_54_000_bsfUf1M1E9bMsvY4ENiWwUWjDQp2_F_4160_3120.jpg: image file is truncated (15 bytes not processed)\n"
     ]
    },
    {
     "name": "stderr",
     "output_type": "stream",
     "text": [
      "Epoch 25/30:  16%|██████▎                                 | 3/19 [00:20<01:48,  6.79s/batch, Loss=0.143, Accuracy=97.9]"
     ]
    },
    {
     "name": "stdout",
     "output_type": "stream",
     "text": [
      "Error loading image E:\\Vehicle\\Vehicle_5_classes_sample\\Tempo Traveller\\20210508_10_11_26_000_bsfUf1M1E9bMsvY4ENiWwUWjDQp2_F_4160_3120.jpg: image file is truncated (39 bytes not processed)\n"
     ]
    },
    {
     "name": "stderr",
     "output_type": "stream",
     "text": [
      "Epoch 25/30:  32%|████████████▋                           | 6/19 [00:38<01:21,  6.27s/batch, Loss=0.138, Accuracy=96.9]"
     ]
    },
    {
     "name": "stdout",
     "output_type": "stream",
     "text": [
      "Error loading image E:\\Vehicle\\Vehicle_5_classes_sample\\Truck\\Datacluster Truck (123).jpg: image file is truncated (8 bytes not processed)\n"
     ]
    },
    {
     "name": "stderr",
     "output_type": "stream",
     "text": [
      "Epoch 25/30:  37%|██████████████▋                         | 7/19 [00:45<01:18,  6.58s/batch, Loss=0.157, Accuracy=96.9]"
     ]
    },
    {
     "name": "stdout",
     "output_type": "stream",
     "text": [
      "Error loading image E:\\Vehicle\\Vehicle_5_classes_sample\\Bus\\20210518_14_58_52_000_RMkLr8rWJDMBfnDv6WRtqfoMLT83_F_3264_2448.jpg: image file is truncated (111 bytes not processed)\n"
     ]
    },
    {
     "name": "stderr",
     "output_type": "stream",
     "text": [
      "Epoch 25/30:  42%|████████████████▊                       | 8/19 [00:52<01:13,  6.72s/batch, Loss=0.148, Accuracy=96.9]"
     ]
    },
    {
     "name": "stdout",
     "output_type": "stream",
     "text": [
      "Error loading image E:\\Vehicle\\Vehicle_5_classes_sample\\Auto\\Datacluster Auto (61).jpg: image file is truncated (43 bytes not processed)\n"
     ]
    },
    {
     "name": "stderr",
     "output_type": "stream",
     "text": [
      "Epoch 25/30: 100%|███████████████████████████████████████| 19/19 [02:04<00:00,  6.54s/batch, Loss=0.143, Accuracy=96.5]\n"
     ]
    },
    {
     "name": "stdout",
     "output_type": "stream",
     "text": [
      "Epoch [25/30], Loss: 0.14273397938201302, Accuracy: 96.47058823529412%\n"
     ]
    },
    {
     "name": "stderr",
     "output_type": "stream",
     "text": [
      "Epoch 26/30:  16%|██████▋                                   | 3/19 [00:20<01:49,  6.86s/batch, Loss=0.077, Accuracy=99]"
     ]
    },
    {
     "name": "stdout",
     "output_type": "stream",
     "text": [
      "Error loading image E:\\Vehicle\\Vehicle_5_classes_sample\\Auto\\Datacluster Auto (61).jpg: image file is truncated (43 bytes not processed)\n"
     ]
    },
    {
     "name": "stderr",
     "output_type": "stream",
     "text": [
      "Epoch 26/30:  32%|████████████▉                            | 6/19 [00:39<01:24,  6.54s/batch, Loss=0.0713, Accuracy=99]"
     ]
    },
    {
     "name": "stdout",
     "output_type": "stream",
     "text": [
      "Error loading image E:\\Vehicle\\Vehicle_5_classes_sample\\Truck\\Datacluster Truck (123).jpg: image file is truncated (8 bytes not processed)\n"
     ]
    },
    {
     "name": "stderr",
     "output_type": "stream",
     "text": [
      "Epoch 26/30:  37%|██████████████▋                         | 7/19 [00:47<01:21,  6.83s/batch, Loss=0.072, Accuracy=98.7]"
     ]
    },
    {
     "name": "stdout",
     "output_type": "stream",
     "text": [
      "Error loading image E:\\Vehicle\\Vehicle_5_classes_sample\\Tempo Traveller\\20210508_10_11_26_000_bsfUf1M1E9bMsvY4ENiWwUWjDQp2_F_4160_3120.jpg: image file is truncated (39 bytes not processed)\n"
     ]
    },
    {
     "name": "stderr",
     "output_type": "stream",
     "text": [
      "Epoch 26/30:  42%|████████████████▍                      | 8/19 [00:53<01:13,  6.70s/batch, Loss=0.0672, Accuracy=98.8]"
     ]
    },
    {
     "name": "stdout",
     "output_type": "stream",
     "text": [
      "Error loading image E:\\Vehicle\\Vehicle_5_classes_sample\\Bus\\20210518_14_58_52_000_RMkLr8rWJDMBfnDv6WRtqfoMLT83_F_3264_2448.jpg: image file is truncated (111 bytes not processed)\n"
     ]
    },
    {
     "name": "stderr",
     "output_type": "stream",
     "text": [
      "Epoch 26/30:  95%|████████████████████████████████████  | 18/19 [02:00<00:06,  6.64s/batch, Loss=0.0693, Accuracy=97.9]"
     ]
    },
    {
     "name": "stdout",
     "output_type": "stream",
     "text": [
      "Error loading image E:\\Vehicle\\Vehicle_5_classes_sample\\Tempo Traveller\\20210517_06_39_54_000_bsfUf1M1E9bMsvY4ENiWwUWjDQp2_F_4160_3120.jpg: image file is truncated (15 bytes not processed)\n"
     ]
    },
    {
     "name": "stderr",
     "output_type": "stream",
     "text": [
      "Epoch 26/30: 100%|████████████████████████████████████████| 19/19 [02:04<00:00,  6.54s/batch, Loss=0.0687, Accuracy=98]\n"
     ]
    },
    {
     "name": "stdout",
     "output_type": "stream",
     "text": [
      "Epoch [26/30], Loss: 0.06874820364541129, Accuracy: 97.98319327731092%\n"
     ]
    },
    {
     "name": "stderr",
     "output_type": "stream",
     "text": [
      "Epoch 27/30:  16%|██████▍                                  | 3/19 [00:20<01:49,  6.85s/batch, Loss=0.0271, Accuracy=99]"
     ]
    },
    {
     "name": "stdout",
     "output_type": "stream",
     "text": [
      "Error loading image E:\\Vehicle\\Vehicle_5_classes_sample\\Truck\\Datacluster Truck (123).jpg: image file is truncated (8 bytes not processed)\n"
     ]
    },
    {
     "name": "stderr",
     "output_type": "stream",
     "text": [
      "Epoch 27/30:  21%|████████▏                              | 4/19 [00:27<01:44,  6.99s/batch, Loss=0.0246, Accuracy=99.2]"
     ]
    },
    {
     "name": "stdout",
     "output_type": "stream",
     "text": [
      "Error loading image E:\\Vehicle\\Vehicle_5_classes_sample\\Bus\\20210518_14_58_52_000_RMkLr8rWJDMBfnDv6WRtqfoMLT83_F_3264_2448.jpg: image file is truncated (111 bytes not processed)\n"
     ]
    },
    {
     "name": "stderr",
     "output_type": "stream",
     "text": [
      "Epoch 27/30:  32%|█████████████▌                             | 6/19 [00:41<01:30,  6.98s/batch, Loss=0.04, Accuracy=99]"
     ]
    },
    {
     "name": "stdout",
     "output_type": "stream",
     "text": [
      "Error loading image E:\\Vehicle\\Vehicle_5_classes_sample\\Tempo Traveller\\20210517_06_39_54_000_bsfUf1M1E9bMsvY4ENiWwUWjDQp2_F_4160_3120.jpg: image file is truncated (15 bytes not processed)\n"
     ]
    },
    {
     "name": "stderr",
     "output_type": "stream",
     "text": [
      "Epoch 27/30:  47%|██████████████████▍                    | 9/19 [01:01<01:05,  6.53s/batch, Loss=0.0293, Accuracy=99.3]"
     ]
    },
    {
     "name": "stdout",
     "output_type": "stream",
     "text": [
      "Error loading image E:\\Vehicle\\Vehicle_5_classes_sample\\Auto\\Datacluster Auto (61).jpg: image file is truncated (43 bytes not processed)\n"
     ]
    },
    {
     "name": "stderr",
     "output_type": "stream",
     "text": [
      "Epoch 27/30:  68%|██████████████████████████            | 13/19 [01:28<00:39,  6.64s/batch, Loss=0.0244, Accuracy=99.5]"
     ]
    },
    {
     "name": "stdout",
     "output_type": "stream",
     "text": [
      "Error loading image E:\\Vehicle\\Vehicle_5_classes_sample\\Tempo Traveller\\20210508_10_11_26_000_bsfUf1M1E9bMsvY4ENiWwUWjDQp2_F_4160_3120.jpg: image file is truncated (39 bytes not processed)\n"
     ]
    },
    {
     "name": "stderr",
     "output_type": "stream",
     "text": [
      "Epoch 27/30: 100%|██████████████████████████████████████| 19/19 [02:05<00:00,  6.60s/batch, Loss=0.0236, Accuracy=99.5]\n"
     ]
    },
    {
     "name": "stdout",
     "output_type": "stream",
     "text": [
      "Epoch [27/30], Loss: 0.023648804746029015, Accuracy: 99.49579831932773%\n"
     ]
    },
    {
     "name": "stderr",
     "output_type": "stream",
     "text": [
      "Epoch 28/30:  21%|████████▏                              | 4/19 [00:27<01:44,  6.97s/batch, Loss=0.00863, Accuracy=100]"
     ]
    },
    {
     "name": "stdout",
     "output_type": "stream",
     "text": [
      "Error loading image E:\\Vehicle\\Vehicle_5_classes_sample\\Auto\\Datacluster Auto (61).jpg: image file is truncated (43 bytes not processed)\n",
      "Error loading image E:\\Vehicle\\Vehicle_5_classes_sample\\Tempo Traveller\\20210508_10_11_26_000_bsfUf1M1E9bMsvY4ENiWwUWjDQp2_F_4160_3120.jpg: image file is truncated (39 bytes not processed)\n"
     ]
    },
    {
     "name": "stderr",
     "output_type": "stream",
     "text": [
      "Epoch 28/30:  53%|█████████████████████                   | 10/19 [01:08<01:03,  7.07s/batch, Loss=0.012, Accuracy=100]"
     ]
    },
    {
     "name": "stdout",
     "output_type": "stream",
     "text": [
      "Error loading image E:\\Vehicle\\Vehicle_5_classes_sample\\Bus\\20210518_14_58_52_000_RMkLr8rWJDMBfnDv6WRtqfoMLT83_F_3264_2448.jpg: image file is truncated (111 bytes not processed)\n"
     ]
    },
    {
     "name": "stderr",
     "output_type": "stream",
     "text": [
      "Epoch 28/30:  58%|██████████████████████                | 11/19 [01:17<01:00,  7.54s/batch, Loss=0.0191, Accuracy=99.7]"
     ]
    },
    {
     "name": "stdout",
     "output_type": "stream",
     "text": [
      "Error loading image E:\\Vehicle\\Vehicle_5_classes_sample\\Tempo Traveller\\20210517_06_39_54_000_bsfUf1M1E9bMsvY4ENiWwUWjDQp2_F_4160_3120.jpg: image file is truncated (15 bytes not processed)\n"
     ]
    },
    {
     "name": "stderr",
     "output_type": "stream",
     "text": [
      "Epoch 28/30:  89%|██████████████████████████████████    | 17/19 [01:58<00:13,  6.86s/batch, Loss=0.0161, Accuracy=99.6]"
     ]
    },
    {
     "name": "stdout",
     "output_type": "stream",
     "text": [
      "Error loading image E:\\Vehicle\\Vehicle_5_classes_sample\\Truck\\Datacluster Truck (123).jpg: image file is truncated (8 bytes not processed)\n"
     ]
    },
    {
     "name": "stderr",
     "output_type": "stream",
     "text": [
      "Epoch 28/30: 100%|███████████████████████████████████████| 19/19 [02:09<00:00,  6.81s/batch, Loss=0.015, Accuracy=99.7]\n"
     ]
    },
    {
     "name": "stdout",
     "output_type": "stream",
     "text": [
      "Epoch [28/30], Loss: 0.0150231136205165, Accuracy: 99.66386554621849%\n"
     ]
    },
    {
     "name": "stderr",
     "output_type": "stream",
     "text": [
      "Epoch 29/30:  11%|████▏                                   | 2/19 [00:14<01:58,  6.98s/batch, Loss=0.0165, Accuracy=100]"
     ]
    },
    {
     "name": "stdout",
     "output_type": "stream",
     "text": [
      "Error loading image E:\\Vehicle\\Vehicle_5_classes_sample\\Tempo Traveller\\20210517_06_39_54_000_bsfUf1M1E9bMsvY4ENiWwUWjDQp2_F_4160_3120.jpg: image file is truncated (15 bytes not processed)\n",
      "Error loading image E:\\Vehicle\\Vehicle_5_classes_sample\\Bus\\20210518_14_58_52_000_RMkLr8rWJDMBfnDv6WRtqfoMLT83_F_3264_2448.jpg: image file is truncated (111 bytes not processed)\n"
     ]
    },
    {
     "name": "stderr",
     "output_type": "stream",
     "text": [
      "Epoch 29/30:  37%|██████████████▎                        | 7/19 [00:48<01:23,  6.99s/batch, Loss=0.0252, Accuracy=99.6]"
     ]
    },
    {
     "name": "stdout",
     "output_type": "stream",
     "text": [
      "Error loading image E:\\Vehicle\\Vehicle_5_classes_sample\\Tempo Traveller\\20210508_10_11_26_000_bsfUf1M1E9bMsvY4ENiWwUWjDQp2_F_4160_3120.jpg: image file is truncated (39 bytes not processed)\n"
     ]
    },
    {
     "name": "stderr",
     "output_type": "stream",
     "text": [
      "Epoch 29/30:  74%|████████████████████████████          | 14/19 [01:36<00:33,  6.61s/batch, Loss=0.0238, Accuracy=99.3]"
     ]
    },
    {
     "name": "stdout",
     "output_type": "stream",
     "text": [
      "Error loading image E:\\Vehicle\\Vehicle_5_classes_sample\\Truck\\Datacluster Truck (123).jpg: image file is truncated (8 bytes not processed)\n"
     ]
    },
    {
     "name": "stderr",
     "output_type": "stream",
     "text": [
      "Epoch 29/30:  89%|██████████████████████████████████    | 17/19 [01:57<00:13,  6.89s/batch, Loss=0.0198, Accuracy=99.4]"
     ]
    },
    {
     "name": "stdout",
     "output_type": "stream",
     "text": [
      "Error loading image E:\\Vehicle\\Vehicle_5_classes_sample\\Auto\\Datacluster Auto (61).jpg: image file is truncated (43 bytes not processed)\n"
     ]
    },
    {
     "name": "stderr",
     "output_type": "stream",
     "text": [
      "Epoch 29/30: 100%|██████████████████████████████████████| 19/19 [02:07<00:00,  6.69s/batch, Loss=0.0184, Accuracy=99.5]\n"
     ]
    },
    {
     "name": "stdout",
     "output_type": "stream",
     "text": [
      "Epoch [29/30], Loss: 0.018386745972460823, Accuracy: 99.49579831932773%\n"
     ]
    },
    {
     "name": "stderr",
     "output_type": "stream",
     "text": [
      "Epoch 30/30:  16%|██████▏                                | 3/19 [00:18<01:40,  6.27s/batch, Loss=0.00935, Accuracy=100]"
     ]
    },
    {
     "name": "stdout",
     "output_type": "stream",
     "text": [
      "Error loading image E:\\Vehicle\\Vehicle_5_classes_sample\\Tempo Traveller\\20210508_10_11_26_000_bsfUf1M1E9bMsvY4ENiWwUWjDQp2_F_4160_3120.jpg: image file is truncated (39 bytes not processed)\n"
     ]
    },
    {
     "name": "stderr",
     "output_type": "stream",
     "text": [
      "Epoch 30/30:  26%|██████████▎                            | 5/19 [00:32<01:35,  6.80s/batch, Loss=0.00684, Accuracy=100]"
     ]
    },
    {
     "name": "stdout",
     "output_type": "stream",
     "text": [
      "Error loading image E:\\Vehicle\\Vehicle_5_classes_sample\\Bus\\20210518_14_58_52_000_RMkLr8rWJDMBfnDv6WRtqfoMLT83_F_3264_2448.jpg: image file is truncated (111 bytes not processed)\n"
     ]
    },
    {
     "name": "stderr",
     "output_type": "stream",
     "text": [
      "Epoch 30/30:  42%|████████████████▍                      | 8/19 [00:52<01:11,  6.47s/batch, Loss=0.00519, Accuracy=100]"
     ]
    },
    {
     "name": "stdout",
     "output_type": "stream",
     "text": [
      "Error loading image E:\\Vehicle\\Vehicle_5_classes_sample\\Auto\\Datacluster Auto (61).jpg: image file is truncated (43 bytes not processed)\n"
     ]
    },
    {
     "name": "stderr",
     "output_type": "stream",
     "text": [
      "Epoch 30/30:  53%|████████████████████                  | 10/19 [01:06<01:00,  6.71s/batch, Loss=0.00581, Accuracy=100]"
     ]
    },
    {
     "name": "stdout",
     "output_type": "stream",
     "text": [
      "Error loading image E:\\Vehicle\\Vehicle_5_classes_sample\\Tempo Traveller\\20210517_06_39_54_000_bsfUf1M1E9bMsvY4ENiWwUWjDQp2_F_4160_3120.jpg: image file is truncated (15 bytes not processed)\n"
     ]
    },
    {
     "name": "stderr",
     "output_type": "stream",
     "text": [
      "Epoch 30/30:  79%|██████████████████████████████        | 15/19 [01:41<00:27,  6.95s/batch, Loss=0.00437, Accuracy=100]"
     ]
    },
    {
     "name": "stdout",
     "output_type": "stream",
     "text": [
      "Error loading image E:\\Vehicle\\Vehicle_5_classes_sample\\Truck\\Datacluster Truck (123).jpg: image file is truncated (8 bytes not processed)\n"
     ]
    },
    {
     "name": "stderr",
     "output_type": "stream",
     "text": [
      "Epoch 30/30: 100%|█████████████████████████████████████| 19/19 [02:05<00:00,  6.58s/batch, Loss=0.00883, Accuracy=99.8]"
     ]
    },
    {
     "name": "stdout",
     "output_type": "stream",
     "text": [
      "Epoch [30/30], Loss: 0.008831676754389742, Accuracy: 99.83193277310924%\n"
     ]
    },
    {
     "name": "stderr",
     "output_type": "stream",
     "text": [
      "\n"
     ]
    }
   ],
   "source": [
    "# Training the model with progress bar\n",
    "def train_model(model, criterion, optimizer, train_loader, num_epochs=30):\n",
    "    model.train()\n",
    "    for epoch in range(num_epochs):\n",
    "        running_loss = 0.0\n",
    "        correct = 0\n",
    "        total = 0\n",
    "        with tqdm(total=len(train_loader), desc=f'Epoch {epoch+1}/{num_epochs}', unit='batch') as pbar:\n",
    "            for images, labels in train_loader:\n",
    "                images, labels = images.to(device), labels.to(device)\n",
    "                \n",
    "                optimizer.zero_grad()\n",
    "                \n",
    "                outputs = model(images)\n",
    "                loss = criterion(outputs, labels)\n",
    "                loss.backward()\n",
    "                optimizer.step()\n",
    "                \n",
    "                running_loss += loss.item()\n",
    "                _, predicted = torch.max(outputs, 1)\n",
    "                total += labels.size(0)\n",
    "                correct += (predicted == labels).sum().item()\n",
    "                \n",
    "                pbar.set_postfix({'Loss': running_loss / (pbar.n + 1), 'Accuracy': 100 * correct / total})\n",
    "                pbar.update(1)\n",
    "                \n",
    "        print(f'Epoch [{epoch+1}/{num_epochs}], Loss: {running_loss/len(train_loader)}, Accuracy: {100 * correct / total}%')\n",
    "\n",
    "train_model(model, criterion, optimizer, train_loader)\n"
   ]
  },
  {
   "cell_type": "code",
   "execution_count": 12,
   "id": "17aa1289",
   "metadata": {},
   "outputs": [],
   "source": [
    " #Save the model\n",
    "torch.save(model.state_dict(), 'E:/Vehicle/model/resnet50_model.pth')"
   ]
  },
  {
   "cell_type": "code",
   "execution_count": 16,
   "id": "9880b77c",
   "metadata": {},
   "outputs": [
    {
     "name": "stdout",
     "output_type": "stream",
     "text": [
      "Test Accuracy: 61.74496644295302%\n"
     ]
    }
   ],
   "source": [
    "# Evaluation\n",
    "model.eval()\n",
    "correct = 0\n",
    "total = 0\n",
    "all_preds = []\n",
    "all_labels = []\n",
    "\n",
    "with torch.no_grad():\n",
    "    for images, labels in test_loader:\n",
    "        images, labels = images.to(device), labels.to(device)\n",
    "        outputs = model(images)\n",
    "        _, predicted = torch.max(outputs, 1)\n",
    "        total += labels.size(0)\n",
    "        correct += (predicted == labels).sum().item()\n",
    "        all_preds.extend(predicted.cpu().numpy())\n",
    "        all_labels.extend(labels.cpu().numpy())\n",
    "\n",
    "print(f'Test Accuracy: {100 * correct / total}%')"
   ]
  },
  {
   "cell_type": "code",
   "execution_count": 17,
   "id": "b47acbd2",
   "metadata": {},
   "outputs": [
    {
     "data": {
      "image/png": "[encoded data removed]",
      "text/plain": [
       "<Figure size 1000x700 with 2 Axes>"
      ]
     },
     "metadata": {},
     "output_type": "display_data"
    },
    {
     "name": "stdout",
     "output_type": "stream",
     "text": [
      "                 precision    recall  f1-score   support\n",
      "\n",
      "          Truck       0.75      0.69      0.72        35\n",
      "           Auto       0.49      0.73      0.59        33\n",
      "            Bus       0.56      0.38      0.45        26\n",
      "        Tractor       0.67      0.67      0.67        21\n",
      "Tempo Traveller       0.69      0.59      0.63        34\n",
      "\n",
      "       accuracy                           0.62       149\n",
      "      macro avg       0.63      0.61      0.61       149\n",
      "   weighted avg       0.63      0.62      0.62       149\n",
      "\n"
     ]
    }
   ],
   "source": [
    "# Plot confusion matrix\n",
    "from sklearn.metrics import confusion_matrix, classification_report\n",
    "import seaborn as sns\n",
    "\n",
    "cm = confusion_matrix(all_labels, all_preds)\n",
    "plt.figure(figsize=(10, 7))\n",
    "sns.heatmap(cm, annot=True, fmt='d', cmap='Blues', xticklabels=list(label_to_idx.keys()), yticklabels=list(label_to_idx.keys()))\n",
    "plt.xlabel('Predicted')\n",
    "plt.ylabel('True')\n",
    "plt.title('Confusion Matrix for ResNet50')\n",
    "plt.show()\n",
    "\n",
    "# Classification report\n",
    "print(classification_report(all_labels, all_preds, target_names=list(label_to_idx.keys())))"
   ]
  },
  {
   "cell_type": "code",
   "execution_count": 24,
   "id": "7ab806c5",
   "metadata": {},
   "outputs": [
    {
     "name": "stdout",
     "output_type": "stream",
     "text": [
      "Model Test Accuracy: 61.74%\n"
     ]
    },
    {
     "data": {
      "image/png": "[encoded data removed]",
      "text/plain": [
       "<Figure size 640x480 with 1 Axes>"
      ]
     },
     "metadata": {},
     "output_type": "display_data"
    },
    {
     "name": "stdout",
     "output_type": "stream",
     "text": [
      "Predicted Class: Auto with Prediction Accuracy: 97.20%\n"
     ]
    }
   ],
   "source": [
    "import cv2\n",
    "import numpy as np\n",
    "import torch\n",
    "from torchvision import transforms\n",
    "from PIL import Image\n",
    "import matplotlib.pyplot as plt\n",
    "import torch.nn.functional as F\n",
    "\n",
    "# Assuming the model and other variables are already defined above this point\n",
    "# device, label_to_idx, idx_to_label, transform, model\n",
    "\n",
    "# Load the model weights\n",
    "model.load_state_dict(torch.load('E:/Vehicle/model/resnet50_model.pth'))\n",
    "model.eval()\n",
    "\n",
    "# Function to evaluate the model accuracy on the test dataset\n",
    "def evaluate_model(test_loader):\n",
    "    model.eval()\n",
    "    correct = 0\n",
    "    total = 0\n",
    "\n",
    "    with torch.no_grad():\n",
    "        for images, labels in test_loader:\n",
    "            images, labels = images.to(device), labels.to(device)\n",
    "            outputs = model(images)\n",
    "            _, predicted = torch.max(outputs, 1)\n",
    "            total += labels.size(0)\n",
    "            correct += (predicted == labels).sum().item()\n",
    "\n",
    "    accuracy = 100 * correct / total\n",
    "    return accuracy\n",
    "\n",
    "# Function to predict the class of a given image\n",
    "def predict_image(image_path):\n",
    "    # Load and preprocess the image\n",
    "    image = Image.open(image_path).convert('RGB')\n",
    "    image = transform(image)  # Apply the same transformations as used during training\n",
    "    image = image.unsqueeze(0)  # Add a batch dimension\n",
    "\n",
    "    # Move the image to the appropriate device\n",
    "    image = image.to(device)\n",
    "\n",
    "    # Make predictions\n",
    "    with torch.no_grad():\n",
    "        outputs = model(image)\n",
    "        probabilities = F.softmax(outputs, dim=1)\n",
    "        _, predicted = torch.max(outputs, 1)\n",
    "        predicted_class_idx = predicted.item()\n",
    "        predicted_label = idx_to_label[predicted_class_idx]\n",
    "        accuracy = probabilities[0][predicted_class_idx].item() * 100\n",
    "\n",
    "    # Load the image using OpenCV for displaying\n",
    "    img_cv2 = cv2.imread(image_path)\n",
    "    img_cv2 = cv2.cvtColor(img_cv2, cv2.COLOR_BGR2RGB)  # Convert BGR to RGB\n",
    "\n",
    "    # Display the image and predicted class label with accuracy\n",
    "    plt.imshow(img_cv2)\n",
    "    plt.title(f'Predicted Class: {predicted_label} ({accuracy:.2f}%)')\n",
    "    plt.axis('off')\n",
    "    plt.show()\n",
    "\n",
    "    return predicted_label, accuracy\n",
    "\n",
    "# Calculate the overall model accuracy on the test dataset\n",
    "test_accuracy = evaluate_model(test_loader)\n",
    "print(f'Model Test Accuracy: {test_accuracy:.2f}%')\n",
    "\n",
    "# Example usage to predict and display the class of a single image\n",
    "image_path =r'C:\\Users\\anand\\Downloads\\rickshaw-1196193_640.jpg'\n",
    "predicted_label, accuracy = predict_image(image_path)\n",
    "print(f\"Predicted Class: {predicted_label} with Prediction Accuracy: {accuracy:.2f}%\")\n"
   ]
  },
  {
   "cell_type": "code",
   "execution_count": null,
   "id": "16af1a7f",
   "metadata": {},
   "outputs": [],
   "source": []
  }
 ],
 "metadata": {
  "kernelspec": {
   "display_name": "Python 3 (ipykernel)",
   "language": "python",
   "name": "python3"
  },
  "language_info": {
   "codemirror_mode": {
    "name": "ipython",
    "version": 3
   },
   "file_extension": ".py",
   "mimetype": "text/x-python",
   "name": "python",
   "nbconvert_exporter": "python",
   "pygments_lexer": "ipython3",
   "version": "3.11.7"
  }
 },
 "nbformat": 4,
 "nbformat_minor": 5
}
